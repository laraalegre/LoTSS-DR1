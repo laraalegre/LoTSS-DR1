{
 "cells": [
  {
   "cell_type": "markdown",
   "metadata": {},
   "source": [
    "# LoTSS DR1\n",
    "## PyBDSF radio properties"
   ]
  },
  {
   "cell_type": "code",
   "execution_count": 182,
   "metadata": {},
   "outputs": [],
   "source": [
    "import pandas as pd\n",
    "import numpy as np\n",
    "from astropy.table import Table, join"
   ]
  },
  {
   "cell_type": "markdown",
   "metadata": {},
   "source": [
    "#### CATALOGUES"
   ]
  },
  {
   "cell_type": "code",
   "execution_count": 183,
   "metadata": {},
   "outputs": [],
   "source": [
    "# Creating a function to read the fits catalogues\n",
    "def read_fits(file):\n",
    "    'converts a fits table to pandas format'\n",
    "    cat = Table.read(file)\n",
    "    return cat.to_pandas()"
   ]
  },
  {
   "cell_type": "code",
   "execution_count": 184,
   "metadata": {},
   "outputs": [],
   "source": [
    "# Loading the cleaned catalogues - PyBDSF - Optical associations over the HETDEX field\n",
    "# from PyBDSF_DR1_associations.ipynb \n",
    "\n",
    "# Gaussian catalogue \n",
    "gauss = read_fits('gauss_cleaned.fits')\n",
    "# Cleaned pybdsf catalogue \n",
    "pybdsf = read_fits('pybdsf_cleaned.fits')\n",
    "# Output_table \n",
    "pybdsf_optical = read_fits('output_table.fits')"
   ]
  },
  {
   "cell_type": "code",
   "execution_count": 185,
   "metadata": {},
   "outputs": [],
   "source": [
    "# Renaming columns (easier to merge)\n",
    "pybdsf_optical = pybdsf_optical.rename(columns={'pybdsf_name':'Source_Name'})"
   ]
  },
  {
   "cell_type": "markdown",
   "metadata": {},
   "source": [
    "#### CREATING THE OUTPUT"
   ]
  },
  {
   "cell_type": "code",
   "execution_count": 186,
   "metadata": {},
   "outputs": [],
   "source": [
    "# Taking the number of gaussians that make up each source\n",
    "n_gauss = pd.DataFrame({'Source_Name': gauss['Source_Name'].value_counts().index,\n",
    "                        'n_gauss':gauss['Source_Name'].value_counts().values})"
   ]
  },
  {
   "cell_type": "code",
   "execution_count": 187,
   "metadata": {},
   "outputs": [],
   "source": [
    "# Creating an output table\n",
    "output = pd.DataFrame(columns = ['Source_Name','Min' ,'Maj', 'n_gauss', 'flag'])\n",
    "\n",
    "# Selecting sources with flags:\n",
    "flag = 1, 4, 8, 16\n",
    "\n",
    "# Creating the dataframe\n",
    "for i in flag:\n",
    "    \n",
    "    # Taking the source names\n",
    "    source_names = pybdsf[pybdsf['Source_Name'].\n",
    "                          isin(pybdsf_optical[pybdsf_optical['flag'] == i]['Source_Name'])]\n",
    "    \n",
    "    # Merging the 3 catalogues: \n",
    "    # - gaussians,\n",
    "    # - radio pybdfs properties,\n",
    "    # - and pybdsf_optical associations\n",
    "    merged_cat = source_names.merge(n_gauss,on = 'Source_Name').merge(pybdsf_optical, on = 'Source_Name')\\\n",
    "                                    [['Source_Name','Min' ,'Maj', 'n_gauss', 'flag']]\n",
    "    \n",
    "    # Dealing with the deblended sources with flags 4 which have also a flag 12 associated\n",
    "    if i == 4:\n",
    "        # Selecting the PyBDSFs that share both flags\n",
    "        shared_sources = merged_cat[merged_cat['flag'] == 12]['Source_Name']\n",
    "        shared_sources_df = merged_cat[merged_cat['Source_Name'].isin(shared_sources)]\n",
    "        # Dropping these from the merged catalogue and eliminating duplicated rows\n",
    "        merged_cat = merged_cat.drop(shared_sources_df.index.values).drop_duplicates()  \n",
    "    else:\n",
    "        # For the other flags it is a one-to-one relation\n",
    "        pass\n",
    "    \n",
    "    # Creating a copy of the merged catalogue to change the flags \n",
    "    df = merged_cat.copy()\n",
    "    # Giving flags 1,2,3,4 to each group \n",
    "    df['flag'] = int(round(np.sqrt(i)))\n",
    "    \n",
    "    # Appending all the sources \n",
    "    output = output.append(df, ignore_index=True)"
   ]
  },
  {
   "cell_type": "markdown",
   "metadata": {},
   "source": [
    "#### CONFIRMING THE NUMBER OF SOURCES"
   ]
  },
  {
   "cell_type": "code",
   "execution_count": 308,
   "metadata": {},
   "outputs": [
    {
     "name": "stdout",
     "output_type": "stream",
     "text": [
      "('total:', 325568)\n",
      "('flag', 1, 313161)\n",
      "('flag', 2, 857)\n",
      "('flag', 3, 9007)\n",
      "('flag', 4, 2543)\n"
     ]
    }
   ],
   "source": [
    "print ('total:', len(output))\n",
    "new_flags = 1, 2, 3, 4\n",
    "for i in new_flags:\n",
    "    print ('flag', i, len(output[output['flag'] == i]))"
   ]
  },
  {
   "cell_type": "code",
   "execution_count": 311,
   "metadata": {},
   "outputs": [
    {
     "data": {
      "text/plain": [
       "857"
      ]
     },
     "execution_count": 311,
     "metadata": {},
     "output_type": "execute_result"
    }
   ],
   "source": [
    "# we get this number of deblended sources because of the ones in common with flag 12 (23 sources)\n",
    "len(pybdsf_optical[pybdsf_optical['flag'] == 4].groupby('Source_Name')) - 23"
   ]
  },
  {
   "cell_type": "code",
   "execution_count": 313,
   "metadata": {},
   "outputs": [
    {
     "data": {
      "text/plain": [
       "126"
      ]
     },
     "execution_count": 313,
     "metadata": {},
     "output_type": "execute_result"
    }
   ],
   "source": [
    "# Difference number between the catalogues\n",
    "len(pybdsf_optical.groupby('Source_Name')) - len(output)"
   ]
  },
  {
   "cell_type": "code",
   "execution_count": 314,
   "metadata": {},
   "outputs": [
    {
     "data": {
      "text/plain": [
       "0"
      ]
     },
     "execution_count": 314,
     "metadata": {},
     "output_type": "execute_result"
    }
   ],
   "source": [
    "# Confirming where the difference comes from\n",
    "len(pybdsf_optical.groupby('Source_Name')) - len(output) -\\\n",
    "len(pybdsf_optical[pybdsf_optical['flag'] == 32]) -\\\n",
    "len(pybdsf_optical[pybdsf_optical['flag'] == 3]) -\\\n",
    "len(pybdsf_optical[pybdsf_optical['flag'] == 10]) -\\\n",
    "len(pybdsf_optical[pybdsf_optical['flag'] == 12].groupby('Source_Name'))"
   ]
  },
  {
   "cell_type": "markdown",
   "metadata": {},
   "source": [
    "#### EXPORTING THE RESULTS"
   ]
  },
  {
   "cell_type": "code",
   "execution_count": 324,
   "metadata": {},
   "outputs": [],
   "source": [
    "# Need to change to numeric before exporting...\n",
    "output['flag'] = pd.to_numeric(output['flag'])\n",
    "output['n_gauss'] = pd.to_numeric(output['n_gauss'])\n",
    "# Making an astropy table\n",
    "output_cat = Table.from_pandas(output)\n",
    "output_cat.write('output_radio.fits', overwrite = True)"
   ]
  }
 ],
 "metadata": {
  "kernelspec": {
   "display_name": "Python [conda env:miniconda2]",
   "language": "python",
   "name": "conda-env-miniconda2-py"
  },
  "language_info": {
   "codemirror_mode": {
    "name": "ipython",
    "version": 2
   },
   "file_extension": ".py",
   "mimetype": "text/x-python",
   "name": "python",
   "nbconvert_exporter": "python",
   "pygments_lexer": "ipython2",
   "version": "2.7.14"
  }
 },
 "nbformat": 4,
 "nbformat_minor": 2
}
