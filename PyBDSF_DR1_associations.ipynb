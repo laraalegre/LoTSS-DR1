{
 "cells": [
  {
   "cell_type": "markdown",
   "metadata": {},
   "source": [
    "## PyBDSF - LoTSS DR1 COMPACT V2"
   ]
  },
  {
   "cell_type": "markdown",
   "metadata": {},
   "source": [
    "***\n",
    "\n",
    "This notebook outputs a table with the association between the raw PyBDSF catalogue and the final optical catalogue. \n",
    "It includes:\n",
    "* The [original catalogues](#Original-catalogues) \n",
    "* The [cleaned catalogues](#Cleaned-catalogues)\n",
    "* The [ouput table](#Output)\n",
    "\n",
    "The output table consists of:\n",
    "* `pybdsf_name` : original raw catalogue PyBDSF ` Source_Name `\n",
    "* `association_name` : optical v1.2 catalogue `Source_Name`\n",
    "* Diagnosis `flag` : [artifacts](#Artifacts) (1), [deblended sources](#Deblended-sources) (4), [multi pybdsf component sources](#Multi-pybdsf-component-sources) (2), [single sources](#Single-sources) (8) or a combination of diagnosis [deblended and multi pybdsf component sources](#Deblended-sources-that-were-both-deblended-and-associated-to-a-bigger-source) (6)\n",
    "\n",
    "***"
   ]
  },
  {
   "cell_type": "markdown",
   "metadata": {},
   "source": [
    "** Libraries ** "
   ]
  },
  {
   "cell_type": "code",
   "execution_count": 4,
   "metadata": {},
   "outputs": [],
   "source": [
    "import pandas as pd\n",
    "import numpy as np\n",
    "from astropy.table import Table, join"
   ]
  },
  {
   "cell_type": "markdown",
   "metadata": {},
   "source": [
    "### Original catalogues"
   ]
  },
  {
   "cell_type": "code",
   "execution_count": 5,
   "metadata": {},
   "outputs": [],
   "source": [
    "def read_fits(file):\n",
    "    cat = Table.read(file)\n",
    "    return cat.to_pandas()"
   ]
  },
  {
   "cell_type": "code",
   "execution_count": 6,
   "metadata": {},
   "outputs": [],
   "source": [
    "# Raw PyBDSF catalogue\n",
    "pybdsf = read_fits('data/LOFAR_HBA_T1_DR1_catalog_v0.9.srl.fixed.fits')\n",
    "# V1.2 LoTSS DR1 catalogues\n",
    "optical = read_fits('data/v1.2/LOFAR_HBA_T1_DR1_merge_ID_optical_f_v1.2.fits')\n",
    "components = read_fits('data/v1.2/LOFAR_HBA_T1_DR1_merge_ID_v1.2.comp.fits')\n",
    "# Artifacts catalogue\n",
    "artifacts = read_fits('data/LOFAR_HBA_T1_DR1_merge_ID_v1.1.art.fits')"
   ]
  },
  {
   "cell_type": "markdown",
   "metadata": {},
   "source": [
    "### Cleaned catalogues"
   ]
  },
  {
   "cell_type": "markdown",
   "metadata": {},
   "source": [
    " ** Artifact catalogue **\n",
    " \n",
    "Cleaned artifact catalogue with RENAMED source that was picked on 2 different mosaics (and has the same `Source_Name`) and which was classified as an artifact in one mosaic and as a source in other."
   ]
  },
  {
   "cell_type": "code",
   "execution_count": 14,
   "metadata": {},
   "outputs": [
    {
     "data": {
      "text/plain": [
       "'ILTJ132633.10+484745.7'"
      ]
     },
     "execution_count": 14,
     "metadata": {},
     "output_type": "execute_result"
    },
    {
     "name": "stdout",
     "output_type": "stream",
     "text": [
      "\n"
     ]
    }
   ],
   "source": [
    "# Taking the name of the duplicated entry on the pybdsf catalogue\n",
    "pybdsf_duplicated = np.array(pybdsf[pybdsf.duplicated('Source_Name')]['Source_Name'])[0]\n",
    "pybdsf_duplicated"
   ]
  },
  {
   "cell_type": "code",
   "execution_count": 16,
   "metadata": {},
   "outputs": [],
   "source": [
    "# Creating a copy for the new artifact catalogue\n",
    "artifacts_cleaned = artifacts.copy()\n",
    "# Replacing the original name\n",
    "clean_art = artifacts_cleaned['Source_Name'].replace({pybdsf_duplicated:pybdsf_duplicated+'B'})\n",
    "# Updating the new catalogue\n",
    "artifacts_cleaned.update(clean_art)"
   ]
  },
  {
   "cell_type": "markdown",
   "metadata": {},
   "source": [
    "** Pybdsf catalogue **"
   ]
  },
  {
   "cell_type": "code",
   "execution_count": 17,
   "metadata": {},
   "outputs": [],
   "source": [
    "# Creating a copy for the new pybdsf catalogue\n",
    "pybdsf_cleaned = pybdsf.copy()\n",
    "# Replacing the original name\n",
    "clean_py = pybdsf[pybdsf.duplicated('Source_Name', keep = 'last')].\\\n",
    "        replace({pybdsf_duplicated:pybdsf_duplicated+'B'})\n",
    "# Updating the new catalogue\n",
    "pybdsf_cleaned.update(clean_py)"
   ]
  },
  {
   "cell_type": "markdown",
   "metadata": {},
   "source": [
    "** Components catalogue ** "
   ]
  },
  {
   "cell_type": "markdown",
   "metadata": {},
   "source": [
    "Source Names are duplicated in LoTSS DR1 component catalogue (9 equal source name components). This are entries where `Source_Name = Component_Name` (= pybdsf name)."
   ]
  },
  {
   "cell_type": "code",
   "execution_count": 18,
   "metadata": {},
   "outputs": [],
   "source": [
    "# Eliminating these from the components catalogue (and just keeping the first entry)\n",
    "components_cleaned = components.drop_duplicates('Component_Name', keep = 'first')"
   ]
  },
  {
   "cell_type": "markdown",
   "metadata": {},
   "source": [
    "### Creating a diagnosis output table outline "
   ]
  },
  {
   "cell_type": "code",
   "execution_count": 19,
   "metadata": {},
   "outputs": [
    {
     "data": {
      "text/html": [
       "<div>\n",
       "<style>\n",
       "    .dataframe thead tr:only-child th {\n",
       "        text-align: right;\n",
       "    }\n",
       "\n",
       "    .dataframe thead th {\n",
       "        text-align: left;\n",
       "    }\n",
       "\n",
       "    .dataframe tbody tr th {\n",
       "        vertical-align: top;\n",
       "    }\n",
       "</style>\n",
       "<table border=\"1\" class=\"dataframe\">\n",
       "  <thead>\n",
       "    <tr style=\"text-align: right;\">\n",
       "      <th></th>\n",
       "      <th>pybdsf_name</th>\n",
       "      <th>association_name</th>\n",
       "      <th>flag</th>\n",
       "    </tr>\n",
       "  </thead>\n",
       "  <tbody>\n",
       "  </tbody>\n",
       "</table>\n",
       "</div>"
      ],
      "text/plain": [
       "Empty DataFrame\n",
       "Columns: [pybdsf_name, association_name, flag]\n",
       "Index: []"
      ]
     },
     "execution_count": 19,
     "metadata": {},
     "output_type": "execute_result"
    }
   ],
   "source": [
    "col_names =  ['pybdsf_name', 'association_name', 'flag']\n",
    "output_table  = pd.DataFrame(columns = col_names)\n",
    "output_table"
   ]
  },
  {
   "cell_type": "markdown",
   "metadata": {},
   "source": [
    "\n",
    "***\n",
    "## Artifacts\n",
    "***\n"
   ]
  },
  {
   "cell_type": "code",
   "execution_count": 20,
   "metadata": {},
   "outputs": [],
   "source": [
    "pybdsf_artifacts = pybdsf_cleaned[pybdsf_cleaned['Source_Name'].\n",
    "                    isin(artifacts_cleaned['Source_Name'])]"
   ]
  },
  {
   "cell_type": "markdown",
   "metadata": {},
   "source": [
    "Diagnosis artifact table"
   ]
  },
  {
   "cell_type": "code",
   "execution_count": 21,
   "metadata": {},
   "outputs": [],
   "source": [
    "pybdsf_artifacts_df = pd.DataFrame({\n",
    "    'pybdsf_name':pybdsf_artifacts['Source_Name'],\n",
    "    'flag':1,\n",
    "    'association_name': 'NULL'})"
   ]
  },
  {
   "cell_type": "markdown",
   "metadata": {},
   "source": [
    "Updating output table"
   ]
  },
  {
   "cell_type": "code",
   "execution_count": 22,
   "metadata": {},
   "outputs": [
    {
     "name": "stdout",
     "output_type": "stream",
     "text": [
      "Length of output table is 2543 and it should be 2543\n"
     ]
    }
   ],
   "source": [
    "output_table = output_table.append(pybdsf_artifacts_df, ignore_index=True)\n",
    "print 'Length of output table is', len(output_table), 'and it should be', len(pybdsf_artifacts_df)"
   ]
  },
  {
   "cell_type": "markdown",
   "metadata": {},
   "source": [
    "***\n",
    "***\n",
    "## Deblended sources\n",
    "\n"
   ]
  },
  {
   "cell_type": "markdown",
   "metadata": {},
   "source": [
    "Deblended sources are sources that were originally identified by PyBDSF as only one source. In the final optical catalogue (after deblending) they can have:\n",
    "\n",
    "* 2 (or more) different `Source_Name`\n",
    "* 1 has `Source_Name` equal to PyBDSF and one (or more) different **\n",
    "\n",
    "** PyBDSF deblended sources should have 2 different Source_Names after deblending, however in some cases, one of the deblended sources can keep the original PyBDSF name while the other change its source name. For that reason some PyBDSF sources should appear on the optical catalogue and others should not.\n",
    "\n",
    "***"
   ]
  },
  {
   "cell_type": "markdown",
   "metadata": {},
   "source": [
    "Having a look at all the sources that were sent to a deblend workflow (`ID_flag = 41`) or selected for deblending on LGZ  (`ID_flag = 42`):"
   ]
  },
  {
   "cell_type": "code",
   "execution_count": 23,
   "metadata": {},
   "outputs": [
    {
     "data": {
      "text/plain": [
       "(2435, 3092)"
      ]
     },
     "execution_count": 23,
     "metadata": {},
     "output_type": "execute_result"
    }
   ],
   "source": [
    "# on the optical catalogue and on the components catalogue\n",
    "len(optical[(optical['ID_flag'] == 41) | (optical['ID_flag'] == 42)]),\\\n",
    "len(components_cleaned[(components_cleaned['ID_flag'] == 41) | (components_cleaned['ID_flag'] == 42)])"
   ]
  },
  {
   "cell_type": "markdown",
   "metadata": {},
   "source": [
    "Note that some of them were not deblended (and some are actually part of a bigger source):"
   ]
  },
  {
   "cell_type": "code",
   "execution_count": 24,
   "metadata": {},
   "outputs": [
    {
     "data": {
      "text/plain": [
       "(641, 646, 641)"
      ]
     },
     "execution_count": 24,
     "metadata": {},
     "output_type": "execute_result"
    }
   ],
   "source": [
    "len(optical[((optical['ID_flag'] == 41) | (optical['ID_flag'] == 42)) &\\\n",
    "            (optical['Deblended_from'] == '')]),\\\n",
    "len(components_cleaned[((components_cleaned['ID_flag'] == 41) | (components_cleaned['ID_flag'] == 42)) &\\\n",
    "               (components_cleaned['Deblended_from'] == '')]),\\\n",
    "len(components_cleaned[((components_cleaned['ID_flag'] == 41) | (components_cleaned['ID_flag'] == 42)) &\\\n",
    "               (components_cleaned['Deblended_from'] == '')].groupby('Source_Name'))"
   ]
  },
  {
   "cell_type": "markdown",
   "metadata": {},
   "source": [
    "Taking the **components catalogue **(which links directly to pybdsf catalogue through `Deblended_from` )"
   ]
  },
  {
   "cell_type": "code",
   "execution_count": 25,
   "metadata": {},
   "outputs": [
    {
     "data": {
      "text/plain": [
       "935"
      ]
     },
     "execution_count": 25,
     "metadata": {},
     "output_type": "execute_result"
    }
   ],
   "source": [
    "# Total number of pybdsf sources that were deblended\n",
    "len(components_cleaned[components_cleaned['Deblended_from'] != ''].groupby('Deblended_from'))"
   ]
  },
  {
   "cell_type": "code",
   "execution_count": 26,
   "metadata": {},
   "outputs": [
    {
     "data": {
      "text/plain": [
       "2446"
      ]
     },
     "execution_count": 26,
     "metadata": {},
     "output_type": "execute_result"
    }
   ],
   "source": [
    "# Total number of components that make these pybdsf \n",
    "components_deblended = components_cleaned[components_cleaned['Deblended_from'] != '']\n",
    "len(components_deblended)"
   ]
  },
  {
   "cell_type": "code",
   "execution_count": 27,
   "metadata": {},
   "outputs": [
    {
     "data": {
      "text/plain": [
       "1794"
      ]
     },
     "execution_count": 27,
     "metadata": {},
     "output_type": "execute_result"
    }
   ],
   "source": [
    "# Total number of sources after deblending\n",
    "len(components_deblended.groupby('Source_Name'))"
   ]
  },
  {
   "cell_type": "markdown",
   "metadata": {},
   "source": [
    "***\n",
    "** Pybdsf deblended table **\n",
    "***"
   ]
  },
  {
   "cell_type": "markdown",
   "metadata": {},
   "source": [
    "We have to search each pybdsf in `components_deblended` and take the correct association name:"
   ]
  },
  {
   "cell_type": "code",
   "execution_count": 28,
   "metadata": {},
   "outputs": [
    {
     "data": {
      "text/plain": [
       "935"
      ]
     },
     "execution_count": 28,
     "metadata": {},
     "output_type": "execute_result"
    }
   ],
   "source": [
    "deblended_pybdsf_names = components_deblended.drop_duplicates('Deblended_from')['Deblended_from']\n",
    "len(deblended_pybdsf_names)"
   ]
  },
  {
   "cell_type": "markdown",
   "metadata": {},
   "source": [
    "This is because 1 Pybdsf source can have been deblended into 2 (or more) sources directly; or deblended and then association to other source. For that reason after droping duplicated association names (`Source_Name` below), we are missing some of the original pybdsf names:"
   ]
  },
  {
   "cell_type": "code",
   "execution_count": 29,
   "metadata": {},
   "outputs": [
    {
     "data": {
      "text/plain": [
       "908"
      ]
     },
     "execution_count": 29,
     "metadata": {},
     "output_type": "execute_result"
    }
   ],
   "source": [
    "len((components_deblended.drop_duplicates('Source_Name')).groupby('Deblended_from'))"
   ]
  },
  {
   "cell_type": "markdown",
   "metadata": {},
   "source": [
    "Creating the deblended table"
   ]
  },
  {
   "cell_type": "code",
   "execution_count": 30,
   "metadata": {},
   "outputs": [],
   "source": [
    "pybdsf_deblended_df = pd.DataFrame(columns = col_names)\n",
    "for i in range(0,len(deblended_pybdsf_names)):\n",
    "    corresp = components_deblended[components_deblended['Deblended_from'] == deblended_pybdsf_names.\n",
    "                                   iloc[i]][['Deblended_from','Source_Name']]\n",
    "    pybdsf_deblended = pd.DataFrame(\n",
    "        {'pybdsf_name':deblended_pybdsf_names.iloc[i],\n",
    "        'flag':4,\n",
    "        'association_name': corresp.drop_duplicates()['Source_Name']})\n",
    "    pybdsf_deblended_df = pybdsf_deblended_df.append(pybdsf_deblended)"
   ]
  },
  {
   "cell_type": "markdown",
   "metadata": {},
   "source": [
    "Confirming"
   ]
  },
  {
   "cell_type": "code",
   "execution_count": 31,
   "metadata": {},
   "outputs": [
    {
     "data": {
      "text/plain": [
       "(1832, 935, 1794)"
      ]
     },
     "execution_count": 31,
     "metadata": {},
     "output_type": "execute_result"
    }
   ],
   "source": [
    "len(pybdsf_deblended_df),\\\n",
    "len(pybdsf_deblended_df.groupby('pybdsf_name')),\\\n",
    "len(pybdsf_deblended_df.groupby('association_name'))"
   ]
  },
  {
   "cell_type": "markdown",
   "metadata": {},
   "source": [
    "***\n",
    "** NOTE **"
   ]
  },
  {
   "cell_type": "code",
   "execution_count": 32,
   "metadata": {},
   "outputs": [
    {
     "data": {
      "text/plain": [
       "2446"
      ]
     },
     "execution_count": 32,
     "metadata": {},
     "output_type": "execute_result"
    }
   ],
   "source": [
    "# We have lost information about 'Component_Name' for this deblended sources\n",
    "# since a 'Deblended_from' pybdsf source can be made up of several components\n",
    "# This information can be recovered later if needed:\n",
    "len(components_deblended[components_deblended['Deblended_from'].\\\n",
    "                                          isin(pybdsf_deblended_df['pybdsf_name'])])"
   ]
  },
  {
   "cell_type": "markdown",
   "metadata": {},
   "source": [
    "***"
   ]
  },
  {
   "cell_type": "markdown",
   "metadata": {},
   "source": [
    "This table is no longer a 1-1 relationship:"
   ]
  },
  {
   "cell_type": "code",
   "execution_count": 33,
   "metadata": {},
   "outputs": [
    {
     "data": {
      "text/html": [
       "<div>\n",
       "<style>\n",
       "    .dataframe thead tr:only-child th {\n",
       "        text-align: right;\n",
       "    }\n",
       "\n",
       "    .dataframe thead th {\n",
       "        text-align: left;\n",
       "    }\n",
       "\n",
       "    .dataframe tbody tr th {\n",
       "        vertical-align: top;\n",
       "    }\n",
       "</style>\n",
       "<table border=\"1\" class=\"dataframe\">\n",
       "  <thead>\n",
       "    <tr style=\"text-align: right;\">\n",
       "      <th></th>\n",
       "      <th>association_name</th>\n",
       "      <th>flag</th>\n",
       "      <th>pybdsf_name</th>\n",
       "    </tr>\n",
       "  </thead>\n",
       "  <tbody>\n",
       "    <tr>\n",
       "      <th>count</th>\n",
       "      <td>1832</td>\n",
       "      <td>1832</td>\n",
       "      <td>1832</td>\n",
       "    </tr>\n",
       "    <tr>\n",
       "      <th>unique</th>\n",
       "      <td>1794</td>\n",
       "      <td>1</td>\n",
       "      <td>935</td>\n",
       "    </tr>\n",
       "    <tr>\n",
       "      <th>top</th>\n",
       "      <td>ILTJ141420.38+462620.3</td>\n",
       "      <td>4</td>\n",
       "      <td>ILTJ112051.72+474517.1</td>\n",
       "    </tr>\n",
       "    <tr>\n",
       "      <th>freq</th>\n",
       "      <td>4</td>\n",
       "      <td>1832</td>\n",
       "      <td>3</td>\n",
       "    </tr>\n",
       "  </tbody>\n",
       "</table>\n",
       "</div>"
      ],
      "text/plain": [
       "              association_name  flag             pybdsf_name\n",
       "count                     1832  1832                    1832\n",
       "unique                    1794     1                     935\n",
       "top     ILTJ141420.38+462620.3     4  ILTJ112051.72+474517.1\n",
       "freq                         4  1832                       3"
      ]
     },
     "execution_count": 33,
     "metadata": {},
     "output_type": "execute_result"
    }
   ],
   "source": [
    "pybdsf_deblended_df.describe()"
   ]
  },
  {
   "cell_type": "markdown",
   "metadata": {},
   "source": [
    "\n",
    "***\n",
    "### Deblended sources that were both deblended and associated to a bigger source\n",
    "***"
   ]
  },
  {
   "cell_type": "markdown",
   "metadata": {},
   "source": [
    "Taking the deblended sources that appear more than once on the components catalogue"
   ]
  },
  {
   "cell_type": "code",
   "execution_count": 34,
   "metadata": {},
   "outputs": [
    {
     "data": {
      "text/plain": [
       "1794"
      ]
     },
     "execution_count": 34,
     "metadata": {},
     "output_type": "execute_result"
    }
   ],
   "source": [
    "cond_deblended_big = pd.DataFrame([components_deblended['Source_Name'].value_counts() > 1][0])\n",
    "len(cond_deblended_big)"
   ]
  },
  {
   "cell_type": "code",
   "execution_count": 35,
   "metadata": {},
   "outputs": [
    {
     "data": {
      "text/plain": [
       "209"
      ]
     },
     "execution_count": 35,
     "metadata": {},
     "output_type": "execute_result"
    }
   ],
   "source": [
    "deblended_big_index = pd.DataFrame(cond_deblended_big[cond_deblended_big['Source_Name']].index.values)\n",
    "len(deblended_big_index)"
   ]
  },
  {
   "cell_type": "code",
   "execution_count": 36,
   "metadata": {},
   "outputs": [
    {
     "data": {
      "text/plain": [
       "247"
      ]
     },
     "execution_count": 36,
     "metadata": {},
     "output_type": "execute_result"
    }
   ],
   "source": [
    "deblended_big = pybdsf_deblended_df[pybdsf_deblended_df['association_name'].isin(deblended_big_index[0])]\n",
    "len(deblended_big)"
   ]
  },
  {
   "cell_type": "code",
   "execution_count": 37,
   "metadata": {},
   "outputs": [
    {
     "data": {
      "text/plain": [
       "1832"
      ]
     },
     "execution_count": 37,
     "metadata": {},
     "output_type": "execute_result"
    }
   ],
   "source": [
    "len(pybdsf_deblended_df)"
   ]
  },
  {
   "cell_type": "markdown",
   "metadata": {},
   "source": [
    "***\n",
    "** Updating the deblended table **\n",
    "***"
   ]
  },
  {
   "cell_type": "code",
   "execution_count": 38,
   "metadata": {},
   "outputs": [],
   "source": [
    "winners = deblended_big.copy()\n",
    "winners['flag'] = 6"
   ]
  },
  {
   "cell_type": "code",
   "execution_count": 39,
   "metadata": {},
   "outputs": [],
   "source": [
    "pybdsf_deblended_df.update(winners)"
   ]
  },
  {
   "cell_type": "code",
   "execution_count": 40,
   "metadata": {},
   "outputs": [
    {
     "data": {
      "text/plain": [
       "247"
      ]
     },
     "execution_count": 40,
     "metadata": {},
     "output_type": "execute_result"
    }
   ],
   "source": [
    "len(pybdsf_deblended_df[pybdsf_deblended_df['flag'] == 6])"
   ]
  },
  {
   "cell_type": "code",
   "execution_count": 41,
   "metadata": {},
   "outputs": [
    {
     "data": {
      "text/html": [
       "<div>\n",
       "<style>\n",
       "    .dataframe thead tr:only-child th {\n",
       "        text-align: right;\n",
       "    }\n",
       "\n",
       "    .dataframe thead th {\n",
       "        text-align: left;\n",
       "    }\n",
       "\n",
       "    .dataframe tbody tr th {\n",
       "        vertical-align: top;\n",
       "    }\n",
       "</style>\n",
       "<table border=\"1\" class=\"dataframe\">\n",
       "  <thead>\n",
       "    <tr style=\"text-align: right;\">\n",
       "      <th></th>\n",
       "      <th>association_name</th>\n",
       "      <th>flag</th>\n",
       "      <th>pybdsf_name</th>\n",
       "    </tr>\n",
       "  </thead>\n",
       "  <tbody>\n",
       "    <tr>\n",
       "      <th>count</th>\n",
       "      <td>1832</td>\n",
       "      <td>1832.0</td>\n",
       "      <td>1832</td>\n",
       "    </tr>\n",
       "    <tr>\n",
       "      <th>unique</th>\n",
       "      <td>1794</td>\n",
       "      <td>2.0</td>\n",
       "      <td>935</td>\n",
       "    </tr>\n",
       "    <tr>\n",
       "      <th>top</th>\n",
       "      <td>ILTJ141420.38+462620.3</td>\n",
       "      <td>4.0</td>\n",
       "      <td>ILTJ112051.72+474517.1</td>\n",
       "    </tr>\n",
       "    <tr>\n",
       "      <th>freq</th>\n",
       "      <td>4</td>\n",
       "      <td>1585.0</td>\n",
       "      <td>3</td>\n",
       "    </tr>\n",
       "  </tbody>\n",
       "</table>\n",
       "</div>"
      ],
      "text/plain": [
       "              association_name    flag             pybdsf_name\n",
       "count                     1832  1832.0                    1832\n",
       "unique                    1794     2.0                     935\n",
       "top     ILTJ141420.38+462620.3     4.0  ILTJ112051.72+474517.1\n",
       "freq                         4  1585.0                       3"
      ]
     },
     "execution_count": 41,
     "metadata": {},
     "output_type": "execute_result"
    }
   ],
   "source": [
    "pybdsf_deblended_df.describe()"
   ]
  },
  {
   "cell_type": "markdown",
   "metadata": {},
   "source": [
    "***\n",
    "** Updating the output table ** \n",
    "***"
   ]
  },
  {
   "cell_type": "code",
   "execution_count": 42,
   "metadata": {},
   "outputs": [
    {
     "data": {
      "text/plain": [
       "2543"
      ]
     },
     "execution_count": 42,
     "metadata": {},
     "output_type": "execute_result"
    }
   ],
   "source": [
    "len(output_table)"
   ]
  },
  {
   "cell_type": "code",
   "execution_count": 43,
   "metadata": {},
   "outputs": [],
   "source": [
    "output_table = output_table.append(pybdsf_deblended_df,ignore_index=True) "
   ]
  },
  {
   "cell_type": "code",
   "execution_count": 44,
   "metadata": {},
   "outputs": [
    {
     "name": "stdout",
     "output_type": "stream",
     "text": [
      "Table length should be 4375 and it is 4375\n"
     ]
    }
   ],
   "source": [
    "print 'Table length should be', len(pybdsf_artifacts_df) + len(pybdsf_deblended_df), 'and it is', len(output_table)"
   ]
  },
  {
   "cell_type": "code",
   "execution_count": 45,
   "metadata": {},
   "outputs": [
    {
     "data": {
      "text/html": [
       "<div>\n",
       "<style>\n",
       "    .dataframe thead tr:only-child th {\n",
       "        text-align: right;\n",
       "    }\n",
       "\n",
       "    .dataframe thead th {\n",
       "        text-align: left;\n",
       "    }\n",
       "\n",
       "    .dataframe tbody tr th {\n",
       "        vertical-align: top;\n",
       "    }\n",
       "</style>\n",
       "<table border=\"1\" class=\"dataframe\">\n",
       "  <thead>\n",
       "    <tr style=\"text-align: right;\">\n",
       "      <th></th>\n",
       "      <th>association_name</th>\n",
       "      <th>flag</th>\n",
       "      <th>pybdsf_name</th>\n",
       "    </tr>\n",
       "  </thead>\n",
       "  <tbody>\n",
       "    <tr>\n",
       "      <th>count</th>\n",
       "      <td>4375</td>\n",
       "      <td>4375.0</td>\n",
       "      <td>4375</td>\n",
       "    </tr>\n",
       "    <tr>\n",
       "      <th>unique</th>\n",
       "      <td>1795</td>\n",
       "      <td>3.0</td>\n",
       "      <td>3478</td>\n",
       "    </tr>\n",
       "    <tr>\n",
       "      <th>top</th>\n",
       "      <td>NULL</td>\n",
       "      <td>1.0</td>\n",
       "      <td>ILTJ145729.01+493344.5</td>\n",
       "    </tr>\n",
       "    <tr>\n",
       "      <th>freq</th>\n",
       "      <td>2543</td>\n",
       "      <td>2543.0</td>\n",
       "      <td>3</td>\n",
       "    </tr>\n",
       "  </tbody>\n",
       "</table>\n",
       "</div>"
      ],
      "text/plain": [
       "       association_name    flag             pybdsf_name\n",
       "count              4375  4375.0                    4375\n",
       "unique             1795     3.0                    3478\n",
       "top                NULL     1.0  ILTJ145729.01+493344.5\n",
       "freq               2543  2543.0                       3"
      ]
     },
     "execution_count": 45,
     "metadata": {},
     "output_type": "execute_result"
    }
   ],
   "source": [
    "output_table.describe()"
   ]
  },
  {
   "cell_type": "markdown",
   "metadata": {},
   "source": [
    "Checking"
   ]
  },
  {
   "cell_type": "code",
   "execution_count": 46,
   "metadata": {},
   "outputs": [
    {
     "data": {
      "text/plain": [
       "247"
      ]
     },
     "execution_count": 46,
     "metadata": {},
     "output_type": "execute_result"
    }
   ],
   "source": [
    "len((output_table[output_table['flag']== 6]))"
   ]
  },
  {
   "cell_type": "code",
   "execution_count": 47,
   "metadata": {},
   "outputs": [
    {
     "data": {
      "text/plain": [
       "193"
      ]
     },
     "execution_count": 47,
     "metadata": {},
     "output_type": "execute_result"
    }
   ],
   "source": [
    "len((output_table[output_table['flag']== 6]).groupby('pybdsf_name'))"
   ]
  },
  {
   "cell_type": "code",
   "execution_count": 48,
   "metadata": {},
   "outputs": [
    {
     "data": {
      "text/plain": [
       "4375"
      ]
     },
     "execution_count": 48,
     "metadata": {},
     "output_type": "execute_result"
    }
   ],
   "source": [
    "len(output_table[output_table['flag']== 4]) +\\\n",
    "len(output_table[output_table['flag']== 6]) +\\\n",
    "len(output_table[output_table['flag']== 1])"
   ]
  },
  {
   "cell_type": "markdown",
   "metadata": {},
   "source": [
    "***\n",
    "** Aditional Calculations**\n",
    "***\n",
    "The pybdsf sources that were deblended into several components and after associated have `S_Code`= M on the optical catalogue! "
   ]
  },
  {
   "cell_type": "code",
   "execution_count": 49,
   "metadata": {},
   "outputs": [
    {
     "data": {
      "text/plain": [
       "1794"
      ]
     },
     "execution_count": 49,
     "metadata": {},
     "output_type": "execute_result"
    }
   ],
   "source": [
    "deblended_optical = optical[optical['Source_Name'].isin(pybdsf_deblended_df['association_name'])]\n",
    "len(deblended_optical)"
   ]
  },
  {
   "cell_type": "markdown",
   "metadata": {},
   "source": [
    "Taking the ones with the M code"
   ]
  },
  {
   "cell_type": "code",
   "execution_count": 50,
   "metadata": {},
   "outputs": [
    {
     "data": {
      "text/plain": [
       "209"
      ]
     },
     "execution_count": 50,
     "metadata": {},
     "output_type": "execute_result"
    }
   ],
   "source": [
    "deblended_associated = deblended_optical[deblended_optical['S_Code']=='M']\n",
    "len(deblended_associated)"
   ]
  },
  {
   "cell_type": "code",
   "execution_count": 51,
   "metadata": {},
   "outputs": [
    {
     "data": {
      "text/html": [
       "<div>\n",
       "<style>\n",
       "    .dataframe thead tr:only-child th {\n",
       "        text-align: right;\n",
       "    }\n",
       "\n",
       "    .dataframe thead th {\n",
       "        text-align: left;\n",
       "    }\n",
       "\n",
       "    .dataframe tbody tr th {\n",
       "        vertical-align: top;\n",
       "    }\n",
       "</style>\n",
       "<table border=\"1\" class=\"dataframe\">\n",
       "  <thead>\n",
       "    <tr style=\"text-align: right;\">\n",
       "      <th></th>\n",
       "      <th>Source_Name</th>\n",
       "      <th>S_Code</th>\n",
       "      <th>Deblended_from</th>\n",
       "    </tr>\n",
       "  </thead>\n",
       "  <tbody>\n",
       "    <tr>\n",
       "      <th>879</th>\n",
       "      <td>ILTJ104717.05+523212.4</td>\n",
       "      <td>M</td>\n",
       "      <td>ILTJ104717.56+523220.2</td>\n",
       "    </tr>\n",
       "    <tr>\n",
       "      <th>894</th>\n",
       "      <td>ILTJ104717.96+523226.7</td>\n",
       "      <td>M</td>\n",
       "      <td>ILTJ104717.56+523220.2</td>\n",
       "    </tr>\n",
       "    <tr>\n",
       "      <th>5305</th>\n",
       "      <td>ILTJ105235.58+483955.5</td>\n",
       "      <td>M</td>\n",
       "      <td>ILTJ105235.57+483956.3</td>\n",
       "    </tr>\n",
       "    <tr>\n",
       "      <th>6302</th>\n",
       "      <td>ILTJ105332.59+472917.3</td>\n",
       "      <td>M</td>\n",
       "      <td>ILTJ105332.98+472916.5</td>\n",
       "    </tr>\n",
       "    <tr>\n",
       "      <th>7950</th>\n",
       "      <td>ILTJ105504.32+554817.0</td>\n",
       "      <td>M</td>\n",
       "      <td>ILTJ105504.82+554819.4</td>\n",
       "    </tr>\n",
       "  </tbody>\n",
       "</table>\n",
       "</div>"
      ],
      "text/plain": [
       "                 Source_Name S_Code          Deblended_from\n",
       "879   ILTJ104717.05+523212.4      M  ILTJ104717.56+523220.2\n",
       "894   ILTJ104717.96+523226.7      M  ILTJ104717.56+523220.2\n",
       "5305  ILTJ105235.58+483955.5      M  ILTJ105235.57+483956.3\n",
       "6302  ILTJ105332.59+472917.3      M  ILTJ105332.98+472916.5\n",
       "7950  ILTJ105504.32+554817.0      M  ILTJ105504.82+554819.4"
      ]
     },
     "execution_count": 51,
     "metadata": {},
     "output_type": "execute_result"
    }
   ],
   "source": [
    "deblended_associated[['Source_Name','S_Code', 'Deblended_from']].head() "
   ]
  },
  {
   "cell_type": "code",
   "execution_count": 52,
   "metadata": {},
   "outputs": [],
   "source": [
    "deblended_associated_df = pd.DataFrame({\n",
    "    'pybdsf_name':deblended_associated['Deblended_from'],\n",
    "    'flag':6,\n",
    "    'association_name': deblended_associated['Source_Name']})"
   ]
  },
  {
   "cell_type": "markdown",
   "metadata": {},
   "source": [
    "Confirming that they are the same:"
   ]
  },
  {
   "cell_type": "code",
   "execution_count": 53,
   "metadata": {},
   "outputs": [
    {
     "data": {
      "text/plain": [
       "(209, 247, 209)"
      ]
     },
     "execution_count": 53,
     "metadata": {},
     "output_type": "execute_result"
    }
   ],
   "source": [
    "len(deblended_associated[deblended_associated['Source_Name'].\n",
    "                         isin(pybdsf_deblended_df['association_name'])]),\\\n",
    "len(pybdsf_deblended_df[pybdsf_deblended_df['association_name'].\n",
    "                        isin(deblended_associated['Source_Name'])]),\\\n",
    "len(pybdsf_deblended_df[pybdsf_deblended_df['association_name'].\n",
    "                        isin(deblended_associated['Source_Name'])].\n",
    "                        groupby('association_name'))"
   ]
  },
  {
   "cell_type": "markdown",
   "metadata": {},
   "source": [
    "***\n",
    "## Multi pybdsf component sources\n",
    "\n",
    "** Sources that were associated (but not have been deblended) - flag 2 **\n",
    "***"
   ]
  },
  {
   "cell_type": "markdown",
   "metadata": {},
   "source": [
    "IMPORTANT: Note that S_code (M) that comes from pybdsf cat (and is on comp cat and optical) doesnt mean the sources are an association from several components, while the M code on optical cat that comes from deblended sources means that."
   ]
  },
  {
   "cell_type": "markdown",
   "metadata": {},
   "source": [
    "Checking sources that are made up of more than one component"
   ]
  },
  {
   "cell_type": "code",
   "execution_count": 54,
   "metadata": {},
   "outputs": [
    {
     "data": {
      "text/plain": [
       "318520"
      ]
     },
     "execution_count": 54,
     "metadata": {},
     "output_type": "execute_result"
    }
   ],
   "source": [
    "cond_multi = pd.DataFrame([components_cleaned['Source_Name'].value_counts() > 1][0])\n",
    "len(cond_multi)"
   ]
  },
  {
   "cell_type": "markdown",
   "metadata": {},
   "source": [
    "Taking the source names"
   ]
  },
  {
   "cell_type": "code",
   "execution_count": 55,
   "metadata": {},
   "outputs": [
    {
     "data": {
      "text/plain": [
       "3774"
      ]
     },
     "execution_count": 55,
     "metadata": {},
     "output_type": "execute_result"
    }
   ],
   "source": [
    "multi_names = pd.DataFrame(cond_multi[cond_multi['Source_Name']].index.values)\n",
    "len(multi_names)"
   ]
  },
  {
   "cell_type": "markdown",
   "metadata": {},
   "source": [
    "Taking the components for these source names"
   ]
  },
  {
   "cell_type": "code",
   "execution_count": 56,
   "metadata": {},
   "outputs": [
    {
     "data": {
      "text/plain": [
       "9869"
      ]
     },
     "execution_count": 56,
     "metadata": {},
     "output_type": "execute_result"
    }
   ],
   "source": [
    "multi = components_cleaned[components_cleaned['Source_Name'].isin(multi_names[0])]\n",
    "len(multi)"
   ]
  },
  {
   "cell_type": "markdown",
   "metadata": {},
   "source": [
    "Taking just the ones that have multi components but were not deblended"
   ]
  },
  {
   "cell_type": "code",
   "execution_count": 57,
   "metadata": {},
   "outputs": [],
   "source": [
    "multi_not_deblended = multi[multi['Deblended_from'] == '']"
   ]
  },
  {
   "cell_type": "code",
   "execution_count": 58,
   "metadata": {},
   "outputs": [
    {
     "data": {
      "text/plain": [
       "9008"
      ]
     },
     "execution_count": 58,
     "metadata": {},
     "output_type": "execute_result"
    }
   ],
   "source": [
    "#Number of components\n",
    "len(multi_not_deblended)"
   ]
  },
  {
   "cell_type": "code",
   "execution_count": 59,
   "metadata": {},
   "outputs": [
    {
     "data": {
      "text/plain": [
       "9008"
      ]
     },
     "execution_count": 59,
     "metadata": {},
     "output_type": "execute_result"
    }
   ],
   "source": [
    "# Which is equal to the number of components = number of pybdsf names (1-1 relation)\n",
    "len(multi_not_deblended.groupby('Component_Name'))"
   ]
  },
  {
   "cell_type": "code",
   "execution_count": 60,
   "metadata": {},
   "outputs": [
    {
     "data": {
      "text/plain": [
       "3565"
      ]
     },
     "execution_count": 60,
     "metadata": {},
     "output_type": "execute_result"
    }
   ],
   "source": [
    "# This corresponds to the number of sources\n",
    "len(multi_not_deblended.groupby('Source_Name'))"
   ]
  },
  {
   "cell_type": "markdown",
   "metadata": {},
   "source": [
    "Confirming the deblended sources + made up of multiple components:"
   ]
  },
  {
   "cell_type": "code",
   "execution_count": 61,
   "metadata": {},
   "outputs": [
    {
     "data": {
      "text/plain": [
       "(209, 193)"
      ]
     },
     "execution_count": 61,
     "metadata": {},
     "output_type": "execute_result"
    }
   ],
   "source": [
    "len(multi[multi['Deblended_from'] != ''].groupby('Source_Name')),\\\n",
    "len(multi[multi['Deblended_from'] != ''].groupby('Deblended_from'))"
   ]
  },
  {
   "cell_type": "markdown",
   "metadata": {},
   "source": [
    "Creating a multi-component sources table (for just the ones that were not deblended)"
   ]
  },
  {
   "cell_type": "code",
   "execution_count": 62,
   "metadata": {},
   "outputs": [],
   "source": [
    "multi_not_deblended_df = pd.DataFrame({\n",
    "    'pybdsf_name':multi_not_deblended['Component_Name'],\n",
    "    'flag':2,\n",
    "    'association_name': multi_not_deblended['Source_Name']})"
   ]
  },
  {
   "cell_type": "markdown",
   "metadata": {},
   "source": [
    "** Updating the output table **"
   ]
  },
  {
   "cell_type": "code",
   "execution_count": 63,
   "metadata": {},
   "outputs": [
    {
     "data": {
      "text/plain": [
       "4375"
      ]
     },
     "execution_count": 63,
     "metadata": {},
     "output_type": "execute_result"
    }
   ],
   "source": [
    "len(output_table)"
   ]
  },
  {
   "cell_type": "code",
   "execution_count": 64,
   "metadata": {},
   "outputs": [],
   "source": [
    "output_table = output_table.append(multi_not_deblended_df,ignore_index=True) "
   ]
  },
  {
   "cell_type": "code",
   "execution_count": 65,
   "metadata": {},
   "outputs": [
    {
     "name": "stdout",
     "output_type": "stream",
     "text": [
      "Table length should be 13383 and it is 13383\n"
     ]
    }
   ],
   "source": [
    "print 'Table length should be',\\\n",
    "len(pybdsf_artifacts_df) + len(pybdsf_deblended_df) + len(multi_not_deblended_df),\\\n",
    "'and it is', len(output_table)"
   ]
  },
  {
   "cell_type": "markdown",
   "metadata": {},
   "source": [
    "***\n",
    "## Single sources\n",
    "***"
   ]
  },
  {
   "cell_type": "code",
   "execution_count": 66,
   "metadata": {},
   "outputs": [],
   "source": [
    "cond_single = ~cond_multi"
   ]
  },
  {
   "cell_type": "code",
   "execution_count": 67,
   "metadata": {},
   "outputs": [
    {
     "data": {
      "text/html": [
       "<div>\n",
       "<style>\n",
       "    .dataframe thead tr:only-child th {\n",
       "        text-align: right;\n",
       "    }\n",
       "\n",
       "    .dataframe thead th {\n",
       "        text-align: left;\n",
       "    }\n",
       "\n",
       "    .dataframe tbody tr th {\n",
       "        vertical-align: top;\n",
       "    }\n",
       "</style>\n",
       "<table border=\"1\" class=\"dataframe\">\n",
       "  <thead>\n",
       "    <tr style=\"text-align: right;\">\n",
       "      <th></th>\n",
       "      <th>Source_Name</th>\n",
       "    </tr>\n",
       "  </thead>\n",
       "  <tbody>\n",
       "    <tr>\n",
       "      <th>ILTJ140313.38+542018.9</th>\n",
       "      <td>False</td>\n",
       "    </tr>\n",
       "    <tr>\n",
       "      <th>ILTJ121903.03+471642.8</th>\n",
       "      <td>False</td>\n",
       "    </tr>\n",
       "    <tr>\n",
       "      <th>ILTJ113625.39+480303.6</th>\n",
       "      <td>False</td>\n",
       "    </tr>\n",
       "    <tr>\n",
       "      <th>ILTJ120454.75+483254.1</th>\n",
       "      <td>False</td>\n",
       "    </tr>\n",
       "    <tr>\n",
       "      <th>ILTJ112051.78+474515.2</th>\n",
       "      <td>False</td>\n",
       "    </tr>\n",
       "  </tbody>\n",
       "</table>\n",
       "</div>"
      ],
      "text/plain": [
       "                        Source_Name\n",
       "ILTJ140313.38+542018.9        False\n",
       "ILTJ121903.03+471642.8        False\n",
       "ILTJ113625.39+480303.6        False\n",
       "ILTJ120454.75+483254.1        False\n",
       "ILTJ112051.78+474515.2        False"
      ]
     },
     "execution_count": 67,
     "metadata": {},
     "output_type": "execute_result"
    }
   ],
   "source": [
    "cond_single.head()"
   ]
  },
  {
   "cell_type": "code",
   "execution_count": 68,
   "metadata": {},
   "outputs": [
    {
     "name": "stdout",
     "output_type": "stream",
     "text": [
      "314746\n"
     ]
    },
    {
     "data": {
      "text/html": [
       "<div>\n",
       "<style>\n",
       "    .dataframe thead tr:only-child th {\n",
       "        text-align: right;\n",
       "    }\n",
       "\n",
       "    .dataframe thead th {\n",
       "        text-align: left;\n",
       "    }\n",
       "\n",
       "    .dataframe tbody tr th {\n",
       "        vertical-align: top;\n",
       "    }\n",
       "</style>\n",
       "<table border=\"1\" class=\"dataframe\">\n",
       "  <thead>\n",
       "    <tr style=\"text-align: right;\">\n",
       "      <th></th>\n",
       "      <th>0</th>\n",
       "    </tr>\n",
       "  </thead>\n",
       "  <tbody>\n",
       "    <tr>\n",
       "      <th>0</th>\n",
       "      <td>ILTJ134215.63+561021.1</td>\n",
       "    </tr>\n",
       "    <tr>\n",
       "      <th>1</th>\n",
       "      <td>ILTJ105724.12+460748.5</td>\n",
       "    </tr>\n",
       "    <tr>\n",
       "      <th>2</th>\n",
       "      <td>ILTJ124928.46+540853.7</td>\n",
       "    </tr>\n",
       "    <tr>\n",
       "      <th>3</th>\n",
       "      <td>ILTJ112052.21+521632.6</td>\n",
       "    </tr>\n",
       "    <tr>\n",
       "      <th>4</th>\n",
       "      <td>ILTJ150118.88+512152.6</td>\n",
       "    </tr>\n",
       "  </tbody>\n",
       "</table>\n",
       "</div>"
      ],
      "text/plain": [
       "                        0\n",
       "0  ILTJ134215.63+561021.1\n",
       "1  ILTJ105724.12+460748.5\n",
       "2  ILTJ124928.46+540853.7\n",
       "3  ILTJ112052.21+521632.6\n",
       "4  ILTJ150118.88+512152.6"
      ]
     },
     "execution_count": 68,
     "metadata": {},
     "output_type": "execute_result"
    }
   ],
   "source": [
    "single_names = pd.DataFrame(cond_single[cond_single['Source_Name']].index.values)\n",
    "print len(single_names)\n",
    "single_names.head()"
   ]
  },
  {
   "cell_type": "code",
   "execution_count": 69,
   "metadata": {},
   "outputs": [
    {
     "data": {
      "text/plain": [
       "313161"
      ]
     },
     "execution_count": 69,
     "metadata": {},
     "output_type": "execute_result"
    }
   ],
   "source": [
    "single = components_cleaned[(components_cleaned['Source_Name'].isin(single_names[0])) &\\\n",
    "                           (components_cleaned['Deblended_from'] == '')]\n",
    "len(single)"
   ]
  },
  {
   "cell_type": "code",
   "execution_count": 70,
   "metadata": {},
   "outputs": [
    {
     "data": {
      "text/plain": [
       "(313161, 313161)"
      ]
     },
     "execution_count": 70,
     "metadata": {},
     "output_type": "execute_result"
    }
   ],
   "source": [
    "len(single.groupby('Component_Name')), len(single.groupby('Source_Name'))"
   ]
  },
  {
   "cell_type": "markdown",
   "metadata": {},
   "source": [
    "** Single sources table **"
   ]
  },
  {
   "cell_type": "code",
   "execution_count": 71,
   "metadata": {},
   "outputs": [],
   "source": [
    "single_df = pd.DataFrame({\n",
    "    'pybdsf_name':single['Component_Name'],\n",
    "    'flag':8,\n",
    "    'association_name': single['Source_Name']})"
   ]
  },
  {
   "cell_type": "code",
   "execution_count": 72,
   "metadata": {},
   "outputs": [
    {
     "data": {
      "text/html": [
       "<div>\n",
       "<style>\n",
       "    .dataframe thead tr:only-child th {\n",
       "        text-align: right;\n",
       "    }\n",
       "\n",
       "    .dataframe thead th {\n",
       "        text-align: left;\n",
       "    }\n",
       "\n",
       "    .dataframe tbody tr th {\n",
       "        vertical-align: top;\n",
       "    }\n",
       "</style>\n",
       "<table border=\"1\" class=\"dataframe\">\n",
       "  <thead>\n",
       "    <tr style=\"text-align: right;\">\n",
       "      <th></th>\n",
       "      <th>association_name</th>\n",
       "      <th>flag</th>\n",
       "      <th>pybdsf_name</th>\n",
       "    </tr>\n",
       "  </thead>\n",
       "  <tbody>\n",
       "    <tr>\n",
       "      <th>3</th>\n",
       "      <td>ILTJ104327.95+521032.6</td>\n",
       "      <td>8</td>\n",
       "      <td>ILTJ104327.95+521032.6</td>\n",
       "    </tr>\n",
       "    <tr>\n",
       "      <th>4</th>\n",
       "      <td>ILTJ104330.98+521038.2</td>\n",
       "      <td>8</td>\n",
       "      <td>ILTJ104330.98+521038.2</td>\n",
       "    </tr>\n",
       "    <tr>\n",
       "      <th>5</th>\n",
       "      <td>ILTJ104330.98+515535.8</td>\n",
       "      <td>8</td>\n",
       "      <td>ILTJ104330.98+515535.8</td>\n",
       "    </tr>\n",
       "    <tr>\n",
       "      <th>6</th>\n",
       "      <td>ILTJ104332.16+520718.7</td>\n",
       "      <td>8</td>\n",
       "      <td>ILTJ104332.16+520718.7</td>\n",
       "    </tr>\n",
       "    <tr>\n",
       "      <th>7</th>\n",
       "      <td>ILTJ104332.19+522351.5</td>\n",
       "      <td>8</td>\n",
       "      <td>ILTJ104332.19+522351.5</td>\n",
       "    </tr>\n",
       "  </tbody>\n",
       "</table>\n",
       "</div>"
      ],
      "text/plain": [
       "         association_name  flag             pybdsf_name\n",
       "3  ILTJ104327.95+521032.6     8  ILTJ104327.95+521032.6\n",
       "4  ILTJ104330.98+521038.2     8  ILTJ104330.98+521038.2\n",
       "5  ILTJ104330.98+515535.8     8  ILTJ104330.98+515535.8\n",
       "6  ILTJ104332.16+520718.7     8  ILTJ104332.16+520718.7\n",
       "7  ILTJ104332.19+522351.5     8  ILTJ104332.19+522351.5"
      ]
     },
     "execution_count": 72,
     "metadata": {},
     "output_type": "execute_result"
    }
   ],
   "source": [
    "single_df.head()"
   ]
  },
  {
   "cell_type": "markdown",
   "metadata": {},
   "source": [
    "** Updating the output table **"
   ]
  },
  {
   "cell_type": "code",
   "execution_count": 73,
   "metadata": {},
   "outputs": [
    {
     "data": {
      "text/plain": [
       "13383"
      ]
     },
     "execution_count": 73,
     "metadata": {},
     "output_type": "execute_result"
    }
   ],
   "source": [
    "len(output_table)"
   ]
  },
  {
   "cell_type": "code",
   "execution_count": 74,
   "metadata": {},
   "outputs": [],
   "source": [
    "output_table = output_table.append(single_df,ignore_index=True) "
   ]
  },
  {
   "cell_type": "code",
   "execution_count": 75,
   "metadata": {},
   "outputs": [
    {
     "name": "stdout",
     "output_type": "stream",
     "text": [
      "Table length should be 326544 and it is 326544\n"
     ]
    }
   ],
   "source": [
    "print 'Table length should be',\\\n",
    "len(pybdsf_artifacts_df) +\\\n",
    "len(pybdsf_deblended_df) +\\\n",
    "len(multi_not_deblended_df)+\\\n",
    "len(single_df),\\\n",
    "'and it is', len(output_table)"
   ]
  },
  {
   "cell_type": "markdown",
   "metadata": {},
   "source": [
    "***\n",
    "## ARTIFACTS - pybdfs Sources that are not on final cat\n",
    "***"
   ]
  },
  {
   "cell_type": "markdown",
   "metadata": {},
   "source": [
    "pybdsf raw catalogue sources that are not on the output table and not anywhere!"
   ]
  },
  {
   "cell_type": "markdown",
   "metadata": {},
   "source": [
    "all the sources on the output table are on the original raw pybdsf cat"
   ]
  },
  {
   "cell_type": "code",
   "execution_count": 76,
   "metadata": {},
   "outputs": [
    {
     "data": {
      "text/plain": [
       "326544"
      ]
     },
     "execution_count": 76,
     "metadata": {},
     "output_type": "execute_result"
    }
   ],
   "source": [
    "len(output_table[output_table['pybdsf_name'].isin(pybdsf_cleaned['Source_Name'])])"
   ]
  },
  {
   "cell_type": "code",
   "execution_count": 77,
   "metadata": {},
   "outputs": [
    {
     "data": {
      "text/plain": [
       "326544"
      ]
     },
     "execution_count": 77,
     "metadata": {},
     "output_type": "execute_result"
    }
   ],
   "source": [
    "len(output_table)"
   ]
  },
  {
   "cell_type": "markdown",
   "metadata": {},
   "source": [
    "** But these ones are not anywhere: **"
   ]
  },
  {
   "cell_type": "code",
   "execution_count": 78,
   "metadata": {},
   "outputs": [
    {
     "data": {
      "text/plain": [
       "48"
      ]
     },
     "execution_count": 78,
     "metadata": {},
     "output_type": "execute_result"
    }
   ],
   "source": [
    "len(pybdsf_cleaned)+1-\\\n",
    "(len(output_table[output_table['flag'] == 1])+\\\n",
    "len(output_table[output_table['flag'] == 2])+\\\n",
    "len(output_table[output_table['flag'] == 8])+\\\n",
    "len(output_table[(output_table['flag'] == 4) | (output_table['flag'] == 6)  ].groupby('pybdsf_name')))"
   ]
  },
  {
   "cell_type": "code",
   "execution_count": 79,
   "metadata": {},
   "outputs": [
    {
     "data": {
      "text/plain": [
       "48"
      ]
     },
     "execution_count": 79,
     "metadata": {},
     "output_type": "execute_result"
    }
   ],
   "source": [
    "len(pybdsf_cleaned) - len(pybdsf_cleaned[pybdsf_cleaned['Source_Name'].isin(output_table['pybdsf_name'])])"
   ]
  },
  {
   "cell_type": "code",
   "execution_count": 80,
   "metadata": {},
   "outputs": [
    {
     "name": "stdout",
     "output_type": "stream",
     "text": [
      "48\n"
     ]
    },
    {
     "data": {
      "text/html": [
       "<div>\n",
       "<style>\n",
       "    .dataframe thead tr:only-child th {\n",
       "        text-align: right;\n",
       "    }\n",
       "\n",
       "    .dataframe thead th {\n",
       "        text-align: left;\n",
       "    }\n",
       "\n",
       "    .dataframe tbody tr th {\n",
       "        vertical-align: top;\n",
       "    }\n",
       "</style>\n",
       "<table border=\"1\" class=\"dataframe\">\n",
       "  <thead>\n",
       "    <tr style=\"text-align: right;\">\n",
       "      <th></th>\n",
       "      <th>Source_Name</th>\n",
       "      <th>RA</th>\n",
       "      <th>E_RA</th>\n",
       "      <th>E_RA_tot</th>\n",
       "      <th>DEC</th>\n",
       "      <th>E_DEC</th>\n",
       "      <th>E_DEC_tot</th>\n",
       "      <th>Peak_flux</th>\n",
       "      <th>E_Peak_flux</th>\n",
       "      <th>E_Peak_flux_tot</th>\n",
       "      <th>...</th>\n",
       "      <th>Maj</th>\n",
       "      <th>E_Maj</th>\n",
       "      <th>Min</th>\n",
       "      <th>E_Min</th>\n",
       "      <th>PA</th>\n",
       "      <th>E_PA</th>\n",
       "      <th>Isl_rms</th>\n",
       "      <th>S_Code</th>\n",
       "      <th>Mosaic_ID</th>\n",
       "      <th>Isl_id</th>\n",
       "    </tr>\n",
       "  </thead>\n",
       "  <tbody>\n",
       "    <tr>\n",
       "      <th>5419</th>\n",
       "      <td>ILTJ120756.73+485018.8</td>\n",
       "      <td>181.986392</td>\n",
       "      <td>4.901848</td>\n",
       "      <td>4.903406</td>\n",
       "      <td>48.838566</td>\n",
       "      <td>4.249418</td>\n",
       "      <td>4.251214</td>\n",
       "      <td>0.099478</td>\n",
       "      <td>0.046243</td>\n",
       "      <td>0.050341</td>\n",
       "      <td>...</td>\n",
       "      <td>26.026527</td>\n",
       "      <td>12.320618</td>\n",
       "      <td>19.785871</td>\n",
       "      <td>9.031758</td>\n",
       "      <td>58.186357</td>\n",
       "      <td>86.705107</td>\n",
       "      <td>0.068662</td>\n",
       "      <td>S</td>\n",
       "      <td>P22Hetde</td>\n",
       "      <td>6913.0</td>\n",
       "    </tr>\n",
       "    <tr>\n",
       "      <th>7667</th>\n",
       "      <td>ILTJ111047.25+522332.9</td>\n",
       "      <td>167.696871</td>\n",
       "      <td>0.431311</td>\n",
       "      <td>0.464725</td>\n",
       "      <td>52.392491</td>\n",
       "      <td>0.133896</td>\n",
       "      <td>0.218787</td>\n",
       "      <td>8.078074</td>\n",
       "      <td>0.085039</td>\n",
       "      <td>1.617851</td>\n",
       "      <td>...</td>\n",
       "      <td>58.629697</td>\n",
       "      <td>1.015938</td>\n",
       "      <td>19.633516</td>\n",
       "      <td>0.314406</td>\n",
       "      <td>0.917516</td>\n",
       "      <td>1.461485</td>\n",
       "      <td>0.085039</td>\n",
       "      <td>M</td>\n",
       "      <td>P8Hetdex</td>\n",
       "      <td>3990.0</td>\n",
       "    </tr>\n",
       "    <tr>\n",
       "      <th>13591</th>\n",
       "      <td>ILTJ130933.61+484411.7</td>\n",
       "      <td>197.390046</td>\n",
       "      <td>5.363171</td>\n",
       "      <td>5.364254</td>\n",
       "      <td>48.736590</td>\n",
       "      <td>3.359173</td>\n",
       "      <td>3.360901</td>\n",
       "      <td>0.094864</td>\n",
       "      <td>0.035342</td>\n",
       "      <td>0.040112</td>\n",
       "      <td>...</td>\n",
       "      <td>34.838602</td>\n",
       "      <td>13.521077</td>\n",
       "      <td>17.529676</td>\n",
       "      <td>6.268994</td>\n",
       "      <td>65.796654</td>\n",
       "      <td>38.336310</td>\n",
       "      <td>0.057265</td>\n",
       "      <td>S</td>\n",
       "      <td>P35Hetde</td>\n",
       "      <td>4592.0</td>\n",
       "    </tr>\n",
       "    <tr>\n",
       "      <th>16146</th>\n",
       "      <td>ILTJ131449.76+471756.2</td>\n",
       "      <td>198.707346</td>\n",
       "      <td>4.620600</td>\n",
       "      <td>4.621857</td>\n",
       "      <td>47.298959</td>\n",
       "      <td>4.092500</td>\n",
       "      <td>4.093918</td>\n",
       "      <td>0.102806</td>\n",
       "      <td>0.036964</td>\n",
       "      <td>0.042298</td>\n",
       "      <td>...</td>\n",
       "      <td>30.311587</td>\n",
       "      <td>10.957390</td>\n",
       "      <td>26.703258</td>\n",
       "      <td>9.549724</td>\n",
       "      <td>76.555696</td>\n",
       "      <td>129.956041</td>\n",
       "      <td>0.066180</td>\n",
       "      <td>S</td>\n",
       "      <td>P35Hetde</td>\n",
       "      <td>7629.0</td>\n",
       "    </tr>\n",
       "    <tr>\n",
       "      <th>16156</th>\n",
       "      <td>ILTJ131033.45+463923.3</td>\n",
       "      <td>197.639358</td>\n",
       "      <td>4.780636</td>\n",
       "      <td>4.781851</td>\n",
       "      <td>46.656485</td>\n",
       "      <td>4.192954</td>\n",
       "      <td>4.194339</td>\n",
       "      <td>0.135798</td>\n",
       "      <td>0.038394</td>\n",
       "      <td>0.047029</td>\n",
       "      <td>...</td>\n",
       "      <td>46.391891</td>\n",
       "      <td>13.405002</td>\n",
       "      <td>24.121200</td>\n",
       "      <td>6.672961</td>\n",
       "      <td>50.980399</td>\n",
       "      <td>30.448521</td>\n",
       "      <td>0.080154</td>\n",
       "      <td>S</td>\n",
       "      <td>P35Hetde</td>\n",
       "      <td>7639.0</td>\n",
       "    </tr>\n",
       "  </tbody>\n",
       "</table>\n",
       "<p>5 rows × 23 columns</p>\n",
       "</div>"
      ],
      "text/plain": [
       "                  Source_Name          RA      E_RA  E_RA_tot        DEC  \\\n",
       "5419   ILTJ120756.73+485018.8  181.986392  4.901848  4.903406  48.838566   \n",
       "7667   ILTJ111047.25+522332.9  167.696871  0.431311  0.464725  52.392491   \n",
       "13591  ILTJ130933.61+484411.7  197.390046  5.363171  5.364254  48.736590   \n",
       "16146  ILTJ131449.76+471756.2  198.707346  4.620600  4.621857  47.298959   \n",
       "16156  ILTJ131033.45+463923.3  197.639358  4.780636  4.781851  46.656485   \n",
       "\n",
       "          E_DEC  E_DEC_tot  Peak_flux  E_Peak_flux  E_Peak_flux_tot   ...    \\\n",
       "5419   4.249418   4.251214   0.099478     0.046243         0.050341   ...     \n",
       "7667   0.133896   0.218787   8.078074     0.085039         1.617851   ...     \n",
       "13591  3.359173   3.360901   0.094864     0.035342         0.040112   ...     \n",
       "16146  4.092500   4.093918   0.102806     0.036964         0.042298   ...     \n",
       "16156  4.192954   4.194339   0.135798     0.038394         0.047029   ...     \n",
       "\n",
       "             Maj      E_Maj        Min     E_Min         PA        E_PA  \\\n",
       "5419   26.026527  12.320618  19.785871  9.031758  58.186357   86.705107   \n",
       "7667   58.629697   1.015938  19.633516  0.314406   0.917516    1.461485   \n",
       "13591  34.838602  13.521077  17.529676  6.268994  65.796654   38.336310   \n",
       "16146  30.311587  10.957390  26.703258  9.549724  76.555696  129.956041   \n",
       "16156  46.391891  13.405002  24.121200  6.672961  50.980399   30.448521   \n",
       "\n",
       "        Isl_rms  S_Code  Mosaic_ID  Isl_id  \n",
       "5419   0.068662       S   P22Hetde  6913.0  \n",
       "7667   0.085039       M   P8Hetdex  3990.0  \n",
       "13591  0.057265       S   P35Hetde  4592.0  \n",
       "16146  0.066180       S   P35Hetde  7629.0  \n",
       "16156  0.080154       S   P35Hetde  7639.0  \n",
       "\n",
       "[5 rows x 23 columns]"
      ]
     },
     "execution_count": 80,
     "metadata": {},
     "output_type": "execute_result"
    }
   ],
   "source": [
    "not_anywhere = pybdsf_cleaned[~pybdsf_cleaned['Source_Name'].isin(output_table['pybdsf_name'])]\n",
    "print len(not_anywhere)\n",
    "not_anywhere.head()"
   ]
  },
  {
   "cell_type": "markdown",
   "metadata": {},
   "source": [
    "** 'Not anywhere' artifacts table **"
   ]
  },
  {
   "cell_type": "code",
   "execution_count": 82,
   "metadata": {},
   "outputs": [],
   "source": [
    "artifacts_not_anywhere_df = pd.DataFrame({\n",
    "    'pybdsf_name':not_anywhere['Source_Name'],\n",
    "    'flag':16,\n",
    "    'association_name': 'NULL'})"
   ]
  },
  {
   "cell_type": "code",
   "execution_count": 83,
   "metadata": {},
   "outputs": [
    {
     "data": {
      "text/html": [
       "<div>\n",
       "<style>\n",
       "    .dataframe thead tr:only-child th {\n",
       "        text-align: right;\n",
       "    }\n",
       "\n",
       "    .dataframe thead th {\n",
       "        text-align: left;\n",
       "    }\n",
       "\n",
       "    .dataframe tbody tr th {\n",
       "        vertical-align: top;\n",
       "    }\n",
       "</style>\n",
       "<table border=\"1\" class=\"dataframe\">\n",
       "  <thead>\n",
       "    <tr style=\"text-align: right;\">\n",
       "      <th></th>\n",
       "      <th>association_name</th>\n",
       "      <th>flag</th>\n",
       "      <th>pybdsf_name</th>\n",
       "    </tr>\n",
       "  </thead>\n",
       "  <tbody>\n",
       "    <tr>\n",
       "      <th>5419</th>\n",
       "      <td>NULL</td>\n",
       "      <td>16</td>\n",
       "      <td>ILTJ120756.73+485018.8</td>\n",
       "    </tr>\n",
       "    <tr>\n",
       "      <th>7667</th>\n",
       "      <td>NULL</td>\n",
       "      <td>16</td>\n",
       "      <td>ILTJ111047.25+522332.9</td>\n",
       "    </tr>\n",
       "    <tr>\n",
       "      <th>13591</th>\n",
       "      <td>NULL</td>\n",
       "      <td>16</td>\n",
       "      <td>ILTJ130933.61+484411.7</td>\n",
       "    </tr>\n",
       "    <tr>\n",
       "      <th>16146</th>\n",
       "      <td>NULL</td>\n",
       "      <td>16</td>\n",
       "      <td>ILTJ131449.76+471756.2</td>\n",
       "    </tr>\n",
       "    <tr>\n",
       "      <th>16156</th>\n",
       "      <td>NULL</td>\n",
       "      <td>16</td>\n",
       "      <td>ILTJ131033.45+463923.3</td>\n",
       "    </tr>\n",
       "  </tbody>\n",
       "</table>\n",
       "</div>"
      ],
      "text/plain": [
       "      association_name  flag             pybdsf_name\n",
       "5419              NULL    16  ILTJ120756.73+485018.8\n",
       "7667              NULL    16  ILTJ111047.25+522332.9\n",
       "13591             NULL    16  ILTJ130933.61+484411.7\n",
       "16146             NULL    16  ILTJ131449.76+471756.2\n",
       "16156             NULL    16  ILTJ131033.45+463923.3"
      ]
     },
     "execution_count": 83,
     "metadata": {},
     "output_type": "execute_result"
    }
   ],
   "source": [
    "artifacts_not_anywhere_df.head()"
   ]
  },
  {
   "cell_type": "markdown",
   "metadata": {},
   "source": [
    "** Updating the output table **"
   ]
  },
  {
   "cell_type": "code",
   "execution_count": 84,
   "metadata": {},
   "outputs": [],
   "source": [
    "output_table = output_table.append(artifacts_not_anywhere_df,ignore_index=True) "
   ]
  },
  {
   "cell_type": "code",
   "execution_count": 85,
   "metadata": {},
   "outputs": [
    {
     "data": {
      "text/plain": [
       "326592"
      ]
     },
     "execution_count": 85,
     "metadata": {},
     "output_type": "execute_result"
    }
   ],
   "source": [
    "len(output_table)"
   ]
  },
  {
   "cell_type": "code",
   "execution_count": 87,
   "metadata": {},
   "outputs": [
    {
     "name": "stdout",
     "output_type": "stream",
     "text": [
      "Table length should be 326592 and it is 326592\n"
     ]
    }
   ],
   "source": [
    "print 'Table length should be',\\\n",
    "len(pybdsf_artifacts_df) +\\\n",
    "len(pybdsf_deblended_df) +\\\n",
    "len(multi_not_deblended_df)+\\\n",
    "len(single_df)+\\\n",
    "len(artifacts_not_anywhere_df),\\\n",
    "'and it is', len(output_table)"
   ]
  },
  {
   "cell_type": "markdown",
   "metadata": {},
   "source": [
    "## Q2"
   ]
  },
  {
   "cell_type": "markdown",
   "metadata": {},
   "source": [
    "Sources where the component got the same name the pybdsf (= deblended from)\n",
    "\n",
    "Some of these sources seem that were deblended - because they have the deblended from, but pybdsf name = component name = source name, just appear once on the component cat (eg below)"
   ]
  },
  {
   "cell_type": "code",
   "execution_count": 637,
   "metadata": {},
   "outputs": [],
   "source": [
    "bb = components[components['Deblended_from'] == components['Component_Name']]"
   ]
  },
  {
   "cell_type": "code",
   "execution_count": 638,
   "metadata": {},
   "outputs": [
    {
     "data": {
      "text/plain": [
       "40"
      ]
     },
     "execution_count": 638,
     "metadata": {},
     "output_type": "execute_result"
    }
   ],
   "source": [
    "len(bb)"
   ]
  },
  {
   "cell_type": "code",
   "execution_count": 1077,
   "metadata": {},
   "outputs": [
    {
     "data": {
      "text/html": [
       "<div>\n",
       "<style>\n",
       "    .dataframe thead tr:only-child th {\n",
       "        text-align: right;\n",
       "    }\n",
       "\n",
       "    .dataframe thead th {\n",
       "        text-align: left;\n",
       "    }\n",
       "\n",
       "    .dataframe tbody tr th {\n",
       "        vertical-align: top;\n",
       "    }\n",
       "</style>\n",
       "<table border=\"1\" class=\"dataframe\">\n",
       "  <thead>\n",
       "    <tr style=\"text-align: right;\">\n",
       "      <th></th>\n",
       "      <th>Source_Name</th>\n",
       "      <th>Component_Name</th>\n",
       "    </tr>\n",
       "  </thead>\n",
       "  <tbody>\n",
       "    <tr>\n",
       "      <th>9120</th>\n",
       "      <td>ILTJ105551.87+543437.5</td>\n",
       "      <td>ILTJ105552.05+543435.4</td>\n",
       "    </tr>\n",
       "    <tr>\n",
       "      <th>25451</th>\n",
       "      <td>ILTJ110953.70+482721.1</td>\n",
       "      <td>ILTJ110953.70+482721.1</td>\n",
       "    </tr>\n",
       "    <tr>\n",
       "      <th>31806</th>\n",
       "      <td>ILTJ111516.43+531910.3</td>\n",
       "      <td>ILTJ111516.63+531909.6</td>\n",
       "    </tr>\n",
       "    <tr>\n",
       "      <th>31851</th>\n",
       "      <td>ILTJ111519.16+531849.7</td>\n",
       "      <td>ILTJ111519.16+531844.2</td>\n",
       "    </tr>\n",
       "    <tr>\n",
       "      <th>34760</th>\n",
       "      <td>ILTJ111744.40+484605.9</td>\n",
       "      <td>ILTJ111744.40+484605.9</td>\n",
       "    </tr>\n",
       "  </tbody>\n",
       "</table>\n",
       "</div>"
      ],
      "text/plain": [
       "                  Source_Name          Component_Name\n",
       "9120   ILTJ105551.87+543437.5  ILTJ105552.05+543435.4\n",
       "25451  ILTJ110953.70+482721.1  ILTJ110953.70+482721.1\n",
       "31806  ILTJ111516.43+531910.3  ILTJ111516.63+531909.6\n",
       "31851  ILTJ111519.16+531849.7  ILTJ111519.16+531844.2\n",
       "34760  ILTJ111744.40+484605.9  ILTJ111744.40+484605.9"
      ]
     },
     "execution_count": 1077,
     "metadata": {},
     "output_type": "execute_result"
    }
   ],
   "source": [
    "bb[['Source_Name', 'Component_Name']].head()"
   ]
  },
  {
   "cell_type": "code",
   "execution_count": 921,
   "metadata": {},
   "outputs": [
    {
     "data": {
      "text/plain": [
       "40"
      ]
     },
     "execution_count": 921,
     "metadata": {},
     "output_type": "execute_result"
    }
   ],
   "source": [
    "len(bb.groupby('Deblended_from'))"
   ]
  },
  {
   "cell_type": "code",
   "execution_count": 1114,
   "metadata": {},
   "outputs": [
    {
     "data": {
      "text/html": [
       "<div>\n",
       "<style>\n",
       "    .dataframe thead tr:only-child th {\n",
       "        text-align: right;\n",
       "    }\n",
       "\n",
       "    .dataframe thead th {\n",
       "        text-align: left;\n",
       "    }\n",
       "\n",
       "    .dataframe tbody tr th {\n",
       "        vertical-align: top;\n",
       "    }\n",
       "</style>\n",
       "<table border=\"1\" class=\"dataframe\">\n",
       "  <thead>\n",
       "    <tr style=\"text-align: right;\">\n",
       "      <th></th>\n",
       "      <th>association_name</th>\n",
       "      <th>flag</th>\n",
       "      <th>pybdsf_name</th>\n",
       "    </tr>\n",
       "  </thead>\n",
       "  <tbody>\n",
       "    <tr>\n",
       "      <th>2587</th>\n",
       "      <td>ILTJ105551.87+543437.5</td>\n",
       "      <td>6</td>\n",
       "      <td>ILTJ105552.05+543435.4</td>\n",
       "    </tr>\n",
       "    <tr>\n",
       "      <th>2662</th>\n",
       "      <td>ILTJ110953.70+482721.1</td>\n",
       "      <td>4</td>\n",
       "      <td>ILTJ110953.70+482721.1</td>\n",
       "    </tr>\n",
       "    <tr>\n",
       "      <th>2685</th>\n",
       "      <td>ILTJ111516.43+531910.3</td>\n",
       "      <td>6</td>\n",
       "      <td>ILTJ111516.63+531909.6</td>\n",
       "    </tr>\n",
       "    <tr>\n",
       "      <th>2686</th>\n",
       "      <td>ILTJ111519.16+531849.7</td>\n",
       "      <td>6</td>\n",
       "      <td>ILTJ111519.16+531844.2</td>\n",
       "    </tr>\n",
       "    <tr>\n",
       "      <th>2705</th>\n",
       "      <td>ILTJ111744.40+484605.9</td>\n",
       "      <td>4</td>\n",
       "      <td>ILTJ111744.40+484605.9</td>\n",
       "    </tr>\n",
       "  </tbody>\n",
       "</table>\n",
       "</div>"
      ],
      "text/plain": [
       "            association_name flag             pybdsf_name\n",
       "2587  ILTJ105551.87+543437.5    6  ILTJ105552.05+543435.4\n",
       "2662  ILTJ110953.70+482721.1    4  ILTJ110953.70+482721.1\n",
       "2685  ILTJ111516.43+531910.3    6  ILTJ111516.63+531909.6\n",
       "2686  ILTJ111519.16+531849.7    6  ILTJ111519.16+531844.2\n",
       "2705  ILTJ111744.40+484605.9    4  ILTJ111744.40+484605.9"
      ]
     },
     "execution_count": 1114,
     "metadata": {},
     "output_type": "execute_result"
    }
   ],
   "source": [
    "aa = output_table[output_table['pybdsf_name'].isin(bb['Component_Name'])]\n",
    "aa.head()"
   ]
  },
  {
   "cell_type": "markdown",
   "metadata": {},
   "source": [
    "The ones with flag 6 might have been associated and then deblended"
   ]
  },
  {
   "cell_type": "code",
   "execution_count": 1171,
   "metadata": {},
   "outputs": [
    {
     "data": {
      "text/html": [
       "<div>\n",
       "<style>\n",
       "    .dataframe thead tr:only-child th {\n",
       "        text-align: right;\n",
       "    }\n",
       "\n",
       "    .dataframe thead th {\n",
       "        text-align: left;\n",
       "    }\n",
       "\n",
       "    .dataframe tbody tr th {\n",
       "        vertical-align: top;\n",
       "    }\n",
       "</style>\n",
       "<table border=\"1\" class=\"dataframe\">\n",
       "  <thead>\n",
       "    <tr style=\"text-align: right;\">\n",
       "      <th></th>\n",
       "      <th>association_name</th>\n",
       "      <th>flag</th>\n",
       "      <th>pybdsf_name</th>\n",
       "    </tr>\n",
       "  </thead>\n",
       "  <tbody>\n",
       "    <tr>\n",
       "      <th>4025</th>\n",
       "      <td>ILTJ140754.04+482535.3</td>\n",
       "      <td>6</td>\n",
       "      <td>ILTJ140754.04+482535.3</td>\n",
       "    </tr>\n",
       "  </tbody>\n",
       "</table>\n",
       "</div>"
      ],
      "text/plain": [
       "            association_name flag             pybdsf_name\n",
       "4025  ILTJ140754.04+482535.3    6  ILTJ140754.04+482535.3"
      ]
     },
     "execution_count": 1171,
     "metadata": {},
     "output_type": "execute_result"
    }
   ],
   "source": [
    "aa[(aa['flag'] == 6) & (aa['association_name'] == aa['pybdsf_name']) ]"
   ]
  },
  {
   "cell_type": "code",
   "execution_count": 1170,
   "metadata": {},
   "outputs": [
    {
     "data": {
      "text/html": [
       "<div>\n",
       "<style>\n",
       "    .dataframe thead tr:only-child th {\n",
       "        text-align: right;\n",
       "    }\n",
       "\n",
       "    .dataframe thead th {\n",
       "        text-align: left;\n",
       "    }\n",
       "\n",
       "    .dataframe tbody tr th {\n",
       "        vertical-align: top;\n",
       "    }\n",
       "</style>\n",
       "<table border=\"1\" class=\"dataframe\">\n",
       "  <thead>\n",
       "    <tr style=\"text-align: right;\">\n",
       "      <th></th>\n",
       "      <th>Source_Name</th>\n",
       "      <th>RA</th>\n",
       "      <th>E_RA</th>\n",
       "      <th>DEC</th>\n",
       "      <th>E_DEC</th>\n",
       "      <th>Peak_flux</th>\n",
       "      <th>E_Peak_flux</th>\n",
       "      <th>Total_flux</th>\n",
       "      <th>E_Total_flux</th>\n",
       "      <th>Maj</th>\n",
       "      <th>...</th>\n",
       "      <th>Isl_rms</th>\n",
       "      <th>S_Code</th>\n",
       "      <th>Mosaic_ID</th>\n",
       "      <th>Number_Masked</th>\n",
       "      <th>Number_Pointings</th>\n",
       "      <th>Masked_Fraction</th>\n",
       "      <th>Ng</th>\n",
       "      <th>ID_flag</th>\n",
       "      <th>Component_Name</th>\n",
       "      <th>Deblended_from</th>\n",
       "    </tr>\n",
       "  </thead>\n",
       "  <tbody>\n",
       "    <tr>\n",
       "      <th>266949</th>\n",
       "      <td>ILTJ140753.12+482535.5</td>\n",
       "      <td>211.971343</td>\n",
       "      <td>0.476027</td>\n",
       "      <td>48.426537</td>\n",
       "      <td>0.402119</td>\n",
       "      <td>0.371978</td>\n",
       "      <td>0.055624</td>\n",
       "      <td>0.484848</td>\n",
       "      <td>0.088701</td>\n",
       "      <td>7.278937</td>\n",
       "      <td>...</td>\n",
       "      <td>0.052889</td>\n",
       "      <td>S</td>\n",
       "      <td>P211+50</td>\n",
       "      <td>1</td>\n",
       "      <td>1</td>\n",
       "      <td>1.0</td>\n",
       "      <td>1</td>\n",
       "      <td>42</td>\n",
       "      <td>ILTJ140753.12+482535.5</td>\n",
       "      <td>ILTJ140753.56+482535.4</td>\n",
       "    </tr>\n",
       "    <tr>\n",
       "      <th>266962</th>\n",
       "      <td>ILTJ140754.04+482535.3</td>\n",
       "      <td>211.975220</td>\n",
       "      <td>0.478939</td>\n",
       "      <td>48.426491</td>\n",
       "      <td>0.428066</td>\n",
       "      <td>0.350956</td>\n",
       "      <td>0.054989</td>\n",
       "      <td>0.432479</td>\n",
       "      <td>0.089364</td>\n",
       "      <td>7.239739</td>\n",
       "      <td>...</td>\n",
       "      <td>0.052889</td>\n",
       "      <td>S</td>\n",
       "      <td>P211+50</td>\n",
       "      <td>1</td>\n",
       "      <td>1</td>\n",
       "      <td>1.0</td>\n",
       "      <td>1</td>\n",
       "      <td>42</td>\n",
       "      <td>ILTJ140754.05+482535.3</td>\n",
       "      <td>ILTJ140753.56+482535.4</td>\n",
       "    </tr>\n",
       "  </tbody>\n",
       "</table>\n",
       "<p>2 rows × 31 columns</p>\n",
       "</div>"
      ],
      "text/plain": [
       "                   Source_Name          RA      E_RA        DEC     E_DEC  \\\n",
       "266949  ILTJ140753.12+482535.5  211.971343  0.476027  48.426537  0.402119   \n",
       "266962  ILTJ140754.04+482535.3  211.975220  0.478939  48.426491  0.428066   \n",
       "\n",
       "        Peak_flux  E_Peak_flux  Total_flux  E_Total_flux       Maj  \\\n",
       "266949   0.371978     0.055624    0.484848      0.088701  7.278937   \n",
       "266962   0.350956     0.054989    0.432479      0.089364  7.239739   \n",
       "\n",
       "                 ...             Isl_rms  S_Code  Mosaic_ID  Number_Masked  \\\n",
       "266949           ...            0.052889       S    P211+50              1   \n",
       "266962           ...            0.052889       S    P211+50              1   \n",
       "\n",
       "        Number_Pointings  Masked_Fraction  Ng  ID_flag  \\\n",
       "266949                 1              1.0   1       42   \n",
       "266962                 1              1.0   1       42   \n",
       "\n",
       "                Component_Name          Deblended_from  \n",
       "266949  ILTJ140753.12+482535.5  ILTJ140753.56+482535.4  \n",
       "266962  ILTJ140754.05+482535.3  ILTJ140753.56+482535.4  \n",
       "\n",
       "[2 rows x 31 columns]"
      ]
     },
     "execution_count": 1170,
     "metadata": {},
     "output_type": "execute_result"
    }
   ],
   "source": [
    "components_cleaned[components_cleaned['Deblended_from'] == 'ILTJ140753.56+482535.4']"
   ]
  },
  {
   "cell_type": "code",
   "execution_count": 1169,
   "metadata": {},
   "outputs": [
    {
     "data": {
      "text/html": [
       "<div>\n",
       "<style>\n",
       "    .dataframe thead tr:only-child th {\n",
       "        text-align: right;\n",
       "    }\n",
       "\n",
       "    .dataframe thead th {\n",
       "        text-align: left;\n",
       "    }\n",
       "\n",
       "    .dataframe tbody tr th {\n",
       "        vertical-align: top;\n",
       "    }\n",
       "</style>\n",
       "<table border=\"1\" class=\"dataframe\">\n",
       "  <thead>\n",
       "    <tr style=\"text-align: right;\">\n",
       "      <th></th>\n",
       "      <th>Source_Name</th>\n",
       "      <th>RA</th>\n",
       "      <th>E_RA</th>\n",
       "      <th>DEC</th>\n",
       "      <th>E_DEC</th>\n",
       "      <th>Peak_flux</th>\n",
       "      <th>E_Peak_flux</th>\n",
       "      <th>Total_flux</th>\n",
       "      <th>E_Total_flux</th>\n",
       "      <th>Maj</th>\n",
       "      <th>...</th>\n",
       "      <th>Isl_rms</th>\n",
       "      <th>S_Code</th>\n",
       "      <th>Mosaic_ID</th>\n",
       "      <th>Number_Masked</th>\n",
       "      <th>Number_Pointings</th>\n",
       "      <th>Masked_Fraction</th>\n",
       "      <th>Ng</th>\n",
       "      <th>ID_flag</th>\n",
       "      <th>Component_Name</th>\n",
       "      <th>Deblended_from</th>\n",
       "    </tr>\n",
       "  </thead>\n",
       "  <tbody>\n",
       "    <tr>\n",
       "      <th>266960</th>\n",
       "      <td>ILTJ140754.04+482535.3</td>\n",
       "      <td>211.975151</td>\n",
       "      <td>0.647060</td>\n",
       "      <td>48.426495</td>\n",
       "      <td>0.418631</td>\n",
       "      <td>0.351744</td>\n",
       "      <td>0.058656</td>\n",
       "      <td>0.519084</td>\n",
       "      <td>0.090599</td>\n",
       "      <td>8.310386</td>\n",
       "      <td>...</td>\n",
       "      <td>0.055421</td>\n",
       "      <td>S</td>\n",
       "      <td>P213+47</td>\n",
       "      <td>1</td>\n",
       "      <td>1</td>\n",
       "      <td>1.0</td>\n",
       "      <td>1</td>\n",
       "      <td>42</td>\n",
       "      <td>ILTJ140754.04+482535.3</td>\n",
       "      <td>ILTJ140754.04+482535.3</td>\n",
       "    </tr>\n",
       "    <tr>\n",
       "      <th>266962</th>\n",
       "      <td>ILTJ140754.04+482535.3</td>\n",
       "      <td>211.975220</td>\n",
       "      <td>0.478939</td>\n",
       "      <td>48.426491</td>\n",
       "      <td>0.428066</td>\n",
       "      <td>0.350956</td>\n",
       "      <td>0.054989</td>\n",
       "      <td>0.432479</td>\n",
       "      <td>0.089364</td>\n",
       "      <td>7.239739</td>\n",
       "      <td>...</td>\n",
       "      <td>0.052889</td>\n",
       "      <td>S</td>\n",
       "      <td>P211+50</td>\n",
       "      <td>1</td>\n",
       "      <td>1</td>\n",
       "      <td>1.0</td>\n",
       "      <td>1</td>\n",
       "      <td>42</td>\n",
       "      <td>ILTJ140754.05+482535.3</td>\n",
       "      <td>ILTJ140753.56+482535.4</td>\n",
       "    </tr>\n",
       "  </tbody>\n",
       "</table>\n",
       "<p>2 rows × 31 columns</p>\n",
       "</div>"
      ],
      "text/plain": [
       "                   Source_Name          RA      E_RA        DEC     E_DEC  \\\n",
       "266960  ILTJ140754.04+482535.3  211.975151  0.647060  48.426495  0.418631   \n",
       "266962  ILTJ140754.04+482535.3  211.975220  0.478939  48.426491  0.428066   \n",
       "\n",
       "        Peak_flux  E_Peak_flux  Total_flux  E_Total_flux       Maj  \\\n",
       "266960   0.351744     0.058656    0.519084      0.090599  8.310386   \n",
       "266962   0.350956     0.054989    0.432479      0.089364  7.239739   \n",
       "\n",
       "                 ...             Isl_rms  S_Code  Mosaic_ID  Number_Masked  \\\n",
       "266960           ...            0.055421       S    P213+47              1   \n",
       "266962           ...            0.052889       S    P211+50              1   \n",
       "\n",
       "        Number_Pointings  Masked_Fraction  Ng  ID_flag  \\\n",
       "266960                 1              1.0   1       42   \n",
       "266962                 1              1.0   1       42   \n",
       "\n",
       "                Component_Name          Deblended_from  \n",
       "266960  ILTJ140754.04+482535.3  ILTJ140754.04+482535.3  \n",
       "266962  ILTJ140754.05+482535.3  ILTJ140753.56+482535.4  \n",
       "\n",
       "[2 rows x 31 columns]"
      ]
     },
     "execution_count": 1169,
     "metadata": {},
     "output_type": "execute_result"
    }
   ],
   "source": [
    "components_cleaned[components_cleaned['Source_Name'] == 'ILTJ140754.04+482535.3']"
   ]
  },
  {
   "cell_type": "markdown",
   "metadata": {},
   "source": [
    "** BUT These ones got the deblended flag AND they dont seem to have been deblended **"
   ]
  },
  {
   "cell_type": "code",
   "execution_count": 1159,
   "metadata": {},
   "outputs": [
    {
     "data": {
      "text/plain": [
       "2662    False\n",
       "2705    False\n",
       "2913    False\n",
       "3376    False\n",
       "3377    False\n",
       "3512    False\n",
       "3628    False\n",
       "3629    False\n",
       "4073    False\n",
       "4074    False\n",
       "Name: pybdsf_name, dtype: bool"
      ]
     },
     "execution_count": 1159,
     "metadata": {},
     "output_type": "execute_result"
    }
   ],
   "source": [
    "cc = aa[aa['flag'] == 4]\n",
    "cc['pybdsf_name'].isin(artifacts_cleaned['Source_Name'])"
   ]
  },
  {
   "cell_type": "code",
   "execution_count": 1138,
   "metadata": {},
   "outputs": [
    {
     "data": {
      "text/html": [
       "<div>\n",
       "<style>\n",
       "    .dataframe thead tr:only-child th {\n",
       "        text-align: right;\n",
       "    }\n",
       "\n",
       "    .dataframe thead th {\n",
       "        text-align: left;\n",
       "    }\n",
       "\n",
       "    .dataframe tbody tr th {\n",
       "        vertical-align: top;\n",
       "    }\n",
       "</style>\n",
       "<table border=\"1\" class=\"dataframe\">\n",
       "  <thead>\n",
       "    <tr style=\"text-align: right;\">\n",
       "      <th></th>\n",
       "      <th>association_name</th>\n",
       "      <th>flag</th>\n",
       "      <th>pybdsf_name</th>\n",
       "    </tr>\n",
       "  </thead>\n",
       "  <tbody>\n",
       "    <tr>\n",
       "      <th>4073</th>\n",
       "      <td>ILTJ141528.59+490824.6</td>\n",
       "      <td>4</td>\n",
       "      <td>ILTJ141528.59+490824.6</td>\n",
       "    </tr>\n",
       "  </tbody>\n",
       "</table>\n",
       "</div>"
      ],
      "text/plain": [
       "            association_name flag             pybdsf_name\n",
       "4073  ILTJ141528.59+490824.6    4  ILTJ141528.59+490824.6"
      ]
     },
     "execution_count": 1138,
     "metadata": {},
     "output_type": "execute_result"
    }
   ],
   "source": [
    "output_table[output_table['pybdsf_name'] == 'ILTJ141528.59+490824.6']"
   ]
  },
  {
   "cell_type": "code",
   "execution_count": 1139,
   "metadata": {},
   "outputs": [
    {
     "data": {
      "text/html": [
       "<div>\n",
       "<style>\n",
       "    .dataframe thead tr:only-child th {\n",
       "        text-align: right;\n",
       "    }\n",
       "\n",
       "    .dataframe thead th {\n",
       "        text-align: left;\n",
       "    }\n",
       "\n",
       "    .dataframe tbody tr th {\n",
       "        vertical-align: top;\n",
       "    }\n",
       "</style>\n",
       "<table border=\"1\" class=\"dataframe\">\n",
       "  <thead>\n",
       "    <tr style=\"text-align: right;\">\n",
       "      <th></th>\n",
       "      <th>Source_Name</th>\n",
       "      <th>RA</th>\n",
       "      <th>E_RA</th>\n",
       "      <th>DEC</th>\n",
       "      <th>E_DEC</th>\n",
       "      <th>Peak_flux</th>\n",
       "      <th>E_Peak_flux</th>\n",
       "      <th>Total_flux</th>\n",
       "      <th>E_Total_flux</th>\n",
       "      <th>Maj</th>\n",
       "      <th>...</th>\n",
       "      <th>Isl_rms</th>\n",
       "      <th>S_Code</th>\n",
       "      <th>Mosaic_ID</th>\n",
       "      <th>Number_Masked</th>\n",
       "      <th>Number_Pointings</th>\n",
       "      <th>Masked_Fraction</th>\n",
       "      <th>Ng</th>\n",
       "      <th>ID_flag</th>\n",
       "      <th>Component_Name</th>\n",
       "      <th>Deblended_from</th>\n",
       "    </tr>\n",
       "  </thead>\n",
       "  <tbody>\n",
       "    <tr>\n",
       "      <th>272909</th>\n",
       "      <td>ILTJ141528.59+490824.6</td>\n",
       "      <td>213.86913</td>\n",
       "      <td>3.44242</td>\n",
       "      <td>49.140168</td>\n",
       "      <td>3.327811</td>\n",
       "      <td>0.215568</td>\n",
       "      <td>0.057101</td>\n",
       "      <td>4.319515</td>\n",
       "      <td>0.059889</td>\n",
       "      <td>36.922007</td>\n",
       "      <td>...</td>\n",
       "      <td>0.098597</td>\n",
       "      <td>S</td>\n",
       "      <td>P213+47</td>\n",
       "      <td>1</td>\n",
       "      <td>1</td>\n",
       "      <td>1.0</td>\n",
       "      <td>1</td>\n",
       "      <td>42</td>\n",
       "      <td>ILTJ141528.59+490824.6</td>\n",
       "      <td>ILTJ141528.59+490824.6</td>\n",
       "    </tr>\n",
       "  </tbody>\n",
       "</table>\n",
       "<p>1 rows × 31 columns</p>\n",
       "</div>"
      ],
      "text/plain": [
       "                   Source_Name         RA     E_RA        DEC     E_DEC  \\\n",
       "272909  ILTJ141528.59+490824.6  213.86913  3.44242  49.140168  3.327811   \n",
       "\n",
       "        Peak_flux  E_Peak_flux  Total_flux  E_Total_flux        Maj  \\\n",
       "272909   0.215568     0.057101    4.319515      0.059889  36.922007   \n",
       "\n",
       "                 ...             Isl_rms  S_Code  Mosaic_ID  Number_Masked  \\\n",
       "272909           ...            0.098597       S    P213+47              1   \n",
       "\n",
       "        Number_Pointings  Masked_Fraction  Ng  ID_flag  \\\n",
       "272909                 1              1.0   1       42   \n",
       "\n",
       "                Component_Name          Deblended_from  \n",
       "272909  ILTJ141528.59+490824.6  ILTJ141528.59+490824.6  \n",
       "\n",
       "[1 rows x 31 columns]"
      ]
     },
     "execution_count": 1139,
     "metadata": {},
     "output_type": "execute_result"
    }
   ],
   "source": [
    "components_cleaned[components_cleaned['Deblended_from'] == 'ILTJ141528.59+490824.6']"
   ]
  },
  {
   "cell_type": "code",
   "execution_count": 1140,
   "metadata": {},
   "outputs": [
    {
     "data": {
      "text/html": [
       "<div>\n",
       "<style>\n",
       "    .dataframe thead tr:only-child th {\n",
       "        text-align: right;\n",
       "    }\n",
       "\n",
       "    .dataframe thead th {\n",
       "        text-align: left;\n",
       "    }\n",
       "\n",
       "    .dataframe tbody tr th {\n",
       "        vertical-align: top;\n",
       "    }\n",
       "</style>\n",
       "<table border=\"1\" class=\"dataframe\">\n",
       "  <thead>\n",
       "    <tr style=\"text-align: right;\">\n",
       "      <th></th>\n",
       "      <th>Source_Name</th>\n",
       "      <th>RA</th>\n",
       "      <th>E_RA</th>\n",
       "      <th>DEC</th>\n",
       "      <th>E_DEC</th>\n",
       "      <th>Peak_flux</th>\n",
       "      <th>E_Peak_flux</th>\n",
       "      <th>Total_flux</th>\n",
       "      <th>E_Total_flux</th>\n",
       "      <th>Maj</th>\n",
       "      <th>...</th>\n",
       "      <th>Isl_rms</th>\n",
       "      <th>S_Code</th>\n",
       "      <th>Mosaic_ID</th>\n",
       "      <th>Number_Masked</th>\n",
       "      <th>Number_Pointings</th>\n",
       "      <th>Masked_Fraction</th>\n",
       "      <th>Ng</th>\n",
       "      <th>ID_flag</th>\n",
       "      <th>Component_Name</th>\n",
       "      <th>Deblended_from</th>\n",
       "    </tr>\n",
       "  </thead>\n",
       "  <tbody>\n",
       "    <tr>\n",
       "      <th>272909</th>\n",
       "      <td>ILTJ141528.59+490824.6</td>\n",
       "      <td>213.86913</td>\n",
       "      <td>3.44242</td>\n",
       "      <td>49.140168</td>\n",
       "      <td>3.327811</td>\n",
       "      <td>0.215568</td>\n",
       "      <td>0.057101</td>\n",
       "      <td>4.319515</td>\n",
       "      <td>0.059889</td>\n",
       "      <td>36.922007</td>\n",
       "      <td>...</td>\n",
       "      <td>0.098597</td>\n",
       "      <td>S</td>\n",
       "      <td>P213+47</td>\n",
       "      <td>1</td>\n",
       "      <td>1</td>\n",
       "      <td>1.0</td>\n",
       "      <td>1</td>\n",
       "      <td>42</td>\n",
       "      <td>ILTJ141528.59+490824.6</td>\n",
       "      <td>ILTJ141528.59+490824.6</td>\n",
       "    </tr>\n",
       "  </tbody>\n",
       "</table>\n",
       "<p>1 rows × 31 columns</p>\n",
       "</div>"
      ],
      "text/plain": [
       "                   Source_Name         RA     E_RA        DEC     E_DEC  \\\n",
       "272909  ILTJ141528.59+490824.6  213.86913  3.44242  49.140168  3.327811   \n",
       "\n",
       "        Peak_flux  E_Peak_flux  Total_flux  E_Total_flux        Maj  \\\n",
       "272909   0.215568     0.057101    4.319515      0.059889  36.922007   \n",
       "\n",
       "                 ...             Isl_rms  S_Code  Mosaic_ID  Number_Masked  \\\n",
       "272909           ...            0.098597       S    P213+47              1   \n",
       "\n",
       "        Number_Pointings  Masked_Fraction  Ng  ID_flag  \\\n",
       "272909                 1              1.0   1       42   \n",
       "\n",
       "                Component_Name          Deblended_from  \n",
       "272909  ILTJ141528.59+490824.6  ILTJ141528.59+490824.6  \n",
       "\n",
       "[1 rows x 31 columns]"
      ]
     },
     "execution_count": 1140,
     "metadata": {},
     "output_type": "execute_result"
    }
   ],
   "source": [
    "components_cleaned[components_cleaned['Source_Name'] == 'ILTJ141528.59+490824.6']"
   ]
  },
  {
   "cell_type": "code",
   "execution_count": 1165,
   "metadata": {},
   "outputs": [
    {
     "data": {
      "text/plain": [
       "262216    1.661121e+17\n",
       "Name: objID, dtype: float64"
      ]
     },
     "execution_count": 1165,
     "metadata": {},
     "output_type": "execute_result"
    }
   ],
   "source": [
    "optical[optical['Source_Name'] == 'ILTJ140754.04+482535.3']['objID']"
   ]
  },
  {
   "cell_type": "code",
   "execution_count": 1172,
   "metadata": {},
   "outputs": [
    {
     "data": {
      "text/plain": [
       "314737"
      ]
     },
     "execution_count": 1172,
     "metadata": {},
     "output_type": "execute_result"
    }
   ],
   "source": [
    "len(components_cleaned[components_cleaned['Source_Name'] == components_cleaned['Component_Name']])"
   ]
  },
  {
   "cell_type": "markdown",
   "metadata": {},
   "source": [
    "***"
   ]
  },
  {
   "cell_type": "markdown",
   "metadata": {},
   "source": [
    "## Output"
   ]
  },
  {
   "cell_type": "code",
   "execution_count": 1068,
   "metadata": {},
   "outputs": [
    {
     "data": {
      "text/html": [
       "<div>\n",
       "<style>\n",
       "    .dataframe thead tr:only-child th {\n",
       "        text-align: right;\n",
       "    }\n",
       "\n",
       "    .dataframe thead th {\n",
       "        text-align: left;\n",
       "    }\n",
       "\n",
       "    .dataframe tbody tr th {\n",
       "        vertical-align: top;\n",
       "    }\n",
       "</style>\n",
       "<table border=\"1\" class=\"dataframe\">\n",
       "  <thead>\n",
       "    <tr style=\"text-align: right;\">\n",
       "      <th></th>\n",
       "      <th>association_name</th>\n",
       "      <th>flag</th>\n",
       "      <th>pybdsf_name</th>\n",
       "    </tr>\n",
       "  </thead>\n",
       "  <tbody>\n",
       "    <tr>\n",
       "      <th>count</th>\n",
       "      <td>326544</td>\n",
       "      <td>326544.0</td>\n",
       "      <td>326544</td>\n",
       "    </tr>\n",
       "    <tr>\n",
       "      <th>unique</th>\n",
       "      <td>318521</td>\n",
       "      <td>5.0</td>\n",
       "      <td>325646</td>\n",
       "    </tr>\n",
       "    <tr>\n",
       "      <th>top</th>\n",
       "      <td>NULL</td>\n",
       "      <td>8.0</td>\n",
       "      <td>ILTJ144319.75+542030.3</td>\n",
       "    </tr>\n",
       "    <tr>\n",
       "      <th>freq</th>\n",
       "      <td>2543</td>\n",
       "      <td>313161.0</td>\n",
       "      <td>3</td>\n",
       "    </tr>\n",
       "  </tbody>\n",
       "</table>\n",
       "</div>"
      ],
      "text/plain": [
       "       association_name      flag             pybdsf_name\n",
       "count            326544  326544.0                  326544\n",
       "unique           318521       5.0                  325646\n",
       "top                NULL       8.0  ILTJ144319.75+542030.3\n",
       "freq               2543  313161.0                       3"
      ]
     },
     "execution_count": 1068,
     "metadata": {},
     "output_type": "execute_result"
    }
   ],
   "source": [
    "output_table.describe() "
   ]
  },
  {
   "cell_type": "code",
   "execution_count": 1069,
   "metadata": {},
   "outputs": [
    {
     "data": {
      "text/html": [
       "<div>\n",
       "<style>\n",
       "    .dataframe thead tr:only-child th {\n",
       "        text-align: right;\n",
       "    }\n",
       "\n",
       "    .dataframe thead th {\n",
       "        text-align: left;\n",
       "    }\n",
       "\n",
       "    .dataframe tbody tr th {\n",
       "        vertical-align: top;\n",
       "    }\n",
       "</style>\n",
       "<table border=\"1\" class=\"dataframe\">\n",
       "  <thead>\n",
       "    <tr style=\"text-align: right;\">\n",
       "      <th></th>\n",
       "      <th>association_name</th>\n",
       "      <th>flag</th>\n",
       "      <th>pybdsf_name</th>\n",
       "    </tr>\n",
       "  </thead>\n",
       "  <tbody>\n",
       "    <tr>\n",
       "      <th>0</th>\n",
       "      <td>NULL</td>\n",
       "      <td>1</td>\n",
       "      <td>ILTJ121434.78+503002.8</td>\n",
       "    </tr>\n",
       "    <tr>\n",
       "      <th>1</th>\n",
       "      <td>NULL</td>\n",
       "      <td>1</td>\n",
       "      <td>ILTJ121434.25+503055.7</td>\n",
       "    </tr>\n",
       "    <tr>\n",
       "      <th>2</th>\n",
       "      <td>NULL</td>\n",
       "      <td>1</td>\n",
       "      <td>ILTJ121433.20+503012.3</td>\n",
       "    </tr>\n",
       "    <tr>\n",
       "      <th>3</th>\n",
       "      <td>NULL</td>\n",
       "      <td>1</td>\n",
       "      <td>ILTJ121258.75+484808.1</td>\n",
       "    </tr>\n",
       "    <tr>\n",
       "      <th>4</th>\n",
       "      <td>NULL</td>\n",
       "      <td>1</td>\n",
       "      <td>ILTJ121257.90+484811.8</td>\n",
       "    </tr>\n",
       "  </tbody>\n",
       "</table>\n",
       "</div>"
      ],
      "text/plain": [
       "  association_name flag             pybdsf_name\n",
       "0             NULL    1  ILTJ121434.78+503002.8\n",
       "1             NULL    1  ILTJ121434.25+503055.7\n",
       "2             NULL    1  ILTJ121433.20+503012.3\n",
       "3             NULL    1  ILTJ121258.75+484808.1\n",
       "4             NULL    1  ILTJ121257.90+484811.8"
      ]
     },
     "execution_count": 1069,
     "metadata": {},
     "output_type": "execute_result"
    }
   ],
   "source": [
    "output_table.head()"
   ]
  },
  {
   "cell_type": "code",
   "execution_count": null,
   "metadata": {},
   "outputs": [],
   "source": [
    "# FLAG THE 10 THAT HAVE NOT BEEN DEBLENDED WITH A SINGLE FLAG (8)\n",
    "# PUT THAT CALCULATIONS ON THE DEBLENDED PART OF THE NOTEBOOK!"
   ]
  }
 ],
 "metadata": {
  "kernelspec": {
   "display_name": "Python [conda env:miniconda2]",
   "language": "python",
   "name": "conda-env-miniconda2-py"
  },
  "language_info": {
   "codemirror_mode": {
    "name": "ipython",
    "version": 2
   },
   "file_extension": ".py",
   "mimetype": "text/x-python",
   "name": "python",
   "nbconvert_exporter": "python",
   "pygments_lexer": "ipython2",
   "version": "2.7.14"
  }
 },
 "nbformat": 4,
 "nbformat_minor": 2
}
