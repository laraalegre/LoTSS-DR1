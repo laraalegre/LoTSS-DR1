{
 "cells": [
  {
   "cell_type": "markdown",
   "metadata": {},
   "source": [
    "# LoTSS DR1\n",
    "## PyBDSF - Optical associations over the HETDEX field"
   ]
  },
  {
   "cell_type": "markdown",
   "metadata": {
    "slideshow": {
     "slide_type": "-"
    }
   },
   "source": [
    "***\n",
    "\n",
    "This notebook outputs a table with the association between the raw PyBDSF catalogue and the final optical catalogue. \n",
    "It includes:\n",
    "* The [Original catalogues](#Loading-the-original-catalogues) \n",
    "* The [Cleaned catalogues](#Cleaning-the-original-catalogues)\n",
    "* The [Ouput catalogue](#Output-table)\n",
    "\n",
    "The output catalogue is a table which consists of:\n",
    "* `pybdsf_name` : PyBDSF raw catalogue ` Source_Name `\n",
    "* `association_name` : optical v1.2 catalogue `Source_Name`\n",
    "* `flag`:  \n",
    "    * [Multi-component PyBDSF sources](#Multi-component-PyBDSF-sources) (`flag=8`)\n",
    "    * [Deblended sources](#Deblended-sources) (`flag=4`)\n",
    "    * [Single sources](#Single-sources) (`flag=1`)\n",
    "    * [Artifacts](#Artifacts) (`flag=16` and `flag=32`)\n",
    "    * or a combination of categories: \n",
    "       * [Deblended + multi-component PyBDSF sources](#Sources-that-were-both-deblended-and-have-multi-PyBDSF-components) (`flag=12`)\n",
    "       * [Sources that were not deblended](#Sources-that-were-not-deblended) (`flag=2`) \n",
    "           * [and have multiple PyBDSF components](#MULTIPLE-PyBDSF-COMPONENTS) (`flag=10`)\n",
    "           * [and are singles](#SINGLES) (`flag=3`)"
   ]
  },
  {
   "cell_type": "markdown",
   "metadata": {},
   "source": [
    "** Libraries ** "
   ]
  },
  {
   "cell_type": "code",
   "execution_count": 1,
   "metadata": {},
   "outputs": [],
   "source": [
    "import pandas as pd\n",
    "import numpy as np\n",
    "from astropy.table import Table, join\n",
    "import unittest\n",
    "from __future__ import print_function"
   ]
  },
  {
   "cell_type": "markdown",
   "metadata": {},
   "source": [
    "***\n",
    "## Catalogues\n",
    "***"
   ]
  },
  {
   "cell_type": "markdown",
   "metadata": {},
   "source": [
    "### Loading the original catalogues"
   ]
  },
  {
   "cell_type": "code",
   "execution_count": 2,
   "metadata": {},
   "outputs": [],
   "source": [
    "# Creating a function to read the fits catalogues\n",
    "def read_fits(file):\n",
    "    'converts a fits table to pandas format'\n",
    "    cat = Table.read(file)\n",
    "    return cat.to_pandas()"
   ]
  },
  {
   "cell_type": "code",
   "execution_count": 77,
   "metadata": {},
   "outputs": [],
   "source": [
    "# Raw PyBDSF catalogue\n",
    "pybdsf = read_fits('../data/LOFAR_HBA_T1_DR1_catalog_v0.9.srl.fixed.fits')\n",
    "# V1.2 LoTSS DR1 catalogues\n",
    "optical = read_fits('../data/v1.2/LOFAR_HBA_T1_DR1_merge_ID_optical_f_v1.2.fits')\n",
    "components = read_fits('../data/v1.2/LOFAR_HBA_T1_DR1_merge_ID_v1.2.comp.fits')\n",
    "# Artifacts catalogue\n",
    "artifacts = read_fits('../data/LOFAR_HBA_T1_DR1_merge_ID_v1.1.art.fits')\n",
    "# Gaussian catalogue\n",
    "gauss = read_fits('../data/LOFAR_HBA_T1_DR1_catalog_v0.99.gaus.fits')"
   ]
  },
  {
   "cell_type": "markdown",
   "metadata": {},
   "source": [
    "### Cleaning the original catalogues"
   ]
  },
  {
   "cell_type": "markdown",
   "metadata": {},
   "source": [
    "####  Renaming Sources"
   ]
  },
  {
   "cell_type": "markdown",
   "metadata": {},
   "source": [
    "Renaming a source that was picked on 2 different mosaics (it has the same `Source_Name`) and which was classified as an artifact in one mosaic and as a source in other. The source is renamed with the original name followed by 'B'. This is done on both **Artifacts catalogue** and **PyBDSF raw catalogue** (the source appears twice on the PyBDSF catalogue)."
   ]
  },
  {
   "cell_type": "code",
   "execution_count": 78,
   "metadata": {},
   "outputs": [
    {
     "data": {
      "text/plain": [
       "'ILTJ132633.10+484745.7'"
      ]
     },
     "execution_count": 78,
     "metadata": {},
     "output_type": "execute_result"
    }
   ],
   "source": [
    "# Taking the name of the source (duplicated entry) from the pybdsf catalogue\n",
    "pybdsf_duplicated = np.array(pybdsf[pybdsf.duplicated('Source_Name')]['Source_Name'])[0]\n",
    "pybdsf_duplicated"
   ]
  },
  {
   "cell_type": "markdown",
   "metadata": {},
   "source": [
    "##### Renaming on the Artifact catalogue "
   ]
  },
  {
   "cell_type": "code",
   "execution_count": 79,
   "metadata": {},
   "outputs": [],
   "source": [
    "# Creating a copy for the new artifact catalogue\n",
    "artifacts_cleaned = artifacts.copy()\n",
    "# Replacing the original name by 'nameB'\n",
    "clean_art = artifacts_cleaned['Source_Name'].replace({pybdsf_duplicated:pybdsf_duplicated+'B'})\n",
    "# Updating the new catalogue\n",
    "artifacts_cleaned.update(clean_art)"
   ]
  },
  {
   "cell_type": "markdown",
   "metadata": {},
   "source": [
    "##### Renaming on the Pybdsf catalogue"
   ]
  },
  {
   "cell_type": "code",
   "execution_count": 80,
   "metadata": {},
   "outputs": [],
   "source": [
    "# Creating a copy for the new pybdsf catalogue\n",
    "pybdsf_cleaned = pybdsf.copy()\n",
    "# Replacing the original name of the artifact on pybdsf catalogue\n",
    "clean_pybdsf = pybdsf[pybdsf.duplicated('Source_Name', keep = 'last')].\\\n",
    "        replace({pybdsf_duplicated:pybdsf_duplicated+'B'})\n",
    "# Updating the new catalogue\n",
    "pybdsf_cleaned.update(clean_pybdsf)"
   ]
  },
  {
   "cell_type": "markdown",
   "metadata": {},
   "source": [
    "##### Renaming on the Gaussian catalogue (even though this catalogue is not used here)"
   ]
  },
  {
   "cell_type": "code",
   "execution_count": 82,
   "metadata": {},
   "outputs": [],
   "source": [
    "# Creating a copy for the new gaussian catalogue\n",
    "gauss_cleaned = gauss.copy()\n",
    "# Replacing the original name of the artifact on pybdsf catalogue\n",
    "clean_gauss = gauss[gauss.duplicated('Source_Name', keep = 'last')].\\\n",
    "        replace({pybdsf_duplicated:pybdsf_duplicated+'B'})\n",
    "# Updating the new catalogue\n",
    "gauss_cleaned.update(clean_gauss)"
   ]
  },
  {
   "cell_type": "markdown",
   "metadata": {},
   "source": [
    "#### Eliminating duplicated entries"
   ]
  },
  {
   "cell_type": "markdown",
   "metadata": {},
   "source": [
    "`Source_Name` entries are duplicated in LoTSS DR1 ** Components catalogue ** (9 equal `Souce_Name` components). These are entries where `Source_Name = Component_Name` (which is equal to pybdsf name)."
   ]
  },
  {
   "cell_type": "code",
   "execution_count": 7,
   "metadata": {},
   "outputs": [
    {
     "data": {
      "text/plain": [
       "324615"
      ]
     },
     "execution_count": 7,
     "metadata": {},
     "output_type": "execute_result"
    }
   ],
   "source": [
    "# Eliminating these from the components catalogue (and just keeping the first entry)\n",
    "clean_comp = components.drop_duplicates('Component_Name', keep = 'first')\n",
    "len(clean_comp)"
   ]
  },
  {
   "cell_type": "markdown",
   "metadata": {},
   "source": [
    "#### Eliminating a component on the components catalogue that is an artifact"
   ]
  },
  {
   "cell_type": "code",
   "execution_count": 8,
   "metadata": {},
   "outputs": [
    {
     "data": {
      "text/plain": [
       "728    ILTJ115320.73+552641.4\n",
       "Name: Source_Name, dtype: object"
      ]
     },
     "execution_count": 8,
     "metadata": {},
     "output_type": "execute_result"
    }
   ],
   "source": [
    "# This is an artifact from the artifact catalogue that was not removed from the components catalogue\n",
    "component_artifact = artifacts_cleaned[artifacts_cleaned['Source_Name'].\n",
    "                                       isin(clean_comp['Component_Name'])]\n",
    "component_artifact['Source_Name']"
   ]
  },
  {
   "cell_type": "code",
   "execution_count": 9,
   "metadata": {},
   "outputs": [
    {
     "data": {
      "text/plain": [
       "324614"
      ]
     },
     "execution_count": 9,
     "metadata": {},
     "output_type": "execute_result"
    }
   ],
   "source": [
    "components_cleaned = clean_comp[~clean_comp['Component_Name'].\n",
    "                                isin(component_artifact['Source_Name'])]\n",
    "len(components_cleaned)"
   ]
  },
  {
   "cell_type": "markdown",
   "metadata": {},
   "source": [
    "***\n",
    "## Diagnosis output table outline\n",
    "***"
   ]
  },
  {
   "cell_type": "markdown",
   "metadata": {},
   "source": [
    "### Creating a diagnosis output table outline"
   ]
  },
  {
   "cell_type": "code",
   "execution_count": 10,
   "metadata": {},
   "outputs": [
    {
     "data": {
      "text/html": [
       "<div>\n",
       "<style>\n",
       "    .dataframe thead tr:only-child th {\n",
       "        text-align: right;\n",
       "    }\n",
       "\n",
       "    .dataframe thead th {\n",
       "        text-align: left;\n",
       "    }\n",
       "\n",
       "    .dataframe tbody tr th {\n",
       "        vertical-align: top;\n",
       "    }\n",
       "</style>\n",
       "<table border=\"1\" class=\"dataframe\">\n",
       "  <thead>\n",
       "    <tr style=\"text-align: right;\">\n",
       "      <th></th>\n",
       "      <th>pybdsf_name</th>\n",
       "      <th>association_name</th>\n",
       "      <th>flag</th>\n",
       "    </tr>\n",
       "  </thead>\n",
       "  <tbody>\n",
       "  </tbody>\n",
       "</table>\n",
       "</div>"
      ],
      "text/plain": [
       "Empty DataFrame\n",
       "Columns: [pybdsf_name, association_name, flag]\n",
       "Index: []"
      ]
     },
     "execution_count": 10,
     "metadata": {},
     "output_type": "execute_result"
    }
   ],
   "source": [
    "col_names =  ['pybdsf_name', 'association_name', 'flag']\n",
    "output_df  = pd.DataFrame(columns = col_names)\n",
    "output_df"
   ]
  },
  {
   "cell_type": "markdown",
   "metadata": {},
   "source": [
    "### Creating empty lists to store the different PyBDSF association groups "
   ]
  },
  {
   "cell_type": "code",
   "execution_count": 11,
   "metadata": {},
   "outputs": [],
   "source": [
    "pybdsf_multi_df = []\n",
    "pybdsf_deblended_df = []\n",
    "pybdsf_singles_df = []\n",
    "pybdsf_artifacts_df = []"
   ]
  },
  {
   "cell_type": "markdown",
   "metadata": {},
   "source": [
    "### Creating a unit test"
   ]
  },
  {
   "cell_type": "markdown",
   "metadata": {},
   "source": [
    "This test is used, throughout the notebook, to check if the different association groups are being correctly appended to the output table."
   ]
  },
  {
   "cell_type": "code",
   "execution_count": 12,
   "metadata": {},
   "outputs": [],
   "source": [
    "#Creating a function to be tested\n",
    "def len_output_df(artifacts, singles, deblends, multiples):\n",
    "    return len(artifacts)+ len(singles)+len(deblends)+len(multiples)"
   ]
  },
  {
   "cell_type": "code",
   "execution_count": 13,
   "metadata": {},
   "outputs": [],
   "source": [
    "# Create a test case\n",
    "class Test_output(unittest.TestCase):\n",
    "    # Create the unit test\n",
    "    def test_len_output_df(self):\n",
    "        # Test if length of output table is the expected one\n",
    "        self.assertEqual(len(output_df), len_output_df(pybdsf_artifacts_df,\n",
    "                                                       pybdsf_deblended_df,\n",
    "                                                       pybdsf_multi_df,\n",
    "                                                       pybdsf_singles_df))"
   ]
  },
  {
   "cell_type": "code",
   "execution_count": 14,
   "metadata": {},
   "outputs": [
    {
     "name": "stderr",
     "output_type": "stream",
     "text": [
      "test_len_output_df (__main__.Test_output) ... ok\n",
      "\n",
      "----------------------------------------------------------------------\n",
      "Ran 1 test in 0.004s\n",
      "\n",
      "OK\n"
     ]
    },
    {
     "data": {
      "text/plain": [
       "<unittest.main.TestProgram at 0x1150a5550>"
      ]
     },
     "execution_count": 14,
     "metadata": {},
     "output_type": "execute_result"
    }
   ],
   "source": [
    "# Run the unit test\n",
    "unittest.main(argv=['ignored', '-v'], exit=False)"
   ]
  },
  {
   "cell_type": "markdown",
   "metadata": {},
   "source": [
    "***\n",
    "## Multi-component PyBDSF sources\n",
    "***"
   ]
  },
  {
   "cell_type": "markdown",
   "metadata": {},
   "source": [
    "**Sources where different PyBDSF sources were associated (but have not been through deblendeding)**"
   ]
  },
  {
   "cell_type": "code",
   "execution_count": 15,
   "metadata": {},
   "outputs": [],
   "source": [
    "# Creating a condition to select the sources that are made up of more than one component\n",
    "# It returns the names of the sources \n",
    "cond_multi = pd.DataFrame([components_cleaned['Source_Name'].value_counts() > 1][0])"
   ]
  },
  {
   "cell_type": "code",
   "execution_count": 16,
   "metadata": {},
   "outputs": [
    {
     "data": {
      "text/plain": [
       "3774"
      ]
     },
     "execution_count": 16,
     "metadata": {},
     "output_type": "execute_result"
    }
   ],
   "source": [
    "# Taking the source names that meet the condition (names of the sources correspond to the indexes)\n",
    "multi_names = pd.DataFrame(cond_multi[cond_multi['Source_Name']].index.values)\n",
    "len(multi_names)"
   ]
  },
  {
   "cell_type": "code",
   "execution_count": 17,
   "metadata": {},
   "outputs": [
    {
     "data": {
      "text/plain": [
       "9868"
      ]
     },
     "execution_count": 17,
     "metadata": {},
     "output_type": "execute_result"
    }
   ],
   "source": [
    "# Taking the components that make up these source names\n",
    "multi_components = components_cleaned[components_cleaned['Source_Name'].isin(multi_names[0])]\n",
    "len(multi_components)"
   ]
  },
  {
   "cell_type": "markdown",
   "metadata": {},
   "source": [
    "#### Selecting the sources"
   ]
  },
  {
   "cell_type": "code",
   "execution_count": 18,
   "metadata": {},
   "outputs": [],
   "source": [
    "# Selecting from Deblended_from empty field\n",
    "multi_not_deblended = multi_components[multi_components['Deblended_from'] == '']"
   ]
  },
  {
   "cell_type": "code",
   "execution_count": 19,
   "metadata": {},
   "outputs": [
    {
     "data": {
      "text/plain": [
       "9007"
      ]
     },
     "execution_count": 19,
     "metadata": {},
     "output_type": "execute_result"
    }
   ],
   "source": [
    "# Number of components\n",
    "len(multi_not_deblended)"
   ]
  },
  {
   "cell_type": "code",
   "execution_count": 20,
   "metadata": {},
   "outputs": [
    {
     "data": {
      "text/plain": [
       "9007"
      ]
     },
     "execution_count": 20,
     "metadata": {},
     "output_type": "execute_result"
    }
   ],
   "source": [
    "# Which is equal to the number of components = number of pybdsf names (1-1 relation)\n",
    "len(multi_not_deblended.groupby('Component_Name'))"
   ]
  },
  {
   "cell_type": "code",
   "execution_count": 21,
   "metadata": {},
   "outputs": [
    {
     "data": {
      "text/plain": [
       "3565"
      ]
     },
     "execution_count": 21,
     "metadata": {},
     "output_type": "execute_result"
    }
   ],
   "source": [
    "# This corresponds to the number of sources\n",
    "len(multi_not_deblended.groupby('Source_Name'))"
   ]
  },
  {
   "cell_type": "markdown",
   "metadata": {},
   "source": [
    "#### Creating a multi-component sources table for the NON-Deblends"
   ]
  },
  {
   "cell_type": "code",
   "execution_count": 22,
   "metadata": {},
   "outputs": [],
   "source": [
    "# Multi-component sources table just for the ones that were not deblended\n",
    "pybdsf_multi_df = pd.DataFrame({\n",
    "    'pybdsf_name':multi_not_deblended['Component_Name'],\n",
    "    'flag': 8,\n",
    "    'association_name': multi_not_deblended['Source_Name']})"
   ]
  },
  {
   "cell_type": "code",
   "execution_count": 23,
   "metadata": {},
   "outputs": [
    {
     "data": {
      "text/plain": [
       "count                       9007\n",
       "unique                      3565\n",
       "top       ILTJ140313.38+542018.9\n",
       "freq                          35\n",
       "Name: association_name, dtype: object"
      ]
     },
     "execution_count": 23,
     "metadata": {},
     "output_type": "execute_result"
    }
   ],
   "source": [
    "pybdsf_multi_df['association_name'].describe()"
   ]
  },
  {
   "cell_type": "markdown",
   "metadata": {},
   "source": [
    "#### Updating the output table"
   ]
  },
  {
   "cell_type": "code",
   "execution_count": 24,
   "metadata": {},
   "outputs": [
    {
     "name": "stderr",
     "output_type": "stream",
     "text": [
      "test_len_output_df (__main__.Test_output) ... ok\n",
      "\n",
      "----------------------------------------------------------------------\n",
      "Ran 1 test in 0.002s\n",
      "\n",
      "OK\n"
     ]
    },
    {
     "data": {
      "text/plain": [
       "<unittest.main.TestProgram at 0x115c313d0>"
      ]
     },
     "execution_count": 24,
     "metadata": {},
     "output_type": "execute_result"
    }
   ],
   "source": [
    "output_df = output_df.append(pybdsf_multi_df,ignore_index=True)\n",
    "unittest.main(argv=['ignored', '-v'], exit=False)"
   ]
  },
  {
   "cell_type": "markdown",
   "metadata": {},
   "source": [
    "***\n",
    "## Deblended sources\n",
    "***\n"
   ]
  },
  {
   "cell_type": "markdown",
   "metadata": {},
   "source": [
    "**Deblended sources are distint sources that were originally associated by PyBDSF as only one source.**"
   ]
  },
  {
   "cell_type": "markdown",
   "metadata": {},
   "source": [
    "Deblended sources are selected from the **components catalogue** (which links directly to the PyBDSF catalogue through `Deblended_from` column)."
   ]
  },
  {
   "cell_type": "markdown",
   "metadata": {},
   "source": [
    "#### Having a look at the number of sources"
   ]
  },
  {
   "cell_type": "code",
   "execution_count": 25,
   "metadata": {},
   "outputs": [
    {
     "data": {
      "text/plain": [
       "935"
      ]
     },
     "execution_count": 25,
     "metadata": {},
     "output_type": "execute_result"
    }
   ],
   "source": [
    "# Total number of PyBDSF sources that were deblended\n",
    "len(components_cleaned[components_cleaned['Deblended_from'] != ''].groupby('Deblended_from'))"
   ]
  },
  {
   "cell_type": "code",
   "execution_count": 26,
   "metadata": {},
   "outputs": [
    {
     "data": {
      "text/plain": [
       "2446"
      ]
     },
     "execution_count": 26,
     "metadata": {},
     "output_type": "execute_result"
    }
   ],
   "source": [
    "# Total number of components that make these PyBDSF\n",
    "components_deblended = components_cleaned[components_cleaned['Deblended_from'] != '']\n",
    "len(components_deblended)"
   ]
  },
  {
   "cell_type": "code",
   "execution_count": 27,
   "metadata": {},
   "outputs": [
    {
     "data": {
      "text/plain": [
       "1794"
      ]
     },
     "execution_count": 27,
     "metadata": {},
     "output_type": "execute_result"
    }
   ],
   "source": [
    "# Total number of sources after deblending\n",
    "len(components_deblended.groupby('Source_Name'))"
   ]
  },
  {
   "cell_type": "markdown",
   "metadata": {},
   "source": [
    "#### Taking the PyBDSF Source Names"
   ]
  },
  {
   "cell_type": "markdown",
   "metadata": {},
   "source": [
    "We have to search each PyBDSF in `components_deblended` and take the correct names:"
   ]
  },
  {
   "cell_type": "code",
   "execution_count": 28,
   "metadata": {},
   "outputs": [
    {
     "data": {
      "text/plain": [
       "935"
      ]
     },
     "execution_count": 28,
     "metadata": {},
     "output_type": "execute_result"
    }
   ],
   "source": [
    "deblended_pybdsf_names = components_deblended.drop_duplicates('Deblended_from')['Deblended_from']\n",
    "len(deblended_pybdsf_names)"
   ]
  },
  {
   "cell_type": "markdown",
   "metadata": {},
   "source": [
    "This has to be done this way because 1 PyBDSF source can have been deblended into 2 (or more) sources directly; or deblended and associated to other source. For that reason after droping duplicated association names (`Source_Name` below), we miss some of the original PyBDSF names:"
   ]
  },
  {
   "cell_type": "code",
   "execution_count": 29,
   "metadata": {},
   "outputs": [
    {
     "data": {
      "text/plain": [
       "908"
      ]
     },
     "execution_count": 29,
     "metadata": {},
     "output_type": "execute_result"
    }
   ],
   "source": [
    "len((components_deblended.drop_duplicates('Source_Name')).groupby('Deblended_from'))"
   ]
  },
  {
   "cell_type": "markdown",
   "metadata": {},
   "source": [
    "#### Creating the deblended table"
   ]
  },
  {
   "cell_type": "code",
   "execution_count": 30,
   "metadata": {},
   "outputs": [],
   "source": [
    "pybdsf_deblended_df = pd.DataFrame(columns = col_names)\n",
    "for i in range(0,len(deblended_pybdsf_names)):\n",
    "    corresp = components_deblended[components_deblended['Deblended_from'] == deblended_pybdsf_names.\n",
    "                                   iloc[i]][['Deblended_from','Source_Name']]\n",
    "    pybdsf_deblended = pd.DataFrame(\n",
    "        {'pybdsf_name':deblended_pybdsf_names.iloc[i],\n",
    "        'flag':4,\n",
    "        'association_name': corresp.drop_duplicates()['Source_Name']})\n",
    "    pybdsf_deblended_df = pybdsf_deblended_df.append(pybdsf_deblended)"
   ]
  },
  {
   "cell_type": "markdown",
   "metadata": {},
   "source": [
    "This table is no longer a 1-1 relationship:"
   ]
  },
  {
   "cell_type": "code",
   "execution_count": 31,
   "metadata": {},
   "outputs": [
    {
     "data": {
      "text/html": [
       "<div>\n",
       "<style>\n",
       "    .dataframe thead tr:only-child th {\n",
       "        text-align: right;\n",
       "    }\n",
       "\n",
       "    .dataframe thead th {\n",
       "        text-align: left;\n",
       "    }\n",
       "\n",
       "    .dataframe tbody tr th {\n",
       "        vertical-align: top;\n",
       "    }\n",
       "</style>\n",
       "<table border=\"1\" class=\"dataframe\">\n",
       "  <thead>\n",
       "    <tr style=\"text-align: right;\">\n",
       "      <th></th>\n",
       "      <th>association_name</th>\n",
       "      <th>flag</th>\n",
       "      <th>pybdsf_name</th>\n",
       "    </tr>\n",
       "  </thead>\n",
       "  <tbody>\n",
       "    <tr>\n",
       "      <th>count</th>\n",
       "      <td>1832</td>\n",
       "      <td>1832</td>\n",
       "      <td>1832</td>\n",
       "    </tr>\n",
       "    <tr>\n",
       "      <th>unique</th>\n",
       "      <td>1794</td>\n",
       "      <td>1</td>\n",
       "      <td>935</td>\n",
       "    </tr>\n",
       "    <tr>\n",
       "      <th>top</th>\n",
       "      <td>ILTJ141420.38+462620.3</td>\n",
       "      <td>4</td>\n",
       "      <td>ILTJ112051.72+474517.1</td>\n",
       "    </tr>\n",
       "    <tr>\n",
       "      <th>freq</th>\n",
       "      <td>4</td>\n",
       "      <td>1832</td>\n",
       "      <td>3</td>\n",
       "    </tr>\n",
       "  </tbody>\n",
       "</table>\n",
       "</div>"
      ],
      "text/plain": [
       "              association_name  flag             pybdsf_name\n",
       "count                     1832  1832                    1832\n",
       "unique                    1794     1                     935\n",
       "top     ILTJ141420.38+462620.3     4  ILTJ112051.72+474517.1\n",
       "freq                         4  1832                       3"
      ]
     },
     "execution_count": 31,
     "metadata": {},
     "output_type": "execute_result"
    }
   ],
   "source": [
    "pybdsf_deblended_df.describe()"
   ]
  },
  {
   "cell_type": "markdown",
   "metadata": {},
   "source": [
    "### Sources that were both deblended and have multi PyBDSF components\n",
    "***"
   ]
  },
  {
   "cell_type": "markdown",
   "metadata": {},
   "source": [
    "Some of the deblended sources were also associated with other PyBDSF sources."
   ]
  },
  {
   "cell_type": "code",
   "execution_count": 32,
   "metadata": {},
   "outputs": [],
   "source": [
    "# Taking the deblended sources that appear more than once on components deblended\n",
    "cond_deblended_multi = pd.DataFrame([components_deblended['Source_Name'].value_counts() > 1][0])"
   ]
  },
  {
   "cell_type": "code",
   "execution_count": 33,
   "metadata": {},
   "outputs": [],
   "source": [
    "# Taking the names for these sources (i.e. optical source names in the components catalogue)\n",
    "deblended_multi_names = pd.DataFrame(cond_deblended_multi[cond_deblended_multi['Source_Name']].index.values)"
   ]
  },
  {
   "cell_type": "code",
   "execution_count": 34,
   "metadata": {},
   "outputs": [],
   "source": [
    "# Selecting the components that make up these sources\n",
    "multi_and_deblended = multi_components[multi_components['Deblended_from'] != '']"
   ]
  },
  {
   "cell_type": "markdown",
   "metadata": {},
   "source": [
    "#### Creating a multi-component sources table for the deblended sources"
   ]
  },
  {
   "cell_type": "code",
   "execution_count": 35,
   "metadata": {},
   "outputs": [],
   "source": [
    "pybdsf_multi_deblended_df = pd.DataFrame(columns = col_names)\n",
    "for i in range(0,len(deblended_multi_names)):\n",
    "    sources_md = multi_and_deblended[multi_and_deblended['Source_Name'] \n",
    "                                     == deblended_multi_names[0][i]]\n",
    "    pybdfs_md = sources_md['Deblended_from'].unique()\n",
    "    if len(pybdfs_md) > 1 == True:\n",
    "        sources_md_names = pybdsf_deblended_df[pybdsf_deblended_df['association_name'].\n",
    "                                               isin(sources_md['Source_Name'])]['association_name']\n",
    "        for j in range(0,len(pybdfs_md)):\n",
    "            pybdsf_multi_deblended = pd.DataFrame(\n",
    "                {'pybdsf_name':pybdfs_md[j],\n",
    "                 'flag':12,\n",
    "                 'association_name': sources_md_names}, index = [sources_md_names.index.values[j]])\n",
    "            pybdsf_multi_deblended_df = pybdsf_multi_deblended_df.append(pybdsf_multi_deblended)"
   ]
  },
  {
   "cell_type": "code",
   "execution_count": 36,
   "metadata": {},
   "outputs": [
    {
     "data": {
      "text/plain": [
       "69"
      ]
     },
     "execution_count": 36,
     "metadata": {},
     "output_type": "execute_result"
    }
   ],
   "source": [
    "len(pybdsf_multi_deblended_df)"
   ]
  },
  {
   "cell_type": "code",
   "execution_count": 37,
   "metadata": {},
   "outputs": [],
   "source": [
    "# Updating the deblended table\n",
    "pybdsf_deblended_df.update(pybdsf_multi_deblended_df)"
   ]
  },
  {
   "cell_type": "markdown",
   "metadata": {},
   "source": [
    "### Sources that were not deblended\n",
    "***"
   ]
  },
  {
   "cell_type": "markdown",
   "metadata": {},
   "source": [
    "PyBDSF sources that have `deblended_from` but just have an optical source correspondence"
   ]
  },
  {
   "cell_type": "markdown",
   "metadata": {},
   "source": [
    "** Selecting these sources and giving them a flag 2 ** \n",
    "\n",
    "Note that these include singles (flag=1) and PyBDSF sources that were grouped with other PyBDSFs (flag=8)"
   ]
  },
  {
   "cell_type": "code",
   "execution_count": 38,
   "metadata": {},
   "outputs": [],
   "source": [
    "deblended_names = components_cleaned[components_cleaned['Deblended_from'] != '']['Deblended_from'].unique()\n",
    "pybdsf_fcd_df = pd.DataFrame(columns = col_names)\n",
    "for i in range(0,len(deblended_names)):  #for i in range(0,len(deblended_names)): \n",
    "    components_group = components_cleaned[components_cleaned['Deblended_from'] == deblended_names[i]]\n",
    "    #print (components_group['Source_Name'],  len(components_group.groupby('Source_Name')) < 2 )\n",
    "    if len(components_group.groupby('Source_Name')) < 2:\n",
    "        pybdsf_fcd = pd.DataFrame(\n",
    "                {'pybdsf_name':components_group['Deblended_from'],\n",
    "                 'flag':2,\n",
    "                 'association_name': components_group['Source_Name']})\n",
    "        pybdsf_fcd_df = pybdsf_fcd_df.append(pybdsf_fcd)"
   ]
  },
  {
   "cell_type": "code",
   "execution_count": 39,
   "metadata": {},
   "outputs": [
    {
     "data": {
      "text/plain": [
       "74"
      ]
     },
     "execution_count": 39,
     "metadata": {},
     "output_type": "execute_result"
    }
   ],
   "source": [
    "len(pybdsf_fcd_df) "
   ]
  },
  {
   "cell_type": "markdown",
   "metadata": {},
   "source": [
    "### MULTIPLE PyBDSF COMPONENTS"
   ]
  },
  {
   "cell_type": "code",
   "execution_count": 40,
   "metadata": {},
   "outputs": [
    {
     "data": {
      "text/plain": [
       "39"
      ]
     },
     "execution_count": 40,
     "metadata": {},
     "output_type": "execute_result"
    }
   ],
   "source": [
    "deblended_multi = pybdsf_deblended_df[\n",
    "                (pybdsf_deblended_df['pybdsf_name'].isin(pybdsf_fcd_df['pybdsf_name'])) &\n",
    "                (pybdsf_deblended_df['flag'] == 12)]\n",
    "len(deblended_multi)"
   ]
  },
  {
   "cell_type": "code",
   "execution_count": 41,
   "metadata": {},
   "outputs": [],
   "source": [
    "# Creating a table for these multiples with flag = 10 (flag = 2 + flag = 8)\n",
    "deblended_multi_df = deblended_multi.copy()\n",
    "deblended_multi_df['flag'] = 10"
   ]
  },
  {
   "cell_type": "code",
   "execution_count": 42,
   "metadata": {},
   "outputs": [
    {
     "data": {
      "text/plain": [
       "4.0     1763\n",
       "10.0      39\n",
       "12.0      30\n",
       "Name: flag, dtype: int64"
      ]
     },
     "execution_count": 42,
     "metadata": {},
     "output_type": "execute_result"
    }
   ],
   "source": [
    "# Updating the deblended table\n",
    "pybdsf_deblended_df.update(deblended_multi_df)\n",
    "pybdsf_deblended_df['flag'].value_counts()"
   ]
  },
  {
   "cell_type": "markdown",
   "metadata": {},
   "source": [
    "### SINGLES"
   ]
  },
  {
   "cell_type": "code",
   "execution_count": 43,
   "metadata": {},
   "outputs": [
    {
     "data": {
      "text/plain": [
       "13"
      ]
     },
     "execution_count": 43,
     "metadata": {},
     "output_type": "execute_result"
    }
   ],
   "source": [
    "deblended_singles = pybdsf_deblended_df[\n",
    "                (pybdsf_deblended_df['pybdsf_name'].isin(pybdsf_fcd_df['pybdsf_name'])) &\n",
    "                (pybdsf_deblended_df['flag'] == 4)]\n",
    "len(deblended_singles)"
   ]
  },
  {
   "cell_type": "code",
   "execution_count": 44,
   "metadata": {},
   "outputs": [],
   "source": [
    "# Creating a table for these singles with flag = 3 (flag = 2 + flag = 1)\n",
    "deblended_singles_df = deblended_singles.copy()\n",
    "deblended_singles_df['flag'] = 3"
   ]
  },
  {
   "cell_type": "code",
   "execution_count": 45,
   "metadata": {},
   "outputs": [
    {
     "data": {
      "text/plain": [
       "4.0     1750\n",
       "10.0      39\n",
       "12.0      30\n",
       "3.0       13\n",
       "Name: flag, dtype: int64"
      ]
     },
     "execution_count": 45,
     "metadata": {},
     "output_type": "execute_result"
    }
   ],
   "source": [
    "# Updating the deblended table\n",
    "pybdsf_deblended_df.update(deblended_singles_df)\n",
    "pybdsf_deblended_df['flag'].value_counts()"
   ]
  },
  {
   "cell_type": "markdown",
   "metadata": {},
   "source": [
    "***"
   ]
  },
  {
   "cell_type": "markdown",
   "metadata": {},
   "source": [
    "### Appending to the output table"
   ]
  },
  {
   "cell_type": "code",
   "execution_count": 46,
   "metadata": {},
   "outputs": [
    {
     "name": "stderr",
     "output_type": "stream",
     "text": [
      "test_len_output_df (__main__.Test_output) ... ok\n",
      "\n",
      "----------------------------------------------------------------------\n",
      "Ran 1 test in 0.002s\n",
      "\n",
      "OK\n"
     ]
    },
    {
     "data": {
      "text/plain": [
       "<unittest.main.TestProgram at 0x114bf4f90>"
      ]
     },
     "execution_count": 46,
     "metadata": {},
     "output_type": "execute_result"
    }
   ],
   "source": [
    "output_df = output_df.append(pybdsf_deblended_df,ignore_index=True) \n",
    "unittest.main(argv=['ignored', '-v'], exit=False)"
   ]
  },
  {
   "cell_type": "markdown",
   "metadata": {},
   "source": [
    "***\n",
    "## Single sources\n",
    "***"
   ]
  },
  {
   "cell_type": "markdown",
   "metadata": {},
   "source": [
    "Single sources are PyBDSF sources that have not been deblended, grouped with other PyBDSFs and are not artifacts. They have a unique correspondence between the PyBDFS raw catalogue and the final optical catalogue. "
   ]
  },
  {
   "cell_type": "markdown",
   "metadata": {},
   "source": [
    "### Selecting all the sources that have a unique PyBDSF - Optical source name correspondence"
   ]
  },
  {
   "cell_type": "markdown",
   "metadata": {},
   "source": [
    "These sources can be selected using the condition defined for multiple sources, using the number of times sources (`Source_Name`) appear on the **components catalogue**."
   ]
  },
  {
   "cell_type": "code",
   "execution_count": 47,
   "metadata": {},
   "outputs": [],
   "source": [
    "# Condition to select the sources that are NOT made up of multi components\n",
    "cond_single = ~cond_multi"
   ]
  },
  {
   "cell_type": "code",
   "execution_count": 48,
   "metadata": {},
   "outputs": [
    {
     "data": {
      "text/plain": [
       "314746"
      ]
     },
     "execution_count": 48,
     "metadata": {},
     "output_type": "execute_result"
    }
   ],
   "source": [
    "# taking the names of these sources\n",
    "single_names = pd.DataFrame(cond_single[cond_single['Source_Name']].index.values)\n",
    "len(single_names)"
   ]
  },
  {
   "cell_type": "markdown",
   "metadata": {},
   "source": [
    "### Selecting the ones that did not went through deblending "
   ]
  },
  {
   "cell_type": "markdown",
   "metadata": {},
   "source": [
    "Note that some of these went through a deblending process (i.e. after deblending, one of the sources got the original PyBDSF name and other got a different name)."
   ]
  },
  {
   "cell_type": "code",
   "execution_count": 49,
   "metadata": {},
   "outputs": [
    {
     "data": {
      "text/plain": [
       "313161"
      ]
     },
     "execution_count": 49,
     "metadata": {},
     "output_type": "execute_result"
    }
   ],
   "source": [
    "# Taking the components name for the sources that did not went through deblending\n",
    "single_components = components_cleaned[(components_cleaned['Source_Name'].isin(single_names[0])) &\\\n",
    "                           (components_cleaned['Deblended_from'] == '')]\n",
    "len(single_components)"
   ]
  },
  {
   "cell_type": "code",
   "execution_count": 50,
   "metadata": {},
   "outputs": [
    {
     "data": {
      "text/plain": [
       "(313161, 313161)"
      ]
     },
     "execution_count": 50,
     "metadata": {},
     "output_type": "execute_result"
    }
   ],
   "source": [
    "# Confirming\n",
    "len(single_components.groupby('Component_Name')), len(single_components.groupby('Source_Name'))"
   ]
  },
  {
   "cell_type": "markdown",
   "metadata": {},
   "source": [
    "### Creating a single sources table"
   ]
  },
  {
   "cell_type": "code",
   "execution_count": 51,
   "metadata": {},
   "outputs": [],
   "source": [
    "pybdsf_singles_df = pd.DataFrame({\n",
    "    'pybdsf_name':single_components['Component_Name'],\n",
    "    'flag':1,\n",
    "    'association_name': single_components['Source_Name']})"
   ]
  },
  {
   "cell_type": "markdown",
   "metadata": {},
   "source": [
    "### Updating the output table"
   ]
  },
  {
   "cell_type": "code",
   "execution_count": 52,
   "metadata": {},
   "outputs": [
    {
     "name": "stderr",
     "output_type": "stream",
     "text": [
      "test_len_output_df (__main__.Test_output) ... ok\n",
      "\n",
      "----------------------------------------------------------------------\n",
      "Ran 1 test in 0.002s\n",
      "\n",
      "OK\n"
     ]
    },
    {
     "data": {
      "text/plain": [
       "<unittest.main.TestProgram at 0x11dff9fd0>"
      ]
     },
     "execution_count": 52,
     "metadata": {},
     "output_type": "execute_result"
    }
   ],
   "source": [
    "output_df = output_df.append(pybdsf_singles_df,ignore_index=True) \n",
    "unittest.main(argv=['ignored', '-v'], exit=False)"
   ]
  },
  {
   "cell_type": "markdown",
   "metadata": {},
   "source": [
    "***\n",
    "## Artifacts\n",
    "***"
   ]
  },
  {
   "cell_type": "markdown",
   "metadata": {},
   "source": [
    "### Artifacts from the (cleaned) artifact catalogue"
   ]
  },
  {
   "cell_type": "code",
   "execution_count": 53,
   "metadata": {},
   "outputs": [
    {
     "data": {
      "text/plain": [
       "2543"
      ]
     },
     "execution_count": 53,
     "metadata": {},
     "output_type": "execute_result"
    }
   ],
   "source": [
    "pybdsf_artifacts = pybdsf_cleaned[pybdsf_cleaned['Source_Name'].\n",
    "                    isin(artifacts_cleaned['Source_Name'])]\n",
    "len(pybdsf_artifacts)"
   ]
  },
  {
   "cell_type": "markdown",
   "metadata": {},
   "source": [
    "Creating a diagnosis artifact table"
   ]
  },
  {
   "cell_type": "code",
   "execution_count": 54,
   "metadata": {},
   "outputs": [],
   "source": [
    "pybdsf_artifacts_df = pd.DataFrame({\n",
    "    'pybdsf_name':pybdsf_artifacts['Source_Name'],\n",
    "    'flag':16,\n",
    "    'association_name': 'NULL'})"
   ]
  },
  {
   "cell_type": "markdown",
   "metadata": {},
   "source": [
    "**Appending to the output table**"
   ]
  },
  {
   "cell_type": "code",
   "execution_count": 55,
   "metadata": {},
   "outputs": [
    {
     "name": "stderr",
     "output_type": "stream",
     "text": [
      "test_len_output_df (__main__.Test_output) ... ok\n",
      "\n",
      "----------------------------------------------------------------------\n",
      "Ran 1 test in 0.002s\n",
      "\n",
      "OK\n"
     ]
    },
    {
     "data": {
      "text/plain": [
       "<unittest.main.TestProgram at 0x11dff9f90>"
      ]
     },
     "execution_count": 55,
     "metadata": {},
     "output_type": "execute_result"
    }
   ],
   "source": [
    "output_df = output_df.append(pybdsf_artifacts_df, ignore_index=True)\n",
    "unittest.main(argv=['ignored', '-v'], exit=False)"
   ]
  },
  {
   "cell_type": "markdown",
   "metadata": {},
   "source": [
    "### Sources missing from the optical catalogue are now being classified as artifacts"
   ]
  },
  {
   "cell_type": "markdown",
   "metadata": {},
   "source": [
    "PyBDSF raw catalogue sources that are not on the output table and not anywhere are now being classified as artifacts"
   ]
  },
  {
   "cell_type": "code",
   "execution_count": 56,
   "metadata": {},
   "outputs": [
    {
     "name": "stdout",
     "output_type": "stream",
     "text": [
      "48\n"
     ]
    }
   ],
   "source": [
    "artifacts_not_anywhere = pybdsf_cleaned[~pybdsf_cleaned['Source_Name'].isin(output_df['pybdsf_name'])]\n",
    "print (len(artifacts_not_anywhere))"
   ]
  },
  {
   "cell_type": "code",
   "execution_count": 57,
   "metadata": {},
   "outputs": [],
   "source": [
    "artifacts_not_anywhere_df = pd.DataFrame({\n",
    "    'pybdsf_name': artifacts_not_anywhere['Source_Name'],\n",
    "    'flag': 32,\n",
    "    'association_name': 'NULL'})"
   ]
  },
  {
   "cell_type": "markdown",
   "metadata": {},
   "source": [
    "Appending the new artifacts the pybdsf artifact table"
   ]
  },
  {
   "cell_type": "code",
   "execution_count": 58,
   "metadata": {},
   "outputs": [
    {
     "data": {
      "text/plain": [
       "2591"
      ]
     },
     "execution_count": 58,
     "metadata": {},
     "output_type": "execute_result"
    }
   ],
   "source": [
    "pybdsf_artifacts_df = pybdsf_artifacts_df.append(artifacts_not_anywhere_df,ignore_index=True)\n",
    "len(pybdsf_artifacts_df)"
   ]
  },
  {
   "cell_type": "markdown",
   "metadata": {},
   "source": [
    "### Updating the output table"
   ]
  },
  {
   "cell_type": "code",
   "execution_count": 59,
   "metadata": {},
   "outputs": [
    {
     "name": "stderr",
     "output_type": "stream",
     "text": [
      "test_len_output_df (__main__.Test_output) ... ok\n",
      "\n",
      "----------------------------------------------------------------------\n",
      "Ran 1 test in 0.002s\n",
      "\n",
      "OK\n"
     ]
    },
    {
     "data": {
      "text/plain": [
       "<unittest.main.TestProgram at 0x11dff9510>"
      ]
     },
     "execution_count": 59,
     "metadata": {},
     "output_type": "execute_result"
    }
   ],
   "source": [
    "output_df = output_df.append(artifacts_not_anywhere_df,ignore_index=True)\n",
    "unittest.main(argv=['ignored', '-v'], exit=False)"
   ]
  },
  {
   "cell_type": "markdown",
   "metadata": {},
   "source": [
    "***\n",
    "## Output table\n",
    "***"
   ]
  },
  {
   "cell_type": "code",
   "execution_count": 60,
   "metadata": {},
   "outputs": [
    {
     "data": {
      "text/plain": [
       "(326591, 325694, 318521)"
      ]
     },
     "execution_count": 60,
     "metadata": {},
     "output_type": "execute_result"
    }
   ],
   "source": [
    "len(output_df), len(output_df.groupby('pybdsf_name')), len(output_df.groupby('association_name'))"
   ]
  },
  {
   "cell_type": "code",
   "execution_count": 61,
   "metadata": {},
   "outputs": [
    {
     "name": "stdout",
     "output_type": "stream",
     "text": [
      "1.0     313161\n",
      "8.0       9007\n",
      "16.0      2543\n",
      "4.0       1750\n",
      "32.0        48\n",
      "10.0        39\n",
      "12.0        30\n",
      "3.0         13\n",
      "Name: flag, dtype: int64\n"
     ]
    }
   ],
   "source": [
    "print (output_df['flag'].value_counts())"
   ]
  },
  {
   "cell_type": "markdown",
   "metadata": {},
   "source": [
    "** Creating an astropy table **"
   ]
  },
  {
   "cell_type": "code",
   "execution_count": 62,
   "metadata": {},
   "outputs": [],
   "source": [
    "output_df['flag'] = pd.to_numeric(output_df['flag'])"
   ]
  },
  {
   "cell_type": "code",
   "execution_count": 63,
   "metadata": {},
   "outputs": [],
   "source": [
    "output_table = Table.from_pandas(output_df)"
   ]
  },
  {
   "cell_type": "markdown",
   "metadata": {},
   "source": [
    "** Writing to a fits file **"
   ]
  },
  {
   "cell_type": "code",
   "execution_count": 64,
   "metadata": {},
   "outputs": [],
   "source": [
    "output_table.write('output_table.fits', overwrite = True)"
   ]
  },
  {
   "cell_type": "code",
   "execution_count": 65,
   "metadata": {},
   "outputs": [],
   "source": [
    "# Can also be saved in as a csv file directly from the pandas table\n",
    "# output_df.to_csv('output_table.csv', index=False)"
   ]
  },
  {
   "cell_type": "markdown",
   "metadata": {},
   "source": [
    "***\n",
    "### Output table summary\n",
    "***"
   ]
  },
  {
   "cell_type": "code",
   "execution_count": 66,
   "metadata": {},
   "outputs": [
    {
     "name": "stdout",
     "output_type": "stream",
     "text": [
      "flag: 1\n",
      "nr of pybdsf: 313161\n",
      "nr of optical: 313161\n",
      "nr of entries: 313161\n",
      "--------\n",
      "flag: 2\n",
      "nr of pybdsf: 0\n",
      "nr of optical: 0\n",
      "nr of entries: 0\n",
      "--------\n",
      "flag: 3\n",
      "nr of pybdsf: 13\n",
      "nr of optical: 13\n",
      "nr of entries: 13\n",
      "--------\n",
      "flag: 4\n",
      "nr of pybdsf: 880\n",
      "nr of optical: 1750\n",
      "nr of entries: 1750\n",
      "--------\n",
      "flag: 8\n",
      "nr of pybdsf: 9007\n",
      "nr of optical: 3565\n",
      "nr of entries: 9007\n",
      "--------\n",
      "flag: 10\n",
      "nr of pybdsf: 39\n",
      "nr of optical: 31\n",
      "nr of entries: 39\n",
      "--------\n",
      "flag: 12\n",
      "nr of pybdsf: 26\n",
      "nr of optical: 30\n",
      "nr of entries: 30\n",
      "--------\n",
      "flag: 16\n",
      "nr of pybdsf: 2543\n",
      "nr of optical: 1\n",
      "nr of entries: 2543\n",
      "--------\n",
      "flag: 32\n",
      "nr of pybdsf: 48\n",
      "nr of optical: 1\n",
      "nr of entries: 48\n",
      "--------\n"
     ]
    }
   ],
   "source": [
    "flag = 1,2,3,4,8,10, 12,16,32\n",
    "for i in flag:\n",
    "    print ('flag:', i)\n",
    "    print ('nr of pybdsf:', len(output_df[output_df['flag'] == i].groupby('pybdsf_name')))\n",
    "    print ('nr of optical:', len(output_df[output_df['flag'] == i].groupby('association_name')))\n",
    "    print ('nr of entries:', len(output_df[output_df['flag'] == i]))\n",
    "    print ('--------')"
   ]
  },
  {
   "cell_type": "markdown",
   "metadata": {},
   "source": [
    "### Notes about multi component PyBDSF sources - Flag 8 "
   ]
  },
  {
   "cell_type": "markdown",
   "metadata": {},
   "source": [
    "There are 9007 PyBDSF sources that make up 3565 optical sources."
   ]
  },
  {
   "cell_type": "code",
   "execution_count": 67,
   "metadata": {},
   "outputs": [
    {
     "name": "stdout",
     "output_type": "stream",
     "text": [
      "Nr of optical sources:\n",
      "- made up 2 PyBDSF sources: 2489 ; ( nr components: 4978 )\n",
      "- made up of more than 2 PyBDSF sources: 1076 ; ( nr components: 4029 )\n"
     ]
    }
   ],
   "source": [
    "multi_big = (output_df[output_df['flag'] == 8].groupby('association_name').count() > 2)\n",
    "print ('Nr of optical sources:') \n",
    "print('- made up 2 PyBDSF sources:',len(multi_big[~multi_big['flag']]),\n",
    "      '; ( nr components:', 2*len(multi_big[~multi_big['flag']]),')')\n",
    "print('- made up of more than 2 PyBDSF sources:',len(multi_big[multi_big['flag']]),\n",
    "      '; ( nr components:', output_df[output_df['flag'] == 8]['association_name'].value_counts()\n",
    "      [0:len(multi_big[multi_big ['flag']])].sum() ,')')"
   ]
  },
  {
   "cell_type": "code",
   "execution_count": 68,
   "metadata": {},
   "outputs": [
    {
     "data": {
      "text/plain": [
       "ILTJ140313.38+542018.9    35\n",
       "ILTJ121903.03+471642.8    33\n",
       "ILTJ140923.52+545712.7    12\n",
       "ILTJ120304.85+513958.6    11\n",
       "ILTJ122155.05+550313.5     9\n",
       "Name: association_name, dtype: int64"
      ]
     },
     "execution_count": 68,
     "metadata": {},
     "output_type": "execute_result"
    }
   ],
   "source": [
    "# 2489 optical sources are made up of 2 PyBDSF sources\n",
    "# but 1076 optical sources are made up of more than 2 PyBDSF sources,\n",
    "# and this can go up to 35 PyBDSFs\n",
    "output_df[output_df['flag'] == 8]['association_name'].value_counts().head()"
   ]
  },
  {
   "cell_type": "markdown",
   "metadata": {},
   "source": [
    "### Notes about deblended sources - Flag 4 and 12"
   ]
  },
  {
   "cell_type": "markdown",
   "metadata": {},
   "source": [
    "Most of the PyBDSF were deblended into 2 optical sources. However, some were deblended into 3:"
   ]
  },
  {
   "cell_type": "code",
   "execution_count": 69,
   "metadata": {},
   "outputs": [
    {
     "name": "stdout",
     "output_type": "stream",
     "text": [
      "flag: 4\n",
      "12 PyBDSF(s) was/were deblended into 3 optical sources\n",
      "ILTJ124647.79+483743.9    3\n",
      "ILTJ122323.68+463621.3    3\n",
      "ILTJ135431.27+472516.8    3\n",
      "Name: pybdsf_name, dtype: int64\n",
      "------\n",
      "flag: 12\n",
      "1 PyBDSF(s) was/were deblended into 3 optical sources\n",
      "ILTJ111517.03+531906.0    3\n",
      "ILTJ133014.01+490807.7    2\n",
      "ILTJ130120.61+521622.3    2\n",
      "Name: pybdsf_name, dtype: int64\n",
      "------\n"
     ]
    }
   ],
   "source": [
    "for i in (4,12):\n",
    "    print ('flag:',i)\n",
    "    debl = (output_df[output_df['flag'] == i].groupby('pybdsf_name').count() > 2)\n",
    "    print (len(debl[debl['flag']]), 'PyBDSF(s) was/were deblended into 3 optical sources')\n",
    "    print (output_df[output_df['flag'] == i]['pybdsf_name'].value_counts().head(3))\n",
    "    print ('------')"
   ]
  },
  {
   "cell_type": "markdown",
   "metadata": {},
   "source": [
    "However some PyBDSF sources can have both flags = 4 and flag = 12. This happens for 23 sources:"
   ]
  },
  {
   "cell_type": "code",
   "execution_count": 70,
   "metadata": {},
   "outputs": [
    {
     "name": "stdout",
     "output_type": "stream",
     "text": [
      "23\n"
     ]
    }
   ],
   "source": [
    "flag_4_12 = output_df[output_df['flag'] == 4]['pybdsf_name'].\\\n",
    "              isin(output_df[output_df['flag'] == 12]['pybdsf_name'])\n",
    "flag_4_12_index = output_df.iloc[flag_4_12[flag_4_12].index]\n",
    "print (len(flag_4_12_index.groupby('pybdsf_name')))"
   ]
  },
  {
   "cell_type": "markdown",
   "metadata": {},
   "source": [
    "The total number of PyBDSFs that were deblended:"
   ]
  },
  {
   "cell_type": "code",
   "execution_count": 71,
   "metadata": {},
   "outputs": [
    {
     "name": "stdout",
     "output_type": "stream",
     "text": [
      "883\n"
     ]
    },
    {
     "data": {
      "text/plain": [
       "883"
      ]
     },
     "execution_count": 71,
     "metadata": {},
     "output_type": "execute_result"
    }
   ],
   "source": [
    "print (len(output_df[(output_df['flag'] == 4) | (output_df['flag'] == 12)].groupby('pybdsf_name')))\n",
    "# Which corresponds to the number of individual group flags minus the common PyBDSFs\n",
    "len(output_df[output_df['flag'] == 4].groupby('pybdsf_name')) + \\\n",
    "len(output_df[output_df['flag'] == 12].groupby('pybdsf_name')) - (len(flag_4_12_index.groupby('pybdsf_name')))"
   ]
  },
  {
   "cell_type": "markdown",
   "metadata": {},
   "source": [
    "These correspond to a total number of optical sources:"
   ]
  },
  {
   "cell_type": "code",
   "execution_count": 72,
   "metadata": {},
   "outputs": [
    {
     "name": "stdout",
     "output_type": "stream",
     "text": [
      "1780\n"
     ]
    },
    {
     "data": {
      "text/plain": [
       "1780"
      ]
     },
     "execution_count": 72,
     "metadata": {},
     "output_type": "execute_result"
    }
   ],
   "source": [
    "print(len(output_df[(output_df['flag'] == 4) | (output_df['flag'] == 12)].groupby('association_name')))\n",
    "# Note that there are no repeated optical names...\n",
    "len(output_df[output_df['flag'] == 4].groupby('association_name')) + \\\n",
    "len(output_df[output_df['flag'] == 12].groupby('association_name'))"
   ]
  },
  {
   "cell_type": "markdown",
   "metadata": {},
   "source": [
    "### Notes about sources that were not deblended - flag 3 and 10"
   ]
  },
  {
   "cell_type": "markdown",
   "metadata": {},
   "source": [
    "MULTIPLES"
   ]
  },
  {
   "cell_type": "code",
   "execution_count": 73,
   "metadata": {},
   "outputs": [
    {
     "name": "stdout",
     "output_type": "stream",
     "text": [
      "3596\n"
     ]
    },
    {
     "data": {
      "text/plain": [
       "3596"
      ]
     },
     "execution_count": 73,
     "metadata": {},
     "output_type": "execute_result"
    }
   ],
   "source": [
    "print(len(output_df[(output_df['flag'] == 8) | (output_df['flag'] == 10)].groupby('association_name')))\n",
    "# Note that there are no repeated optical names...\n",
    "len(output_df[output_df['flag'] == 8].groupby('association_name')) + \\\n",
    "len(output_df[output_df['flag'] == 10].groupby('association_name'))"
   ]
  },
  {
   "cell_type": "markdown",
   "metadata": {},
   "source": [
    "Some sources that were flagged with 3 have more than one component:"
   ]
  },
  {
   "cell_type": "code",
   "execution_count": 74,
   "metadata": {},
   "outputs": [
    {
     "data": {
      "text/plain": [
       "ILTJ130420.89+502345.4    7\n",
       "ILTJ111744.86+484556.8    3\n",
       "ILTJ114328.51+474146.2    2\n",
       "ILTJ114330.16+474155.0    1\n",
       "ILTJ131900.29+535256.2    1\n",
       "ILTJ141528.59+490824.6    1\n",
       "ILTJ124615.48+503126.5    1\n",
       "ILTJ141529.30+490836.6    1\n",
       "ILTJ124617.13+503126.5    1\n",
       "ILTJ111744.40+484605.9    1\n",
       "ILTJ130419.85+502412.0    1\n",
       "ILTJ110953.70+482721.1    1\n",
       "ILTJ131902.56+535300.1    1\n",
       "Name: Source_Name, dtype: int64"
      ]
     },
     "execution_count": 74,
     "metadata": {},
     "output_type": "execute_result"
    }
   ],
   "source": [
    "components_cleaned[components_cleaned['Deblended_from'].\n",
    "                   isin(output_df[output_df['flag'] == 3]['pybdsf_name'])]['Source_Name'].value_counts()"
   ]
  },
  {
   "cell_type": "markdown",
   "metadata": {},
   "source": [
    "## EXPORT CLEANED CATALOGUES"
   ]
  },
  {
   "cell_type": "code",
   "execution_count": 76,
   "metadata": {},
   "outputs": [],
   "source": [
    "pybdsf_cleaned_cat = Table.from_pandas(pybdsf_cleaned)\n",
    "pybdsf_cleaned_cat.write('pybdsf_cleaned.fits', overwrite = True)"
   ]
  },
  {
   "cell_type": "code",
   "execution_count": 83,
   "metadata": {},
   "outputs": [],
   "source": [
    "gauss_cleaned_cat = Table.from_pandas(gauss_cleaned)\n",
    "gauss_cleaned_cat.write('gauss_cleaned.fits', overwrite = True)"
   ]
  }
 ],
 "metadata": {
  "kernelspec": {
   "display_name": "Python [conda env:miniconda2]",
   "language": "python",
   "name": "conda-env-miniconda2-py"
  },
  "language_info": {
   "codemirror_mode": {
    "name": "ipython",
    "version": 2
   },
   "file_extension": ".py",
   "mimetype": "text/x-python",
   "name": "python",
   "nbconvert_exporter": "python",
   "pygments_lexer": "ipython2",
   "version": "2.7.14"
  }
 },
 "nbformat": 4,
 "nbformat_minor": 2
}
