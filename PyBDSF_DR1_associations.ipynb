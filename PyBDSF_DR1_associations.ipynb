{
 "cells": [
  {
   "cell_type": "markdown",
   "metadata": {},
   "source": [
    "# LoTSS DR1\n",
    "## PyBDSF - Optical associations over the HETDEX field"
   ]
  },
  {
   "cell_type": "markdown",
   "metadata": {
    "slideshow": {
     "slide_type": "-"
    }
   },
   "source": [
    "***\n",
    "\n",
    "This notebook outputs a table with the association between the raw PyBDSF catalogue and the final optical catalogue. \n",
    "It includes:\n",
    "* The [Original catalogues](#Loading-the-original-catalogues) \n",
    "* The [Cleaned catalogues](#Cleaning-the-original-catalogues)\n",
    "* The [Ouput catalogue](#Output-table)\n",
    "\n",
    "The output catalogue is a table which consists of:\n",
    "* `pybdsf_name` : PyBDSF raw catalogue ` Source_Name `\n",
    "* `association_name` : optical v1.2 catalogue `Source_Name`\n",
    "* `flag`:  \n",
    "    * [Deblended sources](#Deblended-sources) (`flag=4`)\n",
    "    * [Multi-component PyBDSF sources](#Multi-component-PyBDSF-sources) (`flag=8`)\n",
    "    * [Single sources](#Single-sources) (`flag=1`)\n",
    "    * [Artifacts](#Artifacts) (`flag=16` and `flag=32`)\n",
    "    * or a combination of categories: \n",
    "       * [deblended + multi-component PyBDSF sources](#Sources-that-were-both-deblended-and-associated-to-another-source) (`flag=12`)\n",
    "       * [single sources that went through deblending but were not deblended](#Sources-that-do-not-seem-to-be-deblended) (`flag=3`) "
   ]
  },
  {
   "cell_type": "markdown",
   "metadata": {},
   "source": [
    "** Libraries ** "
   ]
  },
  {
   "cell_type": "code",
   "execution_count": 1,
   "metadata": {},
   "outputs": [],
   "source": [
    "import pandas as pd\n",
    "import numpy as np\n",
    "from astropy.table import Table, join\n",
    "import unittest"
   ]
  },
  {
   "cell_type": "markdown",
   "metadata": {},
   "source": [
    "***\n",
    "## Catalogues\n",
    "***"
   ]
  },
  {
   "cell_type": "markdown",
   "metadata": {},
   "source": [
    "### Loading the original catalogues"
   ]
  },
  {
   "cell_type": "code",
   "execution_count": 2,
   "metadata": {},
   "outputs": [],
   "source": [
    "# Creating a function to read the fits catalogues\n",
    "def read_fits(file):\n",
    "    'converts a fits table to pandas format'\n",
    "    cat = Table.read(file)\n",
    "    return cat.to_pandas()"
   ]
  },
  {
   "cell_type": "code",
   "execution_count": 3,
   "metadata": {},
   "outputs": [],
   "source": [
    "# Raw PyBDSF catalogue\n",
    "pybdsf = read_fits('../data/LOFAR_HBA_T1_DR1_catalog_v0.9.srl.fixed.fits')\n",
    "# V1.2 LoTSS DR1 catalogues\n",
    "optical = read_fits('../data/v1.2/LOFAR_HBA_T1_DR1_merge_ID_optical_f_v1.2.fits')\n",
    "components = read_fits('../data/v1.2/LOFAR_HBA_T1_DR1_merge_ID_v1.2.comp.fits')\n",
    "# Artifacts catalogue\n",
    "artifacts = read_fits('../data/LOFAR_HBA_T1_DR1_merge_ID_v1.1.art.fits')"
   ]
  },
  {
   "cell_type": "markdown",
   "metadata": {},
   "source": [
    "### Cleaning the original catalogues"
   ]
  },
  {
   "cell_type": "markdown",
   "metadata": {},
   "source": [
    "####  Renaming Sources"
   ]
  },
  {
   "cell_type": "markdown",
   "metadata": {},
   "source": [
    "Renaming a source that was picked on 2 different mosaics (it has the same `Source_Name`) and which was classified as an artifact in one mosaic and as a source in other. The source is renamed with the original name followed by 'B'. This is done on both **Artifacts catalogue** and **PyBDSF raw catalogue** (the source appears twice on the PyBDSF catalogue)."
   ]
  },
  {
   "cell_type": "code",
   "execution_count": 4,
   "metadata": {},
   "outputs": [
    {
     "data": {
      "text/plain": [
       "'ILTJ132633.10+484745.7'"
      ]
     },
     "execution_count": 4,
     "metadata": {},
     "output_type": "execute_result"
    }
   ],
   "source": [
    "# Taking the name of the source (duplicated entry) from the pybdsf catalogue\n",
    "pybdsf_duplicated = np.array(pybdsf[pybdsf.duplicated('Source_Name')]['Source_Name'])[0]\n",
    "pybdsf_duplicated"
   ]
  },
  {
   "cell_type": "markdown",
   "metadata": {},
   "source": [
    "##### Renaming on the Artifact catalogue "
   ]
  },
  {
   "cell_type": "code",
   "execution_count": 5,
   "metadata": {},
   "outputs": [],
   "source": [
    "# Creating a copy for the new artifact catalogue\n",
    "artifacts_cleaned = artifacts.copy()\n",
    "# Replacing the original name by 'nameB'\n",
    "clean_art = artifacts_cleaned['Source_Name'].replace({pybdsf_duplicated:pybdsf_duplicated+'B'})\n",
    "# Updating the new catalogue\n",
    "artifacts_cleaned.update(clean_art)"
   ]
  },
  {
   "cell_type": "markdown",
   "metadata": {},
   "source": [
    "##### Renaming on the Pybdsf catalogue"
   ]
  },
  {
   "cell_type": "code",
   "execution_count": 6,
   "metadata": {},
   "outputs": [],
   "source": [
    "# Creating a copy for the new pybdsf catalogue\n",
    "pybdsf_cleaned = pybdsf.copy()\n",
    "# Replacing the original name of the artifact on pybdsf catalogue\n",
    "clean_pybdsf = pybdsf[pybdsf.duplicated('Source_Name', keep = 'last')].\\\n",
    "        replace({pybdsf_duplicated:pybdsf_duplicated+'B'})\n",
    "# Updating the new catalogue\n",
    "pybdsf_cleaned.update(clean_pybdsf)"
   ]
  },
  {
   "cell_type": "markdown",
   "metadata": {},
   "source": [
    "#### Eliminating duplicated entries"
   ]
  },
  {
   "cell_type": "markdown",
   "metadata": {},
   "source": [
    "`Source_Name` entries are duplicated in LoTSS DR1 ** Components catalogue ** (9 equal `Souce_Name` components). These are entries where `Source_Name = Component_Name` (which is equal to pybdsf name)."
   ]
  },
  {
   "cell_type": "code",
   "execution_count": 7,
   "metadata": {},
   "outputs": [
    {
     "data": {
      "text/plain": [
       "324615"
      ]
     },
     "execution_count": 7,
     "metadata": {},
     "output_type": "execute_result"
    }
   ],
   "source": [
    "# Eliminating these from the components catalogue (and just keeping the first entry)\n",
    "clean_comp = components.drop_duplicates('Component_Name', keep = 'first')\n",
    "len(clean_comp)"
   ]
  },
  {
   "cell_type": "markdown",
   "metadata": {},
   "source": [
    "#### Eliminating a component on the components catalogue that is an artifact"
   ]
  },
  {
   "cell_type": "code",
   "execution_count": 8,
   "metadata": {},
   "outputs": [
    {
     "data": {
      "text/plain": [
       "728    ILTJ115320.73+552641.4\n",
       "Name: Source_Name, dtype: object"
      ]
     },
     "execution_count": 8,
     "metadata": {},
     "output_type": "execute_result"
    }
   ],
   "source": [
    "# This is an artifact from the artifact catalogue that was not removed from the components catalogue\n",
    "component_artifact = artifacts_cleaned[artifacts_cleaned['Source_Name'].\n",
    "                                       isin(clean_comp['Component_Name'])]\n",
    "component_artifact['Source_Name']"
   ]
  },
  {
   "cell_type": "code",
   "execution_count": 9,
   "metadata": {},
   "outputs": [
    {
     "data": {
      "text/plain": [
       "324614"
      ]
     },
     "execution_count": 9,
     "metadata": {},
     "output_type": "execute_result"
    }
   ],
   "source": [
    "components_cleaned = clean_comp[~clean_comp['Component_Name'].\n",
    "                                isin(component_artifact['Source_Name'])]\n",
    "len(components_cleaned)"
   ]
  },
  {
   "cell_type": "markdown",
   "metadata": {},
   "source": [
    "***\n",
    "## Diagnosis output table outline\n",
    "***"
   ]
  },
  {
   "cell_type": "markdown",
   "metadata": {},
   "source": [
    "### Creating a diagnosis output table outline"
   ]
  },
  {
   "cell_type": "code",
   "execution_count": 10,
   "metadata": {},
   "outputs": [
    {
     "data": {
      "text/html": [
       "<div>\n",
       "<style>\n",
       "    .dataframe thead tr:only-child th {\n",
       "        text-align: right;\n",
       "    }\n",
       "\n",
       "    .dataframe thead th {\n",
       "        text-align: left;\n",
       "    }\n",
       "\n",
       "    .dataframe tbody tr th {\n",
       "        vertical-align: top;\n",
       "    }\n",
       "</style>\n",
       "<table border=\"1\" class=\"dataframe\">\n",
       "  <thead>\n",
       "    <tr style=\"text-align: right;\">\n",
       "      <th></th>\n",
       "      <th>pybdsf_name</th>\n",
       "      <th>association_name</th>\n",
       "      <th>flag</th>\n",
       "    </tr>\n",
       "  </thead>\n",
       "  <tbody>\n",
       "  </tbody>\n",
       "</table>\n",
       "</div>"
      ],
      "text/plain": [
       "Empty DataFrame\n",
       "Columns: [pybdsf_name, association_name, flag]\n",
       "Index: []"
      ]
     },
     "execution_count": 10,
     "metadata": {},
     "output_type": "execute_result"
    }
   ],
   "source": [
    "col_names =  ['pybdsf_name', 'association_name', 'flag']\n",
    "output_df  = pd.DataFrame(columns = col_names)\n",
    "output_df"
   ]
  },
  {
   "cell_type": "markdown",
   "metadata": {},
   "source": [
    "### Creating empty lists to store the different PyBDSF association groups "
   ]
  },
  {
   "cell_type": "code",
   "execution_count": 11,
   "metadata": {},
   "outputs": [],
   "source": [
    "pybdsf_deblended_df = []\n",
    "pybdsf_multi_df = []\n",
    "pybdsf_singles_df = []\n",
    "pybdsf_artifacts_df = []"
   ]
  },
  {
   "cell_type": "markdown",
   "metadata": {},
   "source": [
    "### Creating a unit test"
   ]
  },
  {
   "cell_type": "markdown",
   "metadata": {},
   "source": [
    "This test is used, throughout the notebook, to check if the different association groups are being correctly appended to the output table."
   ]
  },
  {
   "cell_type": "code",
   "execution_count": 12,
   "metadata": {},
   "outputs": [],
   "source": [
    "#Creating a function to be tested\n",
    "def len_output_df(artifacts, singles, deblends, multiples):\n",
    "    return len(artifacts)+ len(singles)+len(deblends)+len(multiples)"
   ]
  },
  {
   "cell_type": "code",
   "execution_count": 13,
   "metadata": {},
   "outputs": [],
   "source": [
    "# Create a test case\n",
    "class Test_output(unittest.TestCase):\n",
    "    # Create the unit test\n",
    "    def test_len_output_df(self):\n",
    "        # Test if length of output table is the expected one\n",
    "        self.assertEqual(len(output_df), len_output_df(pybdsf_artifacts_df,\\\n",
    "                                                       pybdsf_deblended_df,\\\n",
    "                                                       pybdsf_multi_df,\\\n",
    "                                                       pybdsf_singles_df))"
   ]
  },
  {
   "cell_type": "code",
   "execution_count": 14,
   "metadata": {},
   "outputs": [
    {
     "name": "stderr",
     "output_type": "stream",
     "text": [
      "test_len_output_df (__main__.Test_output) ... ok\n",
      "\n",
      "----------------------------------------------------------------------\n",
      "Ran 1 test in 0.006s\n",
      "\n",
      "OK\n"
     ]
    },
    {
     "data": {
      "text/plain": [
       "<unittest.main.TestProgram at 0x129fa7bd0>"
      ]
     },
     "execution_count": 14,
     "metadata": {},
     "output_type": "execute_result"
    }
   ],
   "source": [
    "# Run the unit test\n",
    "unittest.main(argv=['ignored', '-v'], exit=False)"
   ]
  },
  {
   "cell_type": "markdown",
   "metadata": {},
   "source": [
    "***\n",
    "## Deblended sources\n",
    "***\n"
   ]
  },
  {
   "cell_type": "markdown",
   "metadata": {},
   "source": [
    "Deblended sources are distint sources that were originally associated by PyBDSF as only one source, i.e. different PyBDSF components were associated into the same `Source_Name` in the **Compoments Catalogue**."
   ]
  },
  {
   "cell_type": "markdown",
   "metadata": {},
   "source": [
    "### Notes about deblended sources"
   ]
  },
  {
   "cell_type": "markdown",
   "metadata": {},
   "source": [
    "According to Williams et al. 2018 these sources were sent to a deblend workflow (`ID_flag = 41`) or selected for deblending on LGZ (`ID_flag = 42`)."
   ]
  },
  {
   "cell_type": "code",
   "execution_count": 15,
   "metadata": {},
   "outputs": [
    {
     "data": {
      "text/plain": [
       "(2435, 2435)"
      ]
     },
     "execution_count": 15,
     "metadata": {},
     "output_type": "execute_result"
    }
   ],
   "source": [
    "# on the optical catalogue and on the components catalogue\n",
    "len(optical[(optical['ID_flag'] == 41) | (optical['ID_flag'] == 42)]),\\\n",
    "len(components_cleaned[(components_cleaned['ID_flag'] == 41) | (components_cleaned['ID_flag'] == 42)].\\\n",
    "    groupby('Source_Name'))"
   ]
  },
  {
   "cell_type": "markdown",
   "metadata": {},
   "source": [
    "However note that some of them were not actually deblended (and some may be part of a bigger source):"
   ]
  },
  {
   "cell_type": "code",
   "execution_count": 16,
   "metadata": {},
   "outputs": [
    {
     "data": {
      "text/plain": [
       "(641, 641)"
      ]
     },
     "execution_count": 16,
     "metadata": {},
     "output_type": "execute_result"
    }
   ],
   "source": [
    "# Taking the number of sources with flags 41 or 42 that do not present any 'Deblended_from' source\n",
    "len(optical[((optical['ID_flag'] == 41) | (optical['ID_flag'] == 42)) &\\\n",
    "            (optical['Deblended_from'] == '')]),\\\n",
    "len(components_cleaned[((components_cleaned['ID_flag'] == 41) | (components_cleaned['ID_flag'] == 42)) &\\\n",
    "               (components_cleaned['Deblended_from'] == '')].groupby('Source_Name'))"
   ]
  },
  {
   "cell_type": "code",
   "execution_count": 17,
   "metadata": {},
   "outputs": [
    {
     "data": {
      "text/plain": [
       "(1794, 1794)"
      ]
     },
     "execution_count": 17,
     "metadata": {},
     "output_type": "execute_result"
    }
   ],
   "source": [
    "# Taking the number of sources with 'Deblended_from' information\n",
    "len(optical[((optical['ID_flag'] == 41) | (optical['ID_flag'] == 42)) &\\\n",
    "            (optical['Deblended_from'] != '')]),\\\n",
    "len(components_cleaned[((components_cleaned['ID_flag'] == 41) | (components_cleaned['ID_flag'] == 42)) &\\\n",
    "               (components_cleaned['Deblended_from'] != '')].groupby('Source_Name'))"
   ]
  },
  {
   "cell_type": "markdown",
   "metadata": {},
   "source": [
    "Note also that some of the `Deblended_from` sources in the optical catalogue are not original PyBDSF sources but sources names that were created from LGZ positions."
   ]
  },
  {
   "cell_type": "code",
   "execution_count": 18,
   "metadata": {},
   "outputs": [
    {
     "data": {
      "text/plain": [
       "70"
      ]
     },
     "execution_count": 18,
     "metadata": {},
     "output_type": "execute_result"
    }
   ],
   "source": [
    "# Number of sources where that happens\n",
    "len(optical[((optical['ID_flag'] == 41) | (optical['ID_flag'] == 42)) &\\\n",
    "            (optical['Deblended_from'] != '')]\n",
    "    [~optical[((optical['ID_flag'] == 41) | (optical['ID_flag'] == 42)) &\\\n",
    "            (optical['Deblended_from'] != '')]['Deblended_from'].\\\n",
    "     isin(pybdsf_cleaned['Source_Name'])])"
   ]
  },
  {
   "cell_type": "markdown",
   "metadata": {},
   "source": [
    "### Selecting the deblended sources"
   ]
  },
  {
   "cell_type": "markdown",
   "metadata": {},
   "source": [
    "Deblended sources are selected from the **components catalogue** (which links directly to the PyBDSF catalogue through `Deblended_from` column)."
   ]
  },
  {
   "cell_type": "markdown",
   "metadata": {},
   "source": [
    "#### Having a look at the number of sources"
   ]
  },
  {
   "cell_type": "code",
   "execution_count": 19,
   "metadata": {},
   "outputs": [
    {
     "data": {
      "text/plain": [
       "935"
      ]
     },
     "execution_count": 19,
     "metadata": {},
     "output_type": "execute_result"
    }
   ],
   "source": [
    "# Total number of PyBDSF sources that were deblended\n",
    "len(components_cleaned[components_cleaned['Deblended_from'] != ''].groupby('Deblended_from'))"
   ]
  },
  {
   "cell_type": "code",
   "execution_count": 20,
   "metadata": {},
   "outputs": [
    {
     "data": {
      "text/plain": [
       "2446"
      ]
     },
     "execution_count": 20,
     "metadata": {},
     "output_type": "execute_result"
    }
   ],
   "source": [
    "# Total number of components that make these PyBDSF\n",
    "components_deblended = components_cleaned[components_cleaned['Deblended_from'] != '']\n",
    "len(components_deblended)"
   ]
  },
  {
   "cell_type": "code",
   "execution_count": 21,
   "metadata": {},
   "outputs": [
    {
     "data": {
      "text/plain": [
       "1794"
      ]
     },
     "execution_count": 21,
     "metadata": {},
     "output_type": "execute_result"
    }
   ],
   "source": [
    "# Total number of sources after deblending\n",
    "len(components_deblended.groupby('Source_Name'))"
   ]
  },
  {
   "cell_type": "markdown",
   "metadata": {},
   "source": [
    "#### Taking the PyBDSF Source Names"
   ]
  },
  {
   "cell_type": "markdown",
   "metadata": {},
   "source": [
    "We have to search each PyBDSF in `components_deblended` and take the correct names:"
   ]
  },
  {
   "cell_type": "code",
   "execution_count": 22,
   "metadata": {},
   "outputs": [
    {
     "data": {
      "text/plain": [
       "935"
      ]
     },
     "execution_count": 22,
     "metadata": {},
     "output_type": "execute_result"
    }
   ],
   "source": [
    "deblended_pybdsf_names = components_deblended.drop_duplicates('Deblended_from')['Deblended_from']\n",
    "len(deblended_pybdsf_names)"
   ]
  },
  {
   "cell_type": "markdown",
   "metadata": {},
   "source": [
    "This has to be done this way because 1 PyBDSF source can have been deblended into 2 (or more) sources directly; or deblended and associated to other source. For that reason after droping duplicated association names (`Source_Name` below), we miss some of the original PyBDSF names:"
   ]
  },
  {
   "cell_type": "code",
   "execution_count": 23,
   "metadata": {},
   "outputs": [
    {
     "data": {
      "text/plain": [
       "908"
      ]
     },
     "execution_count": 23,
     "metadata": {},
     "output_type": "execute_result"
    }
   ],
   "source": [
    "len((components_deblended.drop_duplicates('Source_Name')).groupby('Deblended_from'))"
   ]
  },
  {
   "cell_type": "markdown",
   "metadata": {},
   "source": [
    "#### Creating the deblended table"
   ]
  },
  {
   "cell_type": "code",
   "execution_count": 24,
   "metadata": {},
   "outputs": [],
   "source": [
    "pybdsf_deblended_df = pd.DataFrame(columns = col_names)\n",
    "for i in range(0,len(deblended_pybdsf_names)):\n",
    "    corresp = components_deblended[components_deblended['Deblended_from'] == deblended_pybdsf_names.\n",
    "                                   iloc[i]][['Deblended_from','Source_Name']]\n",
    "    pybdsf_deblended = pd.DataFrame(\n",
    "        {'pybdsf_name':deblended_pybdsf_names.iloc[i],\n",
    "        'flag':4,\n",
    "        'association_name': corresp.drop_duplicates()['Source_Name']})\n",
    "    pybdsf_deblended_df = pybdsf_deblended_df.append(pybdsf_deblended)"
   ]
  },
  {
   "cell_type": "markdown",
   "metadata": {},
   "source": [
    "This table is no longer a 1-1 relationship:"
   ]
  },
  {
   "cell_type": "code",
   "execution_count": 25,
   "metadata": {},
   "outputs": [
    {
     "data": {
      "text/html": [
       "<div>\n",
       "<style>\n",
       "    .dataframe thead tr:only-child th {\n",
       "        text-align: right;\n",
       "    }\n",
       "\n",
       "    .dataframe thead th {\n",
       "        text-align: left;\n",
       "    }\n",
       "\n",
       "    .dataframe tbody tr th {\n",
       "        vertical-align: top;\n",
       "    }\n",
       "</style>\n",
       "<table border=\"1\" class=\"dataframe\">\n",
       "  <thead>\n",
       "    <tr style=\"text-align: right;\">\n",
       "      <th></th>\n",
       "      <th>association_name</th>\n",
       "      <th>flag</th>\n",
       "      <th>pybdsf_name</th>\n",
       "    </tr>\n",
       "  </thead>\n",
       "  <tbody>\n",
       "    <tr>\n",
       "      <th>count</th>\n",
       "      <td>1832</td>\n",
       "      <td>1832</td>\n",
       "      <td>1832</td>\n",
       "    </tr>\n",
       "    <tr>\n",
       "      <th>unique</th>\n",
       "      <td>1794</td>\n",
       "      <td>1</td>\n",
       "      <td>935</td>\n",
       "    </tr>\n",
       "    <tr>\n",
       "      <th>top</th>\n",
       "      <td>ILTJ141420.38+462620.3</td>\n",
       "      <td>4</td>\n",
       "      <td>ILTJ112051.72+474517.1</td>\n",
       "    </tr>\n",
       "    <tr>\n",
       "      <th>freq</th>\n",
       "      <td>4</td>\n",
       "      <td>1832</td>\n",
       "      <td>3</td>\n",
       "    </tr>\n",
       "  </tbody>\n",
       "</table>\n",
       "</div>"
      ],
      "text/plain": [
       "              association_name  flag             pybdsf_name\n",
       "count                     1832  1832                    1832\n",
       "unique                    1794     1                     935\n",
       "top     ILTJ141420.38+462620.3     4  ILTJ112051.72+474517.1\n",
       "freq                         4  1832                       3"
      ]
     },
     "execution_count": 25,
     "metadata": {},
     "output_type": "execute_result"
    }
   ],
   "source": [
    "pybdsf_deblended_df.describe()"
   ]
  },
  {
   "cell_type": "markdown",
   "metadata": {},
   "source": [
    "#### Recover information about the Component Names"
   ]
  },
  {
   "cell_type": "code",
   "execution_count": 26,
   "metadata": {},
   "outputs": [
    {
     "data": {
      "text/plain": [
       "2446"
      ]
     },
     "execution_count": 26,
     "metadata": {},
     "output_type": "execute_result"
    }
   ],
   "source": [
    "# We have lost information about 'Component_Name' for these deblended sources\n",
    "# since a 'Deblended_from' PyBDSF source can be made up of several components\n",
    "# This information can be recovered later if needed:\n",
    "len(components_deblended[components_deblended['Deblended_from'].\\\n",
    "                                          isin(pybdsf_deblended_df['pybdsf_name'])])"
   ]
  },
  {
   "cell_type": "markdown",
   "metadata": {},
   "source": [
    "### Sources that were both deblended and associated to another source"
   ]
  },
  {
   "cell_type": "markdown",
   "metadata": {},
   "source": [
    "Some of the deblended sources were also associated into a bigger source. These are now selected and flagged accordingly (i.e. flagged as deblended + multi-component sources)."
   ]
  },
  {
   "cell_type": "markdown",
   "metadata": {},
   "source": [
    "#### Selecting the sources"
   ]
  },
  {
   "cell_type": "code",
   "execution_count": 27,
   "metadata": {},
   "outputs": [
    {
     "data": {
      "text/plain": [
       "1794"
      ]
     },
     "execution_count": 27,
     "metadata": {},
     "output_type": "execute_result"
    }
   ],
   "source": [
    "# Taking the deblended sources that appear more than once on components deblended\n",
    "cond_deblended_multi = pd.DataFrame([components_deblended['Source_Name'].value_counts() > 1][0])\n",
    "len(cond_deblended_multi)"
   ]
  },
  {
   "cell_type": "code",
   "execution_count": 28,
   "metadata": {},
   "outputs": [
    {
     "data": {
      "text/plain": [
       "209"
      ]
     },
     "execution_count": 28,
     "metadata": {},
     "output_type": "execute_result"
    }
   ],
   "source": [
    "# Taking the names for these sources (i.e. optical source names in the components catalogue)\n",
    "deblended_multi_names = pd.DataFrame(cond_deblended_multi[cond_deblended_multi['Source_Name']].index.values)\n",
    "len(deblended_multi_names)"
   ]
  },
  {
   "cell_type": "code",
   "execution_count": 29,
   "metadata": {},
   "outputs": [
    {
     "data": {
      "text/plain": [
       "247"
      ]
     },
     "execution_count": 29,
     "metadata": {},
     "output_type": "execute_result"
    }
   ],
   "source": [
    "# Selecting all the sources that correspond to these names\n",
    "deblended_multi = pybdsf_deblended_df[pybdsf_deblended_df['association_name'].\\\n",
    "                                      isin(deblended_multi_names[0])]\n",
    "len(deblended_multi)"
   ]
  },
  {
   "cell_type": "markdown",
   "metadata": {},
   "source": [
    "#### Updating the deblended table"
   ]
  },
  {
   "cell_type": "code",
   "execution_count": 30,
   "metadata": {},
   "outputs": [],
   "source": [
    "pybdsf_deblended_multi = deblended_multi.copy()\n",
    "pybdsf_deblended_multi['flag'] = 12"
   ]
  },
  {
   "cell_type": "code",
   "execution_count": 31,
   "metadata": {},
   "outputs": [],
   "source": [
    "pybdsf_deblended_df.update(pybdsf_deblended_multi)"
   ]
  },
  {
   "cell_type": "code",
   "execution_count": 32,
   "metadata": {},
   "outputs": [
    {
     "data": {
      "text/plain": [
       "247"
      ]
     },
     "execution_count": 32,
     "metadata": {},
     "output_type": "execute_result"
    }
   ],
   "source": [
    "len(pybdsf_deblended_df[pybdsf_deblended_df['flag'] == 12])"
   ]
  },
  {
   "cell_type": "code",
   "execution_count": 33,
   "metadata": {},
   "outputs": [
    {
     "name": "stdout",
     "output_type": "stream",
     "text": [
      "4.0     1585\n",
      "12.0     247\n",
      "Name: flag, dtype: int64\n"
     ]
    },
    {
     "data": {
      "text/html": [
       "<div>\n",
       "<style>\n",
       "    .dataframe thead tr:only-child th {\n",
       "        text-align: right;\n",
       "    }\n",
       "\n",
       "    .dataframe thead th {\n",
       "        text-align: left;\n",
       "    }\n",
       "\n",
       "    .dataframe tbody tr th {\n",
       "        vertical-align: top;\n",
       "    }\n",
       "</style>\n",
       "<table border=\"1\" class=\"dataframe\">\n",
       "  <thead>\n",
       "    <tr style=\"text-align: right;\">\n",
       "      <th></th>\n",
       "      <th>association_name</th>\n",
       "      <th>flag</th>\n",
       "      <th>pybdsf_name</th>\n",
       "    </tr>\n",
       "  </thead>\n",
       "  <tbody>\n",
       "    <tr>\n",
       "      <th>count</th>\n",
       "      <td>1832</td>\n",
       "      <td>1832.0</td>\n",
       "      <td>1832</td>\n",
       "    </tr>\n",
       "    <tr>\n",
       "      <th>unique</th>\n",
       "      <td>1794</td>\n",
       "      <td>2.0</td>\n",
       "      <td>935</td>\n",
       "    </tr>\n",
       "    <tr>\n",
       "      <th>top</th>\n",
       "      <td>ILTJ141420.38+462620.3</td>\n",
       "      <td>4.0</td>\n",
       "      <td>ILTJ112051.72+474517.1</td>\n",
       "    </tr>\n",
       "    <tr>\n",
       "      <th>freq</th>\n",
       "      <td>4</td>\n",
       "      <td>1585.0</td>\n",
       "      <td>3</td>\n",
       "    </tr>\n",
       "  </tbody>\n",
       "</table>\n",
       "</div>"
      ],
      "text/plain": [
       "              association_name    flag             pybdsf_name\n",
       "count                     1832  1832.0                    1832\n",
       "unique                    1794     2.0                     935\n",
       "top     ILTJ141420.38+462620.3     4.0  ILTJ112051.72+474517.1\n",
       "freq                         4  1585.0                       3"
      ]
     },
     "execution_count": 33,
     "metadata": {},
     "output_type": "execute_result"
    }
   ],
   "source": [
    "print pybdsf_deblended_df['flag'].value_counts()\n",
    "pybdsf_deblended_df.describe()"
   ]
  },
  {
   "cell_type": "markdown",
   "metadata": {},
   "source": [
    "### Sources that do not seem to be deblended "
   ]
  },
  {
   "cell_type": "markdown",
   "metadata": {},
   "source": [
    "Sources where the component got the same name the pybdsf (= deblended from)\n",
    "\n",
    "Some of these sources seem that were deblended - because they have the deblended from, but pybdsf name = component name = source name, just appear once on the component cat (eg below)"
   ]
  },
  {
   "cell_type": "code",
   "execution_count": 34,
   "metadata": {},
   "outputs": [
    {
     "data": {
      "text/plain": [
       "11"
      ]
     },
     "execution_count": 34,
     "metadata": {},
     "output_type": "execute_result"
    }
   ],
   "source": [
    "# Taking the sources that kept the same name after deblending (component name and source name)\n",
    "deblended_same = components_cleaned[\n",
    "    (components_cleaned['Deblended_from'] == components_cleaned['Source_Name']) & \n",
    "    (components_cleaned['Deblended_from'] == components_cleaned['Component_Name'])]\n",
    "len(deblended_same)"
   ]
  },
  {
   "cell_type": "code",
   "execution_count": 35,
   "metadata": {},
   "outputs": [
    {
     "data": {
      "text/plain": [
       "12"
      ]
     },
     "execution_count": 35,
     "metadata": {},
     "output_type": "execute_result"
    }
   ],
   "source": [
    "# Looking at these ones on the output table \n",
    "deblended_same_output = pybdsf_deblended_df[pybdsf_deblended_df['association_name'].\n",
    "                    isin(deblended_same['Source_Name'])]\n",
    "len(deblended_same_output)"
   ]
  },
  {
   "cell_type": "code",
   "execution_count": 36,
   "metadata": {},
   "outputs": [
    {
     "data": {
      "text/plain": [
       "4.0     10\n",
       "12.0     2\n",
       "Name: flag, dtype: int64"
      ]
     },
     "execution_count": 36,
     "metadata": {},
     "output_type": "execute_result"
    }
   ],
   "source": [
    "deblended_same_output['flag'].value_counts()"
   ]
  },
  {
   "cell_type": "code",
   "execution_count": 37,
   "metadata": {},
   "outputs": [
    {
     "data": {
      "text/plain": [
       "10"
      ]
     },
     "execution_count": 37,
     "metadata": {},
     "output_type": "execute_result"
    }
   ],
   "source": [
    "# The one(s) with flag 'deblended' + 'multi' (flag 12)\n",
    "# might have been associated and then deblended\n",
    "# However the ones with flag 'deblended' (flag 4) do not seem to have been deblended\n",
    "\n",
    "# Selecting the sources that were flagged as deblends (flag 4)\n",
    "deblended_singles = deblended_same_output[(deblended_same_output['flag'] == 4) & \n",
    "                    (deblended_same_output['association_name'] ==\n",
    "                     deblended_same_output['pybdsf_name']) ]\n",
    "len(deblended_singles)"
   ]
  },
  {
   "cell_type": "code",
   "execution_count": 38,
   "metadata": {},
   "outputs": [
    {
     "data": {
      "text/html": [
       "<div>\n",
       "<style>\n",
       "    .dataframe thead tr:only-child th {\n",
       "        text-align: right;\n",
       "    }\n",
       "\n",
       "    .dataframe thead th {\n",
       "        text-align: left;\n",
       "    }\n",
       "\n",
       "    .dataframe tbody tr th {\n",
       "        vertical-align: top;\n",
       "    }\n",
       "</style>\n",
       "<table border=\"1\" class=\"dataframe\">\n",
       "  <thead>\n",
       "    <tr style=\"text-align: right;\">\n",
       "      <th></th>\n",
       "      <th>association_name</th>\n",
       "      <th>flag</th>\n",
       "      <th>pybdsf_name</th>\n",
       "    </tr>\n",
       "  </thead>\n",
       "  <tbody>\n",
       "    <tr>\n",
       "      <th>25451</th>\n",
       "      <td>ILTJ110953.70+482721.1</td>\n",
       "      <td>3</td>\n",
       "      <td>ILTJ110953.70+482721.1</td>\n",
       "    </tr>\n",
       "    <tr>\n",
       "      <th>34760</th>\n",
       "      <td>ILTJ111744.40+484605.9</td>\n",
       "      <td>3</td>\n",
       "      <td>ILTJ111744.40+484605.9</td>\n",
       "    </tr>\n",
       "    <tr>\n",
       "      <th>68204</th>\n",
       "      <td>ILTJ114330.16+474155.0</td>\n",
       "      <td>3</td>\n",
       "      <td>ILTJ114330.16+474155.0</td>\n",
       "    </tr>\n",
       "    <tr>\n",
       "      <th>154213</th>\n",
       "      <td>ILTJ124615.48+503126.5</td>\n",
       "      <td>3</td>\n",
       "      <td>ILTJ124615.48+503126.5</td>\n",
       "    </tr>\n",
       "    <tr>\n",
       "      <th>154253</th>\n",
       "      <td>ILTJ124617.13+503126.5</td>\n",
       "      <td>3</td>\n",
       "      <td>ILTJ124617.13+503126.5</td>\n",
       "    </tr>\n",
       "  </tbody>\n",
       "</table>\n",
       "</div>"
      ],
      "text/plain": [
       "              association_name  flag             pybdsf_name\n",
       "25451   ILTJ110953.70+482721.1     3  ILTJ110953.70+482721.1\n",
       "34760   ILTJ111744.40+484605.9     3  ILTJ111744.40+484605.9\n",
       "68204   ILTJ114330.16+474155.0     3  ILTJ114330.16+474155.0\n",
       "154213  ILTJ124615.48+503126.5     3  ILTJ124615.48+503126.5\n",
       "154253  ILTJ124617.13+503126.5     3  ILTJ124617.13+503126.5"
      ]
     },
     "execution_count": 38,
     "metadata": {},
     "output_type": "execute_result"
    }
   ],
   "source": [
    "# Creating a table for these singles with flag 3 \n",
    "deblended_singles_df = deblended_singles.copy()\n",
    "deblended_singles_df['flag'] = 3\n",
    "deblended_singles_df.head()"
   ]
  },
  {
   "cell_type": "code",
   "execution_count": 39,
   "metadata": {},
   "outputs": [
    {
     "data": {
      "text/plain": [
       "4.0     1575\n",
       "12.0     247\n",
       "3.0       10\n",
       "Name: flag, dtype: int64"
      ]
     },
     "execution_count": 39,
     "metadata": {},
     "output_type": "execute_result"
    }
   ],
   "source": [
    "pybdsf_deblended_df.update(deblended_singles_df)\n",
    "# Flag counts\n",
    "pybdsf_deblended_df['flag'].value_counts()"
   ]
  },
  {
   "cell_type": "code",
   "execution_count": 40,
   "metadata": {},
   "outputs": [
    {
     "data": {
      "text/html": [
       "<div>\n",
       "<style>\n",
       "    .dataframe thead tr:only-child th {\n",
       "        text-align: right;\n",
       "    }\n",
       "\n",
       "    .dataframe thead th {\n",
       "        text-align: left;\n",
       "    }\n",
       "\n",
       "    .dataframe tbody tr th {\n",
       "        vertical-align: top;\n",
       "    }\n",
       "</style>\n",
       "<table border=\"1\" class=\"dataframe\">\n",
       "  <thead>\n",
       "    <tr style=\"text-align: right;\">\n",
       "      <th></th>\n",
       "      <th>association_name</th>\n",
       "      <th>flag</th>\n",
       "      <th>pybdsf_name</th>\n",
       "    </tr>\n",
       "  </thead>\n",
       "  <tbody>\n",
       "    <tr>\n",
       "      <th>count</th>\n",
       "      <td>1822</td>\n",
       "      <td>1822.0</td>\n",
       "      <td>1822</td>\n",
       "    </tr>\n",
       "    <tr>\n",
       "      <th>unique</th>\n",
       "      <td>1784</td>\n",
       "      <td>2.0</td>\n",
       "      <td>925</td>\n",
       "    </tr>\n",
       "    <tr>\n",
       "      <th>top</th>\n",
       "      <td>ILTJ141420.38+462620.3</td>\n",
       "      <td>4.0</td>\n",
       "      <td>ILTJ112051.72+474517.1</td>\n",
       "    </tr>\n",
       "    <tr>\n",
       "      <th>freq</th>\n",
       "      <td>4</td>\n",
       "      <td>1575.0</td>\n",
       "      <td>3</td>\n",
       "    </tr>\n",
       "  </tbody>\n",
       "</table>\n",
       "</div>"
      ],
      "text/plain": [
       "              association_name    flag             pybdsf_name\n",
       "count                     1822  1822.0                    1822\n",
       "unique                    1784     2.0                     925\n",
       "top     ILTJ141420.38+462620.3     4.0  ILTJ112051.72+474517.1\n",
       "freq                         4  1575.0                       3"
      ]
     },
     "execution_count": 40,
     "metadata": {},
     "output_type": "execute_result"
    }
   ],
   "source": [
    "pybdsf_deblended_df[(pybdsf_deblended_df['flag'] == 4) | (pybdsf_deblended_df['flag'] == 12) ].describe()"
   ]
  },
  {
   "cell_type": "code",
   "execution_count": 41,
   "metadata": {},
   "outputs": [],
   "source": [
    "#deblended_singles_df = pybdsf_deblended_df.update(deblended_singles_df)"
   ]
  },
  {
   "cell_type": "code",
   "execution_count": 42,
   "metadata": {},
   "outputs": [],
   "source": [
    "# Updating the deblend table \n",
    "#pybdsf_deblended_df = pybdsf_deblended_df.combine_first(deblended_singles_df)"
   ]
  },
  {
   "cell_type": "markdown",
   "metadata": {},
   "source": [
    "### Updating the output table"
   ]
  },
  {
   "cell_type": "code",
   "execution_count": 43,
   "metadata": {},
   "outputs": [
    {
     "name": "stderr",
     "output_type": "stream",
     "text": [
      "test_len_output_df (__main__.Test_output) ... ok\n",
      "\n",
      "----------------------------------------------------------------------\n",
      "Ran 1 test in 0.007s\n",
      "\n",
      "OK\n"
     ]
    },
    {
     "data": {
      "text/plain": [
       "<unittest.main.TestProgram at 0x118b60cd0>"
      ]
     },
     "execution_count": 43,
     "metadata": {},
     "output_type": "execute_result"
    }
   ],
   "source": [
    "output_df = output_df.append(pybdsf_deblended_df,ignore_index=True) \n",
    "unittest.main(argv=['ignored', '-v'], exit=False)"
   ]
  },
  {
   "cell_type": "code",
   "execution_count": 44,
   "metadata": {},
   "outputs": [
    {
     "data": {
      "text/html": [
       "<div>\n",
       "<style>\n",
       "    .dataframe thead tr:only-child th {\n",
       "        text-align: right;\n",
       "    }\n",
       "\n",
       "    .dataframe thead th {\n",
       "        text-align: left;\n",
       "    }\n",
       "\n",
       "    .dataframe tbody tr th {\n",
       "        vertical-align: top;\n",
       "    }\n",
       "</style>\n",
       "<table border=\"1\" class=\"dataframe\">\n",
       "  <thead>\n",
       "    <tr style=\"text-align: right;\">\n",
       "      <th></th>\n",
       "      <th>association_name</th>\n",
       "      <th>flag</th>\n",
       "      <th>pybdsf_name</th>\n",
       "    </tr>\n",
       "  </thead>\n",
       "  <tbody>\n",
       "    <tr>\n",
       "      <th>count</th>\n",
       "      <td>1832</td>\n",
       "      <td>1832.0</td>\n",
       "      <td>1832</td>\n",
       "    </tr>\n",
       "    <tr>\n",
       "      <th>unique</th>\n",
       "      <td>1794</td>\n",
       "      <td>3.0</td>\n",
       "      <td>935</td>\n",
       "    </tr>\n",
       "    <tr>\n",
       "      <th>top</th>\n",
       "      <td>ILTJ141420.38+462620.3</td>\n",
       "      <td>4.0</td>\n",
       "      <td>ILTJ112051.72+474517.1</td>\n",
       "    </tr>\n",
       "    <tr>\n",
       "      <th>freq</th>\n",
       "      <td>4</td>\n",
       "      <td>1575.0</td>\n",
       "      <td>3</td>\n",
       "    </tr>\n",
       "  </tbody>\n",
       "</table>\n",
       "</div>"
      ],
      "text/plain": [
       "              association_name    flag             pybdsf_name\n",
       "count                     1832  1832.0                    1832\n",
       "unique                    1794     3.0                     935\n",
       "top     ILTJ141420.38+462620.3     4.0  ILTJ112051.72+474517.1\n",
       "freq                         4  1575.0                       3"
      ]
     },
     "execution_count": 44,
     "metadata": {},
     "output_type": "execute_result"
    }
   ],
   "source": [
    "output_df.describe()"
   ]
  },
  {
   "cell_type": "markdown",
   "metadata": {},
   "source": [
    "\n",
    "### Notes\n",
    "The pybdsf sources that were deblended into several components and after associated have `S_Code`= M on the optical catalogue! "
   ]
  },
  {
   "cell_type": "code",
   "execution_count": 45,
   "metadata": {},
   "outputs": [
    {
     "data": {
      "text/plain": [
       "1794"
      ]
     },
     "execution_count": 45,
     "metadata": {},
     "output_type": "execute_result"
    }
   ],
   "source": [
    "deblended_optical = optical[optical['Source_Name'].isin(pybdsf_deblended_df['association_name'])]\n",
    "len(deblended_optical)"
   ]
  },
  {
   "cell_type": "markdown",
   "metadata": {},
   "source": [
    "Taking the ones with the M code"
   ]
  },
  {
   "cell_type": "code",
   "execution_count": 46,
   "metadata": {},
   "outputs": [
    {
     "data": {
      "text/plain": [
       "209"
      ]
     },
     "execution_count": 46,
     "metadata": {},
     "output_type": "execute_result"
    }
   ],
   "source": [
    "deblended_associated = deblended_optical[deblended_optical['S_Code']=='M']\n",
    "len(deblended_associated)"
   ]
  },
  {
   "cell_type": "code",
   "execution_count": 47,
   "metadata": {},
   "outputs": [],
   "source": [
    "deblended_associated_df = pd.DataFrame({\n",
    "    'pybdsf_name':deblended_associated['Deblended_from'],\n",
    "    'flag':'M',\n",
    "    'association_name': deblended_associated['Source_Name']})"
   ]
  },
  {
   "cell_type": "markdown",
   "metadata": {},
   "source": [
    "Confirming that they are the same:"
   ]
  },
  {
   "cell_type": "code",
   "execution_count": 48,
   "metadata": {},
   "outputs": [
    {
     "data": {
      "text/plain": [
       "(209, 247, 209)"
      ]
     },
     "execution_count": 48,
     "metadata": {},
     "output_type": "execute_result"
    }
   ],
   "source": [
    "len(deblended_associated[deblended_associated['Source_Name'].\n",
    "                         isin(pybdsf_deblended_df['association_name'])]),\\\n",
    "len(pybdsf_deblended_df[pybdsf_deblended_df['association_name'].\n",
    "                        isin(deblended_associated['Source_Name'])]),\\\n",
    "len(pybdsf_deblended_df[pybdsf_deblended_df['association_name'].\n",
    "                        isin(deblended_associated['Source_Name'])].\n",
    "                        groupby('association_name'))"
   ]
  },
  {
   "cell_type": "markdown",
   "metadata": {},
   "source": [
    "***\n",
    "## Multi-component PyBDSF sources\n",
    "***"
   ]
  },
  {
   "cell_type": "markdown",
   "metadata": {},
   "source": [
    "Sources that were associated (but not have been deblended)"
   ]
  },
  {
   "cell_type": "markdown",
   "metadata": {},
   "source": [
    "IMPORTANT: Note that S_code (M) that comes from pybdsf catalogue (and is on components catalogue and optical) does not mean that the sources are an association from several components, while the M code on optical catalogue that comes from deblended sources means that."
   ]
  },
  {
   "cell_type": "markdown",
   "metadata": {},
   "source": [
    "### Selecting the multi PyBDSF component sources"
   ]
  },
  {
   "cell_type": "code",
   "execution_count": 49,
   "metadata": {},
   "outputs": [],
   "source": [
    "# Creating a condition to select the sources that are made up of more than one component\n",
    "cond_multi = pd.DataFrame([components_cleaned['Source_Name'].value_counts() > 1][0])"
   ]
  },
  {
   "cell_type": "code",
   "execution_count": 50,
   "metadata": {},
   "outputs": [
    {
     "data": {
      "text/html": [
       "<div>\n",
       "<style>\n",
       "    .dataframe thead tr:only-child th {\n",
       "        text-align: right;\n",
       "    }\n",
       "\n",
       "    .dataframe thead th {\n",
       "        text-align: left;\n",
       "    }\n",
       "\n",
       "    .dataframe tbody tr th {\n",
       "        vertical-align: top;\n",
       "    }\n",
       "</style>\n",
       "<table border=\"1\" class=\"dataframe\">\n",
       "  <thead>\n",
       "    <tr style=\"text-align: right;\">\n",
       "      <th></th>\n",
       "      <th>Source_Name</th>\n",
       "    </tr>\n",
       "  </thead>\n",
       "  <tbody>\n",
       "    <tr>\n",
       "      <th>ILTJ140313.38+542018.9</th>\n",
       "      <td>True</td>\n",
       "    </tr>\n",
       "    <tr>\n",
       "      <th>ILTJ121903.03+471642.8</th>\n",
       "      <td>True</td>\n",
       "    </tr>\n",
       "  </tbody>\n",
       "</table>\n",
       "</div>"
      ],
      "text/plain": [
       "                        Source_Name\n",
       "ILTJ140313.38+542018.9         True\n",
       "ILTJ121903.03+471642.8         True"
      ]
     },
     "execution_count": 50,
     "metadata": {},
     "output_type": "execute_result"
    }
   ],
   "source": [
    "# It returns the names of the sources \n",
    "cond_multi.head(2)"
   ]
  },
  {
   "cell_type": "code",
   "execution_count": 51,
   "metadata": {},
   "outputs": [
    {
     "data": {
      "text/plain": [
       "3774"
      ]
     },
     "execution_count": 51,
     "metadata": {},
     "output_type": "execute_result"
    }
   ],
   "source": [
    "# Taking the source names that meet the condition (names correspond to the indexes)\n",
    "multi_names = pd.DataFrame(cond_multi[cond_multi['Source_Name']].index.values)\n",
    "len(multi_names)"
   ]
  },
  {
   "cell_type": "code",
   "execution_count": 52,
   "metadata": {},
   "outputs": [
    {
     "data": {
      "text/plain": [
       "9868"
      ]
     },
     "execution_count": 52,
     "metadata": {},
     "output_type": "execute_result"
    }
   ],
   "source": [
    "# Taking the components that make up these source names\n",
    "multi_components = components_cleaned[components_cleaned['Source_Name'].isin(multi_names[0])]\n",
    "len(multi_components)"
   ]
  },
  {
   "cell_type": "code",
   "execution_count": 53,
   "metadata": {},
   "outputs": [
    {
     "data": {
      "text/plain": [
       "31    5407\n",
       "32    3402\n",
       "42     768\n",
       "2      188\n",
       "41     103\n",
       "Name: ID_flag, dtype: int64"
      ]
     },
     "execution_count": 53,
     "metadata": {},
     "output_type": "execute_result"
    }
   ],
   "source": [
    "multi_components['ID_flag'].value_counts()"
   ]
  },
  {
   "cell_type": "markdown",
   "metadata": {},
   "source": [
    "### Sources with multi components but that were NOT deblended"
   ]
  },
  {
   "cell_type": "markdown",
   "metadata": {},
   "source": [
    "#### Selecting the sources"
   ]
  },
  {
   "cell_type": "code",
   "execution_count": 54,
   "metadata": {},
   "outputs": [],
   "source": [
    "# Selecting from Deblended_from empty field\n",
    "multi_not_deblended = multi_components[multi_components['Deblended_from'] == '']"
   ]
  },
  {
   "cell_type": "code",
   "execution_count": 55,
   "metadata": {},
   "outputs": [
    {
     "data": {
      "text/plain": [
       "9007"
      ]
     },
     "execution_count": 55,
     "metadata": {},
     "output_type": "execute_result"
    }
   ],
   "source": [
    "# Number of components\n",
    "len(multi_not_deblended)"
   ]
  },
  {
   "cell_type": "code",
   "execution_count": 56,
   "metadata": {},
   "outputs": [
    {
     "data": {
      "text/plain": [
       "31    5407\n",
       "32    3402\n",
       "2      188\n",
       "42      10\n",
       "Name: ID_flag, dtype: int64"
      ]
     },
     "execution_count": 56,
     "metadata": {},
     "output_type": "execute_result"
    }
   ],
   "source": [
    "multi_not_deblended['ID_flag'].value_counts()"
   ]
  },
  {
   "cell_type": "code",
   "execution_count": 57,
   "metadata": {},
   "outputs": [
    {
     "data": {
      "text/plain": [
       "9007"
      ]
     },
     "execution_count": 57,
     "metadata": {},
     "output_type": "execute_result"
    }
   ],
   "source": [
    "# Which is equal to the number of components = number of pybdsf names (1-1 relation)\n",
    "len(multi_not_deblended.groupby('Component_Name'))"
   ]
  },
  {
   "cell_type": "code",
   "execution_count": 58,
   "metadata": {},
   "outputs": [
    {
     "data": {
      "text/plain": [
       "3565"
      ]
     },
     "execution_count": 58,
     "metadata": {},
     "output_type": "execute_result"
    }
   ],
   "source": [
    "# This corresponds to the number of sources\n",
    "len(multi_not_deblended.groupby('Source_Name'))"
   ]
  },
  {
   "cell_type": "markdown",
   "metadata": {},
   "source": [
    "#### Creating a multi-component sources table"
   ]
  },
  {
   "cell_type": "code",
   "execution_count": 59,
   "metadata": {},
   "outputs": [],
   "source": [
    "# Multi-component sources table just for the ones that were not deblended\n",
    "pybdsf_multi_df = pd.DataFrame({\n",
    "    'pybdsf_name':multi_not_deblended['Component_Name'],\n",
    "    'flag': 8,\n",
    "    'association_name': multi_not_deblended['Source_Name']})"
   ]
  },
  {
   "cell_type": "code",
   "execution_count": 60,
   "metadata": {},
   "outputs": [
    {
     "data": {
      "text/plain": [
       "count                       9007\n",
       "unique                      3565\n",
       "top       ILTJ140313.38+542018.9\n",
       "freq                          35\n",
       "Name: association_name, dtype: object"
      ]
     },
     "execution_count": 60,
     "metadata": {},
     "output_type": "execute_result"
    }
   ],
   "source": [
    "pybdsf_multi_df['association_name'].describe()"
   ]
  },
  {
   "cell_type": "markdown",
   "metadata": {},
   "source": [
    "### Updating the output table"
   ]
  },
  {
   "cell_type": "code",
   "execution_count": 61,
   "metadata": {},
   "outputs": [
    {
     "name": "stderr",
     "output_type": "stream",
     "text": [
      "test_len_output_df (__main__.Test_output) ... ok\n",
      "\n",
      "----------------------------------------------------------------------\n",
      "Ran 1 test in 0.004s\n",
      "\n",
      "OK\n"
     ]
    },
    {
     "data": {
      "text/plain": [
       "<unittest.main.TestProgram at 0x118b39190>"
      ]
     },
     "execution_count": 61,
     "metadata": {},
     "output_type": "execute_result"
    }
   ],
   "source": [
    "output_df = output_df.append(pybdsf_multi_df,ignore_index=True)\n",
    "unittest.main(argv=['ignored', '-v'], exit=False)"
   ]
  },
  {
   "cell_type": "markdown",
   "metadata": {},
   "source": [
    "***\n",
    "## Single sources\n",
    "***"
   ]
  },
  {
   "cell_type": "markdown",
   "metadata": {},
   "source": [
    "Single sources are PyBDSF sources that have not been deblended, grouped with other PyBDSFs and are not artifacts. They have a unique correspondence between the PyBDFS raw catalogue and the final optical catalogue. "
   ]
  },
  {
   "cell_type": "markdown",
   "metadata": {},
   "source": [
    "### Selecting all the sources that have a unique PyBDSF - Optical source name correspondence"
   ]
  },
  {
   "cell_type": "markdown",
   "metadata": {},
   "source": [
    "These sources can be selected using the condition defined for multiple sources, using the number of times sources (`Source_Name`) appear on the **components catalogue**."
   ]
  },
  {
   "cell_type": "code",
   "execution_count": 62,
   "metadata": {},
   "outputs": [],
   "source": [
    "# Condition to select the sources that are NOT made up of multi components\n",
    "cond_single = ~cond_multi"
   ]
  },
  {
   "cell_type": "code",
   "execution_count": 63,
   "metadata": {},
   "outputs": [
    {
     "data": {
      "text/plain": [
       "314746"
      ]
     },
     "execution_count": 63,
     "metadata": {},
     "output_type": "execute_result"
    }
   ],
   "source": [
    "# taking the names of these sources\n",
    "single_names = pd.DataFrame(cond_single[cond_single['Source_Name']].index.values)\n",
    "len(single_names)"
   ]
  },
  {
   "cell_type": "markdown",
   "metadata": {},
   "source": [
    "### Selecting the ones that did not went through deblending "
   ]
  },
  {
   "cell_type": "markdown",
   "metadata": {},
   "source": [
    "Note that some of these went through a deblending process (i.e. after deblending, one of the sources got the original PyBDSF name and other got a different name)."
   ]
  },
  {
   "cell_type": "code",
   "execution_count": 64,
   "metadata": {},
   "outputs": [
    {
     "data": {
      "text/plain": [
       "313161"
      ]
     },
     "execution_count": 64,
     "metadata": {},
     "output_type": "execute_result"
    }
   ],
   "source": [
    "# Taking the components name for the sources that did not went through deblending\n",
    "single_components = components_cleaned[(components_cleaned['Source_Name'].isin(single_names[0])) &\\\n",
    "                           (components_cleaned['Deblended_from'] == '')]\n",
    "len(single_components)"
   ]
  },
  {
   "cell_type": "code",
   "execution_count": 65,
   "metadata": {},
   "outputs": [
    {
     "data": {
      "text/plain": [
       "(313161, 313161)"
      ]
     },
     "execution_count": 65,
     "metadata": {},
     "output_type": "execute_result"
    }
   ],
   "source": [
    "# Confirming\n",
    "len(single_components.groupby('Component_Name')), len(single_components.groupby('Source_Name'))"
   ]
  },
  {
   "cell_type": "markdown",
   "metadata": {},
   "source": [
    "### Creating a single sources table"
   ]
  },
  {
   "cell_type": "code",
   "execution_count": 66,
   "metadata": {},
   "outputs": [],
   "source": [
    "pybdsf_singles_df = pd.DataFrame({\n",
    "    'pybdsf_name':single_components['Component_Name'],\n",
    "    'flag':1,\n",
    "    'association_name': single_components['Source_Name']})"
   ]
  },
  {
   "cell_type": "code",
   "execution_count": 67,
   "metadata": {},
   "outputs": [
    {
     "data": {
      "text/html": [
       "<div>\n",
       "<style>\n",
       "    .dataframe thead tr:only-child th {\n",
       "        text-align: right;\n",
       "    }\n",
       "\n",
       "    .dataframe thead th {\n",
       "        text-align: left;\n",
       "    }\n",
       "\n",
       "    .dataframe tbody tr th {\n",
       "        vertical-align: top;\n",
       "    }\n",
       "</style>\n",
       "<table border=\"1\" class=\"dataframe\">\n",
       "  <thead>\n",
       "    <tr style=\"text-align: right;\">\n",
       "      <th></th>\n",
       "      <th>association_name</th>\n",
       "      <th>flag</th>\n",
       "      <th>pybdsf_name</th>\n",
       "    </tr>\n",
       "  </thead>\n",
       "  <tbody>\n",
       "    <tr>\n",
       "      <th>3</th>\n",
       "      <td>ILTJ104327.95+521032.6</td>\n",
       "      <td>1</td>\n",
       "      <td>ILTJ104327.95+521032.6</td>\n",
       "    </tr>\n",
       "    <tr>\n",
       "      <th>4</th>\n",
       "      <td>ILTJ104330.98+521038.2</td>\n",
       "      <td>1</td>\n",
       "      <td>ILTJ104330.98+521038.2</td>\n",
       "    </tr>\n",
       "    <tr>\n",
       "      <th>5</th>\n",
       "      <td>ILTJ104330.98+515535.8</td>\n",
       "      <td>1</td>\n",
       "      <td>ILTJ104330.98+515535.8</td>\n",
       "    </tr>\n",
       "    <tr>\n",
       "      <th>6</th>\n",
       "      <td>ILTJ104332.16+520718.7</td>\n",
       "      <td>1</td>\n",
       "      <td>ILTJ104332.16+520718.7</td>\n",
       "    </tr>\n",
       "    <tr>\n",
       "      <th>7</th>\n",
       "      <td>ILTJ104332.19+522351.5</td>\n",
       "      <td>1</td>\n",
       "      <td>ILTJ104332.19+522351.5</td>\n",
       "    </tr>\n",
       "  </tbody>\n",
       "</table>\n",
       "</div>"
      ],
      "text/plain": [
       "         association_name  flag             pybdsf_name\n",
       "3  ILTJ104327.95+521032.6     1  ILTJ104327.95+521032.6\n",
       "4  ILTJ104330.98+521038.2     1  ILTJ104330.98+521038.2\n",
       "5  ILTJ104330.98+515535.8     1  ILTJ104330.98+515535.8\n",
       "6  ILTJ104332.16+520718.7     1  ILTJ104332.16+520718.7\n",
       "7  ILTJ104332.19+522351.5     1  ILTJ104332.19+522351.5"
      ]
     },
     "execution_count": 67,
     "metadata": {},
     "output_type": "execute_result"
    }
   ],
   "source": [
    "pybdsf_singles_df.head()"
   ]
  },
  {
   "cell_type": "markdown",
   "metadata": {},
   "source": [
    "### Updating the output table"
   ]
  },
  {
   "cell_type": "code",
   "execution_count": 68,
   "metadata": {},
   "outputs": [
    {
     "name": "stderr",
     "output_type": "stream",
     "text": [
      "test_len_output_df (__main__.Test_output) ... ok\n",
      "\n",
      "----------------------------------------------------------------------\n",
      "Ran 1 test in 0.010s\n",
      "\n",
      "OK\n"
     ]
    },
    {
     "data": {
      "text/plain": [
       "<unittest.main.TestProgram at 0x126621dd0>"
      ]
     },
     "execution_count": 68,
     "metadata": {},
     "output_type": "execute_result"
    }
   ],
   "source": [
    "output_df = output_df.append(pybdsf_singles_df,ignore_index=True) \n",
    "unittest.main(argv=['ignored', '-v'], exit=False)"
   ]
  },
  {
   "cell_type": "markdown",
   "metadata": {},
   "source": [
    "***\n",
    "## Artifacts\n",
    "***"
   ]
  },
  {
   "cell_type": "markdown",
   "metadata": {},
   "source": [
    "### Artifacts from the (cleaned) artifact catalogue"
   ]
  },
  {
   "cell_type": "code",
   "execution_count": 69,
   "metadata": {},
   "outputs": [
    {
     "data": {
      "text/plain": [
       "2543"
      ]
     },
     "execution_count": 69,
     "metadata": {},
     "output_type": "execute_result"
    }
   ],
   "source": [
    "pybdsf_artifacts = pybdsf_cleaned[pybdsf_cleaned['Source_Name'].\n",
    "                    isin(artifacts_cleaned['Source_Name'])]\n",
    "len(pybdsf_artifacts)"
   ]
  },
  {
   "cell_type": "markdown",
   "metadata": {},
   "source": [
    "Creating a diagnosis artifact table"
   ]
  },
  {
   "cell_type": "code",
   "execution_count": 70,
   "metadata": {},
   "outputs": [],
   "source": [
    "pybdsf_artifacts_df = pd.DataFrame({\n",
    "    'pybdsf_name':pybdsf_artifacts['Source_Name'],\n",
    "    'flag':16,\n",
    "    'association_name': 'NULL'})"
   ]
  },
  {
   "cell_type": "markdown",
   "metadata": {},
   "source": [
    "Updating the output table"
   ]
  },
  {
   "cell_type": "code",
   "execution_count": 71,
   "metadata": {},
   "outputs": [
    {
     "name": "stderr",
     "output_type": "stream",
     "text": [
      "test_len_output_df (__main__.Test_output) ... ok\n",
      "\n",
      "----------------------------------------------------------------------\n",
      "Ran 1 test in 0.003s\n",
      "\n",
      "OK\n"
     ]
    },
    {
     "data": {
      "text/plain": [
       "<unittest.main.TestProgram at 0x126621810>"
      ]
     },
     "execution_count": 71,
     "metadata": {},
     "output_type": "execute_result"
    }
   ],
   "source": [
    "output_df = output_df.append(pybdsf_artifacts_df, ignore_index=True)\n",
    "unittest.main(argv=['ignored', '-v'], exit=False)"
   ]
  },
  {
   "cell_type": "markdown",
   "metadata": {},
   "source": [
    "### Sources missing from the optical catalogue are now being classified as artifacts"
   ]
  },
  {
   "cell_type": "markdown",
   "metadata": {},
   "source": [
    "PyBDSF raw catalogue sources that are not on the output table and not anywhere are now being classified as artifacts"
   ]
  },
  {
   "cell_type": "code",
   "execution_count": 72,
   "metadata": {},
   "outputs": [
    {
     "name": "stdout",
     "output_type": "stream",
     "text": [
      "48\n"
     ]
    }
   ],
   "source": [
    "artifacts_not_anywhere = pybdsf_cleaned[~pybdsf_cleaned['Source_Name'].isin(output_df['pybdsf_name'])]\n",
    "print len(artifacts_not_anywhere)"
   ]
  },
  {
   "cell_type": "code",
   "execution_count": 73,
   "metadata": {},
   "outputs": [],
   "source": [
    "artifacts_not_anywhere_df = pd.DataFrame({\n",
    "    'pybdsf_name': artifacts_not_anywhere['Source_Name'],\n",
    "    'flag': 32,\n",
    "    'association_name': 'NULL'})"
   ]
  },
  {
   "cell_type": "markdown",
   "metadata": {},
   "source": [
    "Appending the new artifacts the pybdsf artifact table"
   ]
  },
  {
   "cell_type": "code",
   "execution_count": 74,
   "metadata": {},
   "outputs": [
    {
     "data": {
      "text/plain": [
       "2591"
      ]
     },
     "execution_count": 74,
     "metadata": {},
     "output_type": "execute_result"
    }
   ],
   "source": [
    "pybdsf_artifacts_df = pybdsf_artifacts_df.append(artifacts_not_anywhere_df,ignore_index=True)\n",
    "len(pybdsf_artifacts_df)"
   ]
  },
  {
   "cell_type": "markdown",
   "metadata": {},
   "source": [
    "### Updating the output table"
   ]
  },
  {
   "cell_type": "code",
   "execution_count": 75,
   "metadata": {},
   "outputs": [
    {
     "name": "stderr",
     "output_type": "stream",
     "text": [
      "test_len_output_df (__main__.Test_output) ... ok\n",
      "\n",
      "----------------------------------------------------------------------\n",
      "Ran 1 test in 0.002s\n",
      "\n",
      "OK\n"
     ]
    },
    {
     "data": {
      "text/plain": [
       "<unittest.main.TestProgram at 0x121100990>"
      ]
     },
     "execution_count": 75,
     "metadata": {},
     "output_type": "execute_result"
    }
   ],
   "source": [
    "output_df = output_df.append(artifacts_not_anywhere_df,ignore_index=True)\n",
    "unittest.main(argv=['ignored', '-v'], exit=False)"
   ]
  },
  {
   "cell_type": "markdown",
   "metadata": {},
   "source": [
    "***\n",
    "## Output table\n",
    "***"
   ]
  },
  {
   "cell_type": "code",
   "execution_count": 76,
   "metadata": {},
   "outputs": [
    {
     "name": "stdout",
     "output_type": "stream",
     "text": [
      "326591\n",
      "association_name    object\n",
      "flag                object\n",
      "pybdsf_name         object\n",
      "dtype: object\n",
      "1.0     313161\n",
      "8.0       9007\n",
      "16.0      2543\n",
      "4.0       1575\n",
      "12.0       247\n",
      "32.0        48\n",
      "3.0         10\n",
      "Name: flag, dtype: int64\n"
     ]
    }
   ],
   "source": [
    "print len(output_df) \n",
    "print output_df.dtypes\n",
    "print output_df['flag'].value_counts()"
   ]
  },
  {
   "cell_type": "markdown",
   "metadata": {},
   "source": [
    "** Creating an astropy table **"
   ]
  },
  {
   "cell_type": "code",
   "execution_count": 77,
   "metadata": {},
   "outputs": [],
   "source": [
    "output_df['flag'] = pd.to_numeric(output_df['flag'])"
   ]
  },
  {
   "cell_type": "code",
   "execution_count": 78,
   "metadata": {},
   "outputs": [],
   "source": [
    "output_table = Table.from_pandas(output_df)"
   ]
  },
  {
   "cell_type": "markdown",
   "metadata": {},
   "source": [
    "** Writing to a fits file **"
   ]
  },
  {
   "cell_type": "code",
   "execution_count": 79,
   "metadata": {},
   "outputs": [],
   "source": [
    "output_table.write('output_table.fits', overwrite = True)"
   ]
  },
  {
   "cell_type": "code",
   "execution_count": 80,
   "metadata": {},
   "outputs": [],
   "source": [
    "# Can also be saved in as a csv file directly from the pandas table\n",
    "# output_df.to_csv('output_table.csv', index=False)"
   ]
  }
 ],
 "metadata": {
  "kernelspec": {
   "display_name": "Python [conda env:miniconda2]",
   "language": "python",
   "name": "conda-env-miniconda2-py"
  },
  "language_info": {
   "codemirror_mode": {
    "name": "ipython",
    "version": 2
   },
   "file_extension": ".py",
   "mimetype": "text/x-python",
   "name": "python",
   "nbconvert_exporter": "python",
   "pygments_lexer": "ipython2",
   "version": "2.7.14"
  }
 },
 "nbformat": 4,
 "nbformat_minor": 2
}
