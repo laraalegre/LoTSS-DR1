{
 "cells": [
  {
   "cell_type": "markdown",
   "metadata": {},
   "source": [
    "# LoTSS DR1\n",
    "## Clean catalogues"
   ]
  },
  {
   "cell_type": "markdown",
   "metadata": {
    "slideshow": {
     "slide_type": "-"
    }
   },
   "source": [
    "***\n",
    "\n",
    "* [Original catalogues](#Loading-the-original-catalogues) \n",
    "* [Cleaned catalogues](#Output-the-cleaned-catalogues)\n"
   ]
  },
  {
   "cell_type": "markdown",
   "metadata": {},
   "source": [
    "#### Libraries "
   ]
  },
  {
   "cell_type": "code",
   "execution_count": 1,
   "metadata": {},
   "outputs": [],
   "source": [
    "import os\n",
    "import numpy as np\n",
    "from astropy.table import Table, join, Column\n",
    "from astropy.io import fits"
   ]
  },
  {
   "cell_type": "markdown",
   "metadata": {},
   "source": [
    "***\n",
    "## Catalogues\n",
    "***"
   ]
  },
  {
   "cell_type": "markdown",
   "metadata": {},
   "source": [
    "### Loading the original catalogues"
   ]
  },
  {
   "cell_type": "markdown",
   "metadata": {},
   "source": [
    "Set the path where the data can be found"
   ]
  },
  {
   "cell_type": "code",
   "execution_count": 2,
   "metadata": {},
   "outputs": [],
   "source": [
    "data_path = 'data'"
   ]
  },
  {
   "cell_type": "code",
   "execution_count": 3,
   "metadata": {},
   "outputs": [],
   "source": [
    "# Creating a function to read the fits catalogues\n",
    "def read_fits(file):\n",
    "    'converts a fits file to an astropy table'\n",
    "    data_file = os.path.join(data_path, file)\n",
    "    with fits.open(data_file) as cat:\n",
    "        table = Table(cat[1].data)\n",
    "        return table"
   ]
  },
  {
   "cell_type": "markdown",
   "metadata": {},
   "source": [
    "Reading the catalogues"
   ]
  },
  {
   "cell_type": "code",
   "execution_count": 4,
   "metadata": {},
   "outputs": [],
   "source": [
    "# Raw PyBDSF catalogues\n",
    "pybdsf = read_fits('LOFAR_HBA_T1_DR1_catalog_v0.9.srl.fixed.fits')\n",
    "gaussians = read_fits('LOFAR_HBA_T1_DR1_catalog_v0.99.gaus.fits')\n",
    "# V1.2 LoTSS DR1 catalogues\n",
    "optical = read_fits('LOFAR_HBA_T1_DR1_merge_ID_optical_f_v1.2.fits')\n",
    "components = read_fits('LOFAR_HBA_T1_DR1_merge_ID_v1.2.comp.fits')\n",
    "# Artifacts catalogue\n",
    "artifacts = read_fits('LOFAR_HBA_T1_DR1_merge_ID_v1.1.art.fits')"
   ]
  },
  {
   "cell_type": "markdown",
   "metadata": {},
   "source": [
    "### Cleaning the original catalogues"
   ]
  },
  {
   "cell_type": "markdown",
   "metadata": {},
   "source": [
    "####  Renaming Sources"
   ]
  },
  {
   "cell_type": "markdown",
   "metadata": {},
   "source": [
    "Renaming a source that was picked on 2 different mosaics (it has the same `Source_Name`) and which was classified as an artifact in one mosaic and as a source in other. The source is renamed **replacing the last character of the original name by 'B'**. This is done on both **Artifacts catalogue** and **PyBDSF raw catalogue** (the source appears twice on the PyBDSF catalogue)."
   ]
  },
  {
   "cell_type": "code",
   "execution_count": 5,
   "metadata": {},
   "outputs": [],
   "source": [
    "source_names, source_times = np.unique(pybdsf['Source_Name'], return_counts=True)"
   ]
  },
  {
   "cell_type": "code",
   "execution_count": 6,
   "metadata": {},
   "outputs": [
    {
     "data": {
      "text/html": [
       "&lt;Column name=&apos;Source_Name&apos; dtype=&apos;str22&apos; length=1&gt;\n",
       "<table>\n",
       "<tr><td>ILTJ132633.10+484745.7</td></tr>\n",
       "</table>"
      ],
      "text/plain": [
       "<Column name='Source_Name' dtype='str22' length=1>\n",
       "ILTJ132633.10+484745.7"
      ]
     },
     "execution_count": 6,
     "metadata": {},
     "output_type": "execute_result"
    }
   ],
   "source": [
    "# Taking the name of the source (duplicated entry) from the pybdsf catalogue\n",
    "source_names[source_times != 1]"
   ]
  },
  {
   "cell_type": "markdown",
   "metadata": {},
   "source": [
    "##### Renaming on the Artifact catalogue \n",
    "\n",
    "Create a copy of the catalogue"
   ]
  },
  {
   "cell_type": "code",
   "execution_count": 7,
   "metadata": {},
   "outputs": [],
   "source": [
    "# Creating a copy for the new artifact catalogue\n",
    "artifacts_cleaned = artifacts.copy()"
   ]
  },
  {
   "cell_type": "markdown",
   "metadata": {},
   "source": [
    "We look for the source name and modify the last character by 'B'"
   ]
  },
  {
   "cell_type": "code",
   "execution_count": 8,
   "metadata": {},
   "outputs": [
    {
     "data": {
      "text/plain": [
       "'ILTJ132633.10+484745.B'"
      ]
     },
     "execution_count": 8,
     "metadata": {},
     "output_type": "execute_result"
    }
   ],
   "source": [
    "source_name = source_names[source_times != 1][0]\n",
    "new_source_name = source_name[0:-1]+'B'\n",
    "#new_source_name = source_name+'B'\n",
    "new_source_name"
   ]
  },
  {
   "cell_type": "code",
   "execution_count": 9,
   "metadata": {},
   "outputs": [],
   "source": [
    "# Replacing the original name of the artifact on the artifacts catalogue\n",
    "artifacts_cleaned['Source_Name'][artifacts_cleaned['Source_Name'] == source_name] = new_source_name"
   ]
  },
  {
   "cell_type": "markdown",
   "metadata": {},
   "source": [
    "##### Renaming on the Pybdsf catalogue\n",
    "\n",
    "Create a copy of the catalogue"
   ]
  },
  {
   "cell_type": "code",
   "execution_count": 10,
   "metadata": {},
   "outputs": [],
   "source": [
    "# Creating a copy for the new pybdsf catalogue\n",
    "pybdsf_cleaned = pybdsf.copy()"
   ]
  },
  {
   "cell_type": "code",
   "execution_count": 11,
   "metadata": {},
   "outputs": [],
   "source": [
    "# Taking the mosaic where the 'true source' is\n",
    "true_source_mosaic = components[components['Source_Name'] == source_name]['Mosaic_ID'][0]"
   ]
  },
  {
   "cell_type": "code",
   "execution_count": 12,
   "metadata": {},
   "outputs": [],
   "source": [
    "# Replacing the original name of the artifact on the pybdsf catalogue\n",
    "# Takies just the 8 first characters to match with the pybdsf Mosaic_ID dtype\n",
    "pybdsf_cleaned['Source_Name'][(pybdsf_cleaned['Source_Name'] == source_name) &\n",
    "                               (pybdsf_cleaned['Mosaic_ID'] != true_source_mosaic[0:len(pybdsf['Mosaic_ID'][0])])]\\\n",
    "                                = new_source_name"
   ]
  },
  {
   "cell_type": "markdown",
   "metadata": {},
   "source": [
    "##### Renaming on the gaussian catalogue"
   ]
  },
  {
   "cell_type": "code",
   "execution_count": 13,
   "metadata": {},
   "outputs": [],
   "source": [
    "gaussians_cleaned = gaussians.copy()"
   ]
  },
  {
   "cell_type": "code",
   "execution_count": 14,
   "metadata": {},
   "outputs": [],
   "source": [
    "gaussians_cleaned['Source_Name'][(gaussians_cleaned['Source_Name'] == source_name) &\n",
    "               (gaussians_cleaned['Mosaic_ID'] != true_source_mosaic)] = new_source_name"
   ]
  },
  {
   "cell_type": "markdown",
   "metadata": {},
   "source": [
    "#### Eliminating duplicated entries"
   ]
  },
  {
   "cell_type": "markdown",
   "metadata": {},
   "source": [
    "`Source_Name` entries are duplicated in LoTSS DR1 **Components catalogue** (9 equal `Souce_Name` components). These are entries where `Source_Name = Component_Name` (which is equal to pybdsf name)."
   ]
  },
  {
   "cell_type": "code",
   "execution_count": 15,
   "metadata": {},
   "outputs": [
    {
     "data": {
      "text/plain": [
       "324623"
      ]
     },
     "execution_count": 15,
     "metadata": {},
     "output_type": "execute_result"
    }
   ],
   "source": [
    "len(components)"
   ]
  },
  {
   "cell_type": "code",
   "execution_count": 16,
   "metadata": {},
   "outputs": [
    {
     "data": {
      "text/html": [
       "&lt;Column name=&apos;Component_Name&apos; dtype=&apos;str24&apos; length=1&gt;\n",
       "<table>\n",
       "<tr><td>ILTJ115037.81+465929.4</td></tr>\n",
       "</table>"
      ],
      "text/plain": [
       "<Column name='Component_Name' dtype='str24' length=1>\n",
       "ILTJ115037.81+465929.4"
      ]
     },
     "execution_count": 16,
     "metadata": {},
     "output_type": "execute_result"
    }
   ],
   "source": [
    "component_names, component_count = np.unique(components['Component_Name'], return_counts = True)\n",
    "component_names[component_count > 1]"
   ]
  },
  {
   "cell_type": "code",
   "execution_count": 17,
   "metadata": {},
   "outputs": [],
   "source": [
    "component_names, component_index = np.unique(components['Component_Name'], return_index = True)"
   ]
  },
  {
   "cell_type": "code",
   "execution_count": 18,
   "metadata": {},
   "outputs": [],
   "source": [
    "# Eliminating these from the components catalogue (and just keeping the first entry)\n",
    "clean_comp = components[component_index]"
   ]
  },
  {
   "cell_type": "code",
   "execution_count": 19,
   "metadata": {},
   "outputs": [
    {
     "data": {
      "text/plain": [
       "324615"
      ]
     },
     "execution_count": 19,
     "metadata": {},
     "output_type": "execute_result"
    }
   ],
   "source": [
    "len(clean_comp)"
   ]
  },
  {
   "cell_type": "markdown",
   "metadata": {},
   "source": [
    "#### Eliminating a component on the components catalogue that is an artifact"
   ]
  },
  {
   "cell_type": "code",
   "execution_count": 20,
   "metadata": {},
   "outputs": [
    {
     "data": {
      "text/plain": [
       "324615"
      ]
     },
     "execution_count": 20,
     "metadata": {},
     "output_type": "execute_result"
    }
   ],
   "source": [
    "len(clean_comp)"
   ]
  },
  {
   "cell_type": "code",
   "execution_count": 21,
   "metadata": {},
   "outputs": [
    {
     "data": {
      "text/html": [
       "&lt;Column name=&apos;Source_Name&apos; dtype=&apos;str24&apos; length=1&gt;\n",
       "<table>\n",
       "<tr><td>ILTJ115320.73+552641.4</td></tr>\n",
       "</table>"
      ],
      "text/plain": [
       "<Column name='Source_Name' dtype='str24' length=1>\n",
       "ILTJ115320.73+552641.4"
      ]
     },
     "execution_count": 21,
     "metadata": {},
     "output_type": "execute_result"
    }
   ],
   "source": [
    "# This is an artifact from the artifact catalogue that was not removed from the components catalogue\n",
    "component_artifact = artifacts_cleaned[np.isin(artifacts_cleaned['Source_Name'], clean_comp['Component_Name'])]\n",
    "component_artifact['Source_Name']"
   ]
  },
  {
   "cell_type": "code",
   "execution_count": 22,
   "metadata": {},
   "outputs": [],
   "source": [
    "components_cleaned = clean_comp[~np.isin(clean_comp['Component_Name'], artifacts_cleaned['Source_Name'])]"
   ]
  },
  {
   "cell_type": "markdown",
   "metadata": {},
   "source": [
    "### Output the cleaned catalogues\n",
    "\n",
    "The cleaned tables will be written to the data area to allow their posterior use."
   ]
  },
  {
   "cell_type": "code",
   "execution_count": 23,
   "metadata": {},
   "outputs": [],
   "source": [
    "artifacts_cleaned.write(\"artifacts.fits\", overwrite = True)\n",
    "pybdsf_cleaned.write(\"pybdsf.fits\", overwrite = True)\n",
    "components_cleaned.write(\"components.fits\", overwrite = True)\n",
    "gaussians_cleaned.write(\"gaussians.fits\", overwrite = True)\n",
    "optical.write(\"optical.fits\", overwrite = True)"
   ]
  }
 ],
 "metadata": {
  "kernelspec": {
   "display_name": "Python 3",
   "language": "python",
   "name": "python3"
  },
  "language_info": {
   "codemirror_mode": {
    "name": "ipython",
    "version": 3
   },
   "file_extension": ".py",
   "mimetype": "text/x-python",
   "name": "python",
   "nbconvert_exporter": "python",
   "pygments_lexer": "ipython3",
   "version": "3.7.0"
  }
 },
 "nbformat": 4,
 "nbformat_minor": 2
}
